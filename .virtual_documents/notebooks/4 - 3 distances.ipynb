import pandas as pd


geocoded_area = pd.read_csv('combined_geocoded_areas.csv')
sales_data = pd.read_csv('../data/snp_dld_2024_transactions.csv')


location_columns_sales = [
    "project_name_en",
    "nearest_landmark_en",
    "nearest_metro_en",
    "nearest_mall_en",
    "master_project_en",
]




# Grouping by 'area_en' and counting distinct values for each location column
location_counts = sales_data.groupby("area_en")[location_columns_sales].nunique()

# Rename columns to reflect the count information
location_counts = location_counts.rename(columns={col: f"{col}_count" for col in location_columns_sales if col != "area_en"})




location_counts.info()



# Merge the DataFrames on 'area_en'
merged_df = pd.merge(
    location_counts,  # Use location_counts as the base to preserve its order
    geocoded_area,
    on="area_en",
    how="left"  # Ensure all rows in location_counts are retained
)

# Save the combined DataFrame to a CSV
merged_df.to_csv("ordered_combined_geocoded_with_counts.csv", index=False)

# Print a summary
print(f"Combined DataFrame saved with shape: {merged_df.shape}")
print(merged_df.head())






sales_data['nearest_landmark_en'].unique()


import pandas as pd
from geopy.geocoders import Nominatim
from geopy.exc import GeocoderTimedOut
import os
import time

# Initialize geolocator
geolocator = Nominatim(user_agent="geoapi")

# Landmarks to process
landmarks = [
    'Sports City Swimming Academy', 'IMG World Adventures',
    'Dubai International Airport', 'Downtown Dubai', 'Motor City',
    'Burj Al Arab', 'Dubai Cycling Course', 'Burj Khalifa',
    'Hamdan Sports Complex', 'Global Village', 'Expo 2020 Site',
    'Al Makhtoum International Airport', 'Dubai Parks and Resorts',
    'Jabel Ali'
]

# Define Dubai's approximate geographic bounds
DUBAI_BOUNDS = {
    "north": 25.40,  # Approx. northern latitude
    "south": 24.85,  # Approx. southern latitude
    "east": 55.60,   # Approx. eastern longitude
    "west": 55.00    # Approx. western longitude
}

# Load cached coordinates if available
cache_file = "landmark_coordinates.csv"
if os.path.exists(cache_file):
    landmark_coords = pd.read_csv(cache_file)
    print(f"Loaded cached landmark coordinates from '{cache_file}'.")
else:
    # Initialize empty DataFrame
    landmark_coords = pd.DataFrame(columns=['landmark', 'latitude', 'longitude'])

# Get a list of landmarks already processed
processed_landmarks = set(landmark_coords['landmark'])

# Find missing landmarks
missing_landmarks = [lm for lm in landmarks if lm not in processed_landmarks]
print(f"Missing landmarks to process: {missing_landmarks}")

# Function to check if coordinates are within Dubai's boundaries
def is_within_dubai(lat, lon):
    if lat is None or lon is None:
        return False
    return DUBAI_BOUNDS["south"] <= lat <= DUBAI_BOUNDS["north"] and DUBAI_BOUNDS["west"] <= lon <= DUBAI_BOUNDS["east"]

# Function to fetch coordinates for a given landmark
def fetch_coordinates(landmark):
    try:
        location = geolocator.geocode(f"{landmark}, Dubai")
        if location and is_within_dubai(location.latitude, location.longitude):
            print(f"Found coordinates for '{landmark}': ({location.latitude}, {location.longitude})")
            return location.latitude, location.longitude
        else:
            print(f"Could not find valid coordinates for '{landmark}'.")
            return None, None
    except GeocoderTimedOut:
        print(f"Timeout error while fetching coordinates for '{landmark}'. Retrying...")
        return fetch_coordinates(landmark)
    except Exception as e:
        print(f"Error fetching coordinates for '{landmark}': {e}")
        return None, None

# Process missing landmarks
for landmark in missing_landmarks:
    lat, lon = fetch_coordinates(landmark)
    # Append the result to the DataFrame
    landmark_coords = pd.concat(
        [landmark_coords, pd.DataFrame({'landmark': [landmark], 'latitude': [lat], 'longitude': [lon]})],
        ignore_index=True
    )
    time.sleep(1)  # Respect API rate limits

# Save updated coordinates to cache
landmark_coords.to_csv(cache_file, index=False)
print(f"Updated landmark coordinates saved to '{cache_file}'.")






sales_data['nearest_mall_en'].unique()


import pandas as pd
from geopy.geocoders import Nominatim
from geopy.exc import GeocoderTimedOut
import os
import time

# Initialize geolocator
geolocator = Nominatim(user_agent="geoapi")

# Load dataset and extract unique nearest malls
nearest_malls = sales_data['nearest_mall_en'].dropna().unique()

# Define Dubai's approximate geographic bounds
DUBAI_BOUNDS = {
    "north": 25.40,  # Approx. northern latitude
    "south": 24.85,  # Approx. southern latitude
    "east": 55.60,   # Approx. eastern longitude
    "west": 55.00    # Approx. western longitude
}

# Load cached coordinates if available
cache_file = "mall_coordinates.csv"
if os.path.exists(cache_file):
    mall_coords = pd.read_csv(cache_file)
    print(f"Loaded cached mall coordinates from '{cache_file}'.")
else:
    # Initialize empty DataFrame
    mall_coords = pd.DataFrame(columns=['mall', 'latitude', 'longitude'])

# Get a list of malls already processed
processed_malls = set(mall_coords['mall'])

# Find missing malls
missing_malls = [mall for mall in nearest_malls if mall not in processed_malls]
print(f"Missing malls to process: {missing_malls}")

# Function to check if coordinates are within Dubai's boundaries
def is_within_dubai(lat, lon):
    if lat is None or lon is None:
        return False
    return DUBAI_BOUNDS["south"] <= lat <= DUBAI_BOUNDS["north"] and DUBAI_BOUNDS["west"] <= lon <= DUBAI_BOUNDS["east"]

# Function to fetch coordinates for a given mall
def fetch_coordinates(mall):
    try:
        location = geolocator.geocode(f"{mall}, Dubai")
        if location and is_within_dubai(location.latitude, location.longitude):
            print(f"Found coordinates for '{mall}': ({location.latitude}, {location.longitude})")
            return location.latitude, location.longitude
        else:
            print(f"Could not find valid coordinates for '{mall}'.")
            return None, None
    except GeocoderTimedOut:
        print(f"Timeout error while fetching coordinates for '{mall}'. Retrying...")
        return fetch_coordinates(mall)
    except Exception as e:
        print(f"Error fetching coordinates for '{mall}': {e}")
        return None, None

# Process missing malls
for mall in missing_malls:
    lat, lon = fetch_coordinates(mall)
    # Append the result to the DataFrame
    mall_coords = pd.concat(
        [mall_coords, pd.DataFrame({'mall': [mall], 'latitude': [lat], 'longitude': [lon]})],
        ignore_index=True
    )
    time.sleep(1)  # Respect API rate limits

# Save updated coordinates to cache
mall_coords.to_csv(cache_file, index=False)
print(f"Updated mall coordinates saved to '{cache_file}'.")



sales_data['master_project_en'].unique()


import pandas as pd
from geopy.geocoders import Nominatim
from geopy.exc import GeocoderTimedOut
import os
import time

# Initialize geolocator
geolocator = Nominatim(user_agent="geoapi")

# Load dataset and extract unique master projects
master_projects = sales_data['master_project_en'].dropna().unique()

# Define Dubai's approximate geographic bounds
DUBAI_BOUNDS = {
    "north": 25.40,  # Approx. northern latitude
    "south": 24.85,  # Approx. southern latitude
    "east": 55.60,   # Approx. eastern longitude
    "west": 55.00    # Approx. western longitude
}

# Load cached coordinates if available
cache_file = "master_project_coordinates.csv"
if os.path.exists(cache_file):
    master_project_coords = pd.read_csv(cache_file)
    print(f"Loaded cached master project coordinates from '{cache_file}'.")
else:
    # Initialize empty DataFrame
    master_project_coords = pd.DataFrame(columns=['master_project', 'latitude', 'longitude'])

# Get a list of master projects already processed
processed_projects = set(master_project_coords['master_project'])

# Find missing master projects
missing_projects = [project for project in master_projects if project not in processed_projects]
print(f"Missing master projects to process: {missing_projects}")

# Function to check if coordinates are within Dubai's boundaries
def is_within_dubai(lat, lon):
    if lat is None or lon is None:
        return False
    return DUBAI_BOUNDS["south"] <= lat <= DUBAI_BOUNDS["north"] and DUBAI_BOUNDS["west"] <= lon <= DUBAI_BOUNDS["east"]

# Function to fetch coordinates for a given master project
def fetch_coordinates(project):
    try:
        location = geolocator.geocode(f"{project}, Dubai")
        if location and is_within_dubai(location.latitude, location.longitude):
            print(f"Found coordinates for '{project}': ({location.latitude}, {location.longitude})")
            return location.latitude, location.longitude
        else:
            print(f"Could not find valid coordinates for '{project}'.")
            return None, None
    except GeocoderTimedOut:
        print(f"Timeout error while fetching coordinates for '{project}'. Retrying...")
        return fetch_coordinates(project)
    except Exception as e:
        print(f"Error fetching coordinates for '{project}': {e}")
        return None, None

# Process missing master projects
for project in missing_projects:
    lat, lon = fetch_coordinates(project)
    # Append the result to the DataFrame
    master_project_coords = pd.concat(
        [master_project_coords, pd.DataFrame({'master_project': [project], 'latitude': [lat], 'longitude': [lon]})],
        ignore_index=True
    )
    time.sleep(1)  # Respect API rate limits

# Save updated coordinates to cache
master_project_coords.to_csv(cache_file, index=False)
print(f"Updated master project coordinates saved to '{cache_file}'.")




