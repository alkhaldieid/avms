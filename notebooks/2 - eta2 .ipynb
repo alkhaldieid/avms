{
 "cells": [
  {
   "cell_type": "code",
   "execution_count": 76,
   "metadata": {},
   "outputs": [],
   "source": [
    "import pandas as pd\n",
    "import matplotlib.pyplot as plt\n",
    "import seaborn as sns"
   ]
  },
  {
   "cell_type": "code",
   "execution_count": 77,
   "metadata": {},
   "outputs": [],
   "source": [
    "# Load the datasets\n",
    "original_sales_data = pd.read_csv('../data/snp_dld_2024_transactions.csv', low_memory=False)\n",
    "original_rentals_data = pd.read_csv('../data/snp_dld_2024_rents.csv', low_memory=False)"
   ]
  },
  {
   "cell_type": "code",
   "execution_count": 78,
   "metadata": {},
   "outputs": [],
   "source": [
    "columns_to_drop_sales = [\n",
    "    'transaction_number',  # ID column\n",
    "    'entry_id',            # Metadata\n",
    "    'meta_ts',             # Metadata timestamp\n",
    "    'master_project_en',   # Very few non-null values\n",
    "    'master_project_ar',   # Very few non-null values\n",
    "    'property_type_ar',    # Duplicate of property_type_en\n",
    "    'property_subtype_ar', # Duplicate of property_subtype_en\n",
    "    'rooms_ar',            # Duplicate of rooms_en\n",
    "    'project_name_ar',     # Duplicate of project_name_en\n",
    "    'area_ar',             # Duplicate of area_en\n",
    "    'nearest_landmark_ar', # Duplicate of nearest_landmark_en\n",
    "    'nearest_metro_ar',    # Duplicate of nearest_metro_en\n",
    "    'nearest_mall_ar',      # Duplicate of nearest_mall_en\n",
    "    'parcel_id',  # not needed\n",
    "    'transaction_type_en', #Duplicate of transaction_type_id\n",
    "    'transaction_subtype_en', #Constant\n",
    "    'transaction_subtype_id', #Constant\n",
    "    'property_id', #Constant\n",
    "    'property_type_id', #Constant\n",
    "    'property_subtype_id', #Constant\n",
    "    'building_age', #Constant\n",
    "    'area_id', #Constant\n",
    "    'is_freehold_text', #duplicate of is_freehold\n",
    "    'property_usage_en', # Duplicate of property_usage_id\n",
    "    'transaction_datetime_year',  #Constant after handling dates\n",
    "    'req_from_year',  #Constant after handling dates\n",
    "    'req_from_day',  #Constant after handling dates\n",
    "    'req_to_year', #Constant after handling dates\n",
    "    'parking' # Replaced with parking count\n",
    "]\n",
    "\n",
    "# List of columns to drop from rentals_data\n",
    "columns_to_drop_rentals = [\n",
    "    'ejari_contract_number', # ID column\n",
    "    'land_property_id',      # Redundant ID column\n",
    "    'entry_id',              # Metadata\n",
    "    'meta_ts',               # Metadata timestamp\n",
    "    'master_project_en',     # Very few non-null values\n",
    "    'master_project_ar',     # Very few non-null values\n",
    "    'property_type_ar',      # Duplicate of property_type_en\n",
    "    'property_subtype_ar',   # Duplicate of property_subtype_en\n",
    "    'property_usage_ar',     # Duplicate of property_usage_en\n",
    "    'project_name_ar',       # Duplicate of project_name_en\n",
    "    'area_ar',               # Duplicate of area_en\n",
    "    'nearest_landmark_ar',   # Duplicate of nearest_landmark_en\n",
    "    'nearest_metro_ar',      # Duplicate of nearest_metro_en\n",
    "    'nearest_mall_ar',        # Duplicate of nearest_mall_en\n",
    "    'property_id',   #constant\n",
    "    'property_usage_id', #constant\n",
    "    'area_id',   #constant\n",
    "    'ejari_property_type_id',   #constant\n",
    "    'ejari_property_sub_type_id',  #constant\n",
    "    'parking', #97% missing data\n",
    "    'parcel_id', # negative correlation\n",
    "    'registration_date_year',  #Constant after handling dates\n",
    "    'req_from_year',  #Constant after handling dates\n",
    "    'req_from_day',  #Constant after handling dates\n",
    "    'req_to_year',  #Constant after handling dates\n",
    "    'req_from_year',  #Constant after handling dates\n",
    "    'req_from_day', #Constant after handling dates\n",
    "    'req_to_year',  #Constant after handling dates\n",
    "    'registration_date_year',  #Constant after handling dates\n",
    "    'req_from_year',  #Constant after handling dates\n",
    "    'req_from_day',  #Constant after handling dates\n",
    "    'req_to_year', #Constant after handling dates\n",
    "    'is_freehold_text' # duplicate of is_freehold\n",
    "]"
   ]
  },
  {
   "cell_type": "markdown",
   "metadata": {},
   "source": [
    "Handle Dates"
   ]
  },
  {
   "cell_type": "code",
   "execution_count": 79,
   "metadata": {},
   "outputs": [],
   "source": [
    "def process_date_columns(df, date_columns):\n",
    "    for col in date_columns:\n",
    "        if col in df.columns:\n",
    "            df[col] = pd.to_datetime(df[col], errors='coerce')\n",
    "            df[f\"{col}_year\"] = df[col].dt.year\n",
    "            df[f\"{col}_month\"] = df[col].dt.month\n",
    "            df[f\"{col}_day\"] = df[col].dt.day\n",
    "            df[f\"{col}_weekday\"] = df[col].dt.weekday\n",
    "            df[f\"{col}_dayofyear\"] = df[col].dt.dayofyear\n",
    "    df.drop(columns=date_columns, inplace=True, errors='ignore')\n",
    "    return df\n",
    "\n",
    "sales_date_columns = ['transaction_datetime', 'req_from', 'req_to']\n",
    "rentals_date_columns = ['registration_date', 'contract_start_date', 'contract_end_date', 'req_from', 'req_to']\n",
    "sales_data = process_date_columns(original_sales_data, sales_date_columns)\n",
    "rentals_data = process_date_columns(original_rentals_data, rentals_date_columns)"
   ]
  },
  {
   "cell_type": "markdown",
   "metadata": {},
   "source": [
    "# Handle Parking in Sales values"
   ]
  },
  {
   "cell_type": "code",
   "execution_count": 80,
   "metadata": {},
   "outputs": [
    {
     "name": "stdout",
     "output_type": "stream",
     "text": [
      "       parking  parking_count\n",
      "162801  B2-081              1\n",
      "162802     NaN              0\n",
      "162803  B2-140              1\n",
      "162804   G-114              1\n",
      "162805   G-127              1\n"
     ]
    }
   ],
   "source": [
    "import re\n",
    "import pandas as pd\n",
    "\n",
    "def calculate_parking_count(value):\n",
    "    \"\"\"\n",
    "    Calculate the parking count based on the given strategy:\n",
    "    - Fields separated by commas are counted as separate spots unless 'to' is present.\n",
    "    - If 'to' is present, calculate the range of parking spots.\n",
    "    - Single identifiers like 'G-127' are counted as one spot.\n",
    "    \"\"\"\n",
    "    if pd.isna(value):\n",
    "        return 0  # No information\n",
    "\n",
    "    total_count = 0\n",
    "    fields = str(value).split(\",\")  # Split by commas\n",
    "    for field in fields:\n",
    "        field = field.strip()  # Remove extra whitespace\n",
    "        if re.search(r\"\\bto\\b\", field, re.IGNORECASE):  # Check for 'to' (case insensitive)\n",
    "            # Extract numbers in the range and calculate spots\n",
    "            numbers = [int(num) for num in re.findall(r\"\\d+\", field)]\n",
    "            if len(numbers) == 2:  # Range is valid\n",
    "                total_count += abs(numbers[1] - numbers[0]) + 1\n",
    "        elif re.search(r\"\\d+\", field):  # Single numeric identifier (e.g., G-127)\n",
    "            total_count += 1\n",
    "        else:\n",
    "            total_count += 0  # Invalid or non-informative field\n",
    "    return total_count\n",
    "\n",
    "# Apply the logic to the `parking` column\n",
    "sales_data['parking_count'] = sales_data['parking'].apply(calculate_parking_count)\n",
    "\n",
    "# Save results for validation\n",
    "sales_data[['parking', 'parking_count']].to_csv(\"processed_parking_count.csv\", index=False)\n",
    "\n",
    "# Example check\n",
    "print(sales_data[['parking', 'parking_count']].tail())"
   ]
  },
  {
   "cell_type": "markdown",
   "metadata": {},
   "source": [
    "# Drop columns"
   ]
  },
  {
   "cell_type": "code",
   "execution_count": 81,
   "metadata": {},
   "outputs": [],
   "source": [
    "sales_data.drop(columns=columns_to_drop_sales, inplace=True)\n",
    "rentals_data.drop(columns=columns_to_drop_rentals, inplace=True)\n"
   ]
  },
  {
   "cell_type": "code",
   "execution_count": 83,
   "metadata": {},
   "outputs": [
    {
     "name": "stdout",
     "output_type": "stream",
     "text": [
      "<class 'pandas.core.frame.DataFrame'>\n",
      "RangeIndex: 162806 entries, 0 to 162805\n",
      "Data columns (total 30 columns):\n",
      " #   Column                          Non-Null Count   Dtype  \n",
      "---  ------                          --------------   -----  \n",
      " 0   transaction_type_id             162806 non-null  int64  \n",
      " 1   registration_type_en            162806 non-null  object \n",
      " 2   property_usage_id               162806 non-null  int64  \n",
      " 3   amount                          162806 non-null  float64\n",
      " 4   total_buyer                     162806 non-null  int64  \n",
      " 5   total_seller                    162806 non-null  int64  \n",
      " 6   transaction_size_sqm            162146 non-null  float64\n",
      " 7   property_size_sqm               162806 non-null  float64\n",
      " 8   is_offplan                      162806 non-null  object \n",
      " 9   is_freehold                     162122 non-null  object \n",
      " 10  property_type_en                162806 non-null  object \n",
      " 11  property_subtype_en             161414 non-null  object \n",
      " 12  rooms_en                        139549 non-null  object \n",
      " 13  project_name_en                 138046 non-null  object \n",
      " 14  area_en                         162806 non-null  object \n",
      " 15  nearest_landmark_en             115394 non-null  object \n",
      " 16  nearest_metro_en                96824 non-null   object \n",
      " 17  nearest_mall_en                 95964 non-null   object \n",
      " 18  transaction_datetime_month      162806 non-null  int32  \n",
      " 19  transaction_datetime_day        162806 non-null  int32  \n",
      " 20  transaction_datetime_weekday    162806 non-null  int32  \n",
      " 21  transaction_datetime_dayofyear  162806 non-null  int32  \n",
      " 22  req_from_month                  162806 non-null  int32  \n",
      " 23  req_from_weekday                162806 non-null  int32  \n",
      " 24  req_from_dayofyear              162806 non-null  int32  \n",
      " 25  req_to_month                    162806 non-null  int32  \n",
      " 26  req_to_day                      162806 non-null  int32  \n",
      " 27  req_to_weekday                  162806 non-null  int32  \n",
      " 28  req_to_dayofyear                162806 non-null  int32  \n",
      " 29  parking_count                   162806 non-null  int64  \n",
      "dtypes: float64(3), int32(11), int64(5), object(11)\n",
      "memory usage: 30.4+ MB\n"
     ]
    }
   ],
   "source": [
    "sales_data.info()"
   ]
  },
  {
   "cell_type": "code",
   "execution_count": 23,
   "metadata": {},
   "outputs": [
    {
     "data": {
      "text/plain": [
       "array([12, 14, 13, 11, 10,  5,  9,  7,  8,  4,  6,  1,  3, 15,  2, 16, 17,\n",
       "       18, 21, 22, 23, 26, 19, 27, 24])"
      ]
     },
     "execution_count": 23,
     "metadata": {},
     "output_type": "execute_result"
    }
   ],
   "source": [
    "rentals_data['version_number'].unique()"
   ]
  },
  {
   "cell_type": "code",
   "execution_count": 25,
   "metadata": {},
   "outputs": [
    {
     "data": {
      "text/plain": [
       "array(['Renewed', 'New'], dtype=object)"
      ]
     },
     "execution_count": 25,
     "metadata": {},
     "output_type": "execute_result"
    }
   ],
   "source": [
    "rentals_data['version_text'].unique()"
   ]
  },
  {
   "cell_type": "code",
   "execution_count": 40,
   "metadata": {},
   "outputs": [
    {
     "name": "stdout",
     "output_type": "stream",
     "text": [
      "<class 'pandas.core.frame.DataFrame'>\n",
      "RangeIndex: 162806 entries, 0 to 162805\n",
      "Data columns (total 31 columns):\n",
      " #   Column                          Non-Null Count   Dtype  \n",
      "---  ------                          --------------   -----  \n",
      " 0   transaction_type_id             162806 non-null  int64  \n",
      " 1   transaction_subtype_id          162806 non-null  int64  \n",
      " 2   registration_type_en            162806 non-null  object \n",
      " 3   property_usage_id               162806 non-null  int64  \n",
      " 4   amount                          162806 non-null  float64\n",
      " 5   total_buyer                     162806 non-null  int64  \n",
      " 6   total_seller                    162806 non-null  int64  \n",
      " 7   transaction_size_sqm            162146 non-null  float64\n",
      " 8   property_size_sqm               162806 non-null  float64\n",
      " 9   is_offplan                      162806 non-null  object \n",
      " 10  is_freehold                     162122 non-null  object \n",
      " 11  property_type_en                162806 non-null  object \n",
      " 12  property_subtype_en             161414 non-null  object \n",
      " 13  rooms_en                        139549 non-null  object \n",
      " 14  parking                         122343 non-null  object \n",
      " 15  project_name_en                 138046 non-null  object \n",
      " 16  area_en                         162806 non-null  object \n",
      " 17  nearest_landmark_en             115394 non-null  object \n",
      " 18  nearest_metro_en                96824 non-null   object \n",
      " 19  nearest_mall_en                 95964 non-null   object \n",
      " 20  transaction_datetime_month      162806 non-null  int32  \n",
      " 21  transaction_datetime_day        162806 non-null  int32  \n",
      " 22  transaction_datetime_weekday    162806 non-null  int32  \n",
      " 23  transaction_datetime_dayofyear  162806 non-null  int32  \n",
      " 24  req_from_month                  162806 non-null  int32  \n",
      " 25  req_from_weekday                162806 non-null  int32  \n",
      " 26  req_from_dayofyear              162806 non-null  int32  \n",
      " 27  req_to_month                    162806 non-null  int32  \n",
      " 28  req_to_day                      162806 non-null  int32  \n",
      " 29  req_to_weekday                  162806 non-null  int32  \n",
      " 30  req_to_dayofyear                162806 non-null  int32  \n",
      "dtypes: float64(3), int32(11), int64(5), object(12)\n",
      "memory usage: 31.7+ MB\n"
     ]
    }
   ],
   "source": [
    "sales_data.info()"
   ]
  },
  {
   "cell_type": "code",
   "execution_count": 51,
   "metadata": {},
   "outputs": [],
   "source": [
    "def print_unique_values(df):\n",
    "    \"\"\"\n",
    "    Iterate through all columns in a DataFrame.\n",
    "    Skip columns of type float, and print unique values for other column types.\n",
    "\n",
    "    Parameters:\n",
    "        df (pd.DataFrame): The DataFrame to analyze.\n",
    "    \"\"\"\n",
    "    for col in df.columns:\n",
    "        if df[col].dtype == 'float64':\n",
    "            continue  # Skip columns with float type\n",
    "        print(f\"Unique values in '{col}':\")\n",
    "        print(df[col].unique())\n",
    "        print(\"\\n\")"
   ]
  },
  {
   "cell_type": "code",
   "execution_count": 52,
   "metadata": {},
   "outputs": [
    {
     "name": "stdout",
     "output_type": "stream",
     "text": [
      "Unique values in 'transaction_type_id':\n",
      "[1 2 3]\n",
      "\n",
      "\n",
      "Unique values in 'transaction_subtype_id':\n",
      "[0]\n",
      "\n",
      "\n",
      "Unique values in 'registration_type_en':\n",
      "['Off-Plan' 'Ready']\n",
      "\n",
      "\n",
      "Unique values in 'property_usage_id':\n",
      "[1 2]\n",
      "\n",
      "\n",
      "Unique values in 'total_buyer':\n",
      "[ 2  1  3  0  4  5  8  6  7 21  9 10 12]\n",
      "\n",
      "\n",
      "Unique values in 'total_seller':\n",
      "[ 1  2  0  4 11  3  6  7  5  8  9 16 23 14 12 17 10 15 18 28 13 24 19 21\n",
      " 30 26 48 22 20 31]\n",
      "\n",
      "\n",
      "Unique values in 'is_offplan':\n",
      "['t' 'f']\n",
      "\n",
      "\n",
      "Unique values in 'is_freehold':\n",
      "['t' 'f' nan]\n",
      "\n",
      "\n",
      "Unique values in 'property_type_en':\n",
      "['Unit' 'Building' 'Land']\n",
      "\n",
      "\n",
      "Unique values in 'property_subtype_en':\n",
      "['Flat' 'Villa' 'Hotel Apartment' 'Hotel Rooms' 'Government Housing'\n",
      " 'Residential' 'Shop' 'Office' nan 'Commercial' 'Industrial' 'Land'\n",
      " 'Residential Flats' 'Hotel' 'Airport' 'Stacked Townhouses' 'Unit'\n",
      " 'Sports Club' 'School' 'Agricultural' 'General Use' 'Labor Camp' 'Clinic'\n",
      " 'Building' 'Petrol Station' 'Commercial / Offices / Residential'\n",
      " 'Show Rooms' 'Workshop' 'Electricity Station' 'Warehouse' 'Hospital'\n",
      " 'Gymnasium' 'Sized Partition' 'Residential / Attached Villas'\n",
      " 'Health Club' 'Residential / Villas' 'Exhbition Center' 'Consulate']\n",
      "\n",
      "\n",
      "Unique values in 'rooms_en':\n",
      "['1 B/R' '2 B/R' '3 B/R' 'Studio' nan '4 B/R' '5 B/R' '6 B/R' 'Office'\n",
      " 'PENTHOUSE' 'Shop' '7 B/R' 'Single Room' 'Hotel']\n",
      "\n",
      "\n",
      "Unique values in 'parking':\n",
      "['1' '1  0' '2' ... 'G257' 'P3-16,17,18' 'G-328,G-329']\n",
      "\n",
      "\n",
      "Unique values in 'project_name_en':\n",
      "['THE VYBE' 'Elitz 3 By Danube ' 'TRIA BY DEYAAR' ...\n",
      " 'The Oasis - Palmiera 3' 'azizi veince 12' 'LA VISTA 05']\n",
      "\n",
      "\n",
      "Unique values in 'area_en':\n",
      "['JUMEIRAH VILLAGE CIRCLE' 'SILICON OASIS' 'DUBAI MARITIME CITY'\n",
      " 'Hadaeq Sheikh Mohammed Bin Rashid' 'JUMEIRAH VILLAGE TRIANGLE'\n",
      " 'DUBAI CREEK HARBOUR' 'DUBAI HEALTHCARE CITY - PHASE 2' 'ARJAN'\n",
      " 'Marsa Dubai' 'MEYDAN ONE' 'Madinat Dubai Almelaheyah' 'Al Wasl'\n",
      " 'Wadi Al Safa 4' 'SUFOUH GARDENS' 'TECOM SITE A' 'TOWN SQUARE'\n",
      " 'Madinat Al Mataar' 'MAJAN' 'Al Kifaf' 'BUSINESS BAY'\n",
      " 'ARABIAN RANCHES III' 'DUBAI SPORTS CITY' 'Palm Deira' 'Al Merkadh'\n",
      " 'SOBHA HEARTLAND' 'Al Yufrah 1' 'Um Suqaim Third' 'JUMEIRAH GOLF'\n",
      " 'DUBAI HARBOUR' 'JADDAF WATERFRONT' 'DUBAI MARINA' 'Al Jadaf'\n",
      " 'DUBAI STUDIO CITY' 'BURJ KHALIFA' 'DUBAI HILLS' 'JUMEIRAH LAKES TOWERS'\n",
      " 'MBR DISTRICT 7' 'DUBAI PRODUCTION CITY' 'Al Hebiah Fourth' 'AL FURJAN'\n",
      " 'DUBAI LAND RESIDENCE COMPLEX' 'Al Aweer First' 'Business Bay'\n",
      " 'DUBAI WATER CANAL' 'LIVING LEGENDS' 'Jabal Ali First' 'MINA RASHID'\n",
      " 'VILLANOVA' 'Wadi Al Safa 7' 'Bukadra' 'Wadi Al Safa 5' 'Wadi Al Safa 3'\n",
      " 'MOTOR CITY' 'THE VALLEY' 'Nad Al Shiba First' 'Al Yelayiss 2'\n",
      " 'PALM JUMEIRAH' 'Al Hebiah Fifth' 'DAMAC HILLS' 'MBR DISTRICT 1'\n",
      " 'Madinat Hind 4' 'DOWN TOWN JABAL ALI' 'Al Hebiah Sixth' 'THE WORLD'\n",
      " 'THE FIELD' 'Warsan First' 'INTERNATIONAL CITY PH 2 & 3' 'Wadi Al Safa 2'\n",
      " 'EMAAR SOUTH' 'Trade Center First' 'LIWAN' 'DUBAI DESIGN DISTRICT'\n",
      " 'Palm Jumeirah' 'MEYDAN AVENUE' 'DISCOVERY GARDENS' 'CITY WALK'\n",
      " 'Jumeirah Third' 'DUBAI SCIENCE PARK' 'Dubai Investment Park First'\n",
      " 'CHERRYWOODS' 'TILAL AL GHAF' 'NAD AL SHEBA GARDENS' 'LA MER'\n",
      " 'DUBAI INVESTMENT PARK SECOND' 'Ras Al Khor Industrial First'\n",
      " 'ARABIAN RANCHES II' 'REMRAAM' 'BARSHA HEIGHTS' 'EMIRATE LIVING'\n",
      " 'THE VILLA' 'Al Mizhar First' 'Al Warqa Third' 'DUBAI INDUSTRIAL CITY'\n",
      " 'JUMEIRAH BEACH RESIDENCE' 'Mirdif' 'INTERNATIONAL CITY PH 1'\n",
      " 'THE GREENS' 'Al Hamriya' 'Al Warqa First' 'DUBAI SOUTH' 'THE LAKES'\n",
      " 'JABEL ALI HILLS' 'Al Mizhar Second' 'AL KHAIL HEIGHTS' 'JUMEIRAH LIVING'\n",
      " 'Zaabeel Second' 'Al Barsha Third' 'MIRA' 'RUKAN' 'Al Satwa'\n",
      " 'Al Rashidiya' 'JUMEIRA BAY' 'GRAND VIEWS' 'Al Goze First'\n",
      " 'ARABIAN RANCHES I' 'AL BARARI' 'SERENA' 'Al Khawaneej First' 'MUDON'\n",
      " 'Al Muteena' 'Muhaisanah First' 'Al Thanyah Fifth' 'Zaabeel First'\n",
      " 'BLUEWATERS' 'JUMEIRAH PARK' 'Al Manara' 'Nad Al Hamar' 'Naif'\n",
      " 'MILLENNIUM' 'Al Twar Second' 'Al Barsha First' 'Nad Al Shiba Third'\n",
      " 'PEARL JUMEIRA' 'SAMA AL JADAF' 'Port Saeed' 'Al Garhoud' 'Hor Al Anz'\n",
      " 'JUMEIRAH ISLANDS' 'Jumeirah Second' 'Eyal Nasser'\n",
      " 'Al Barshaa South Second' 'Al Bada' 'FALCON CITY OF WONDERS'\n",
      " 'ARABIAN RANCHES POLO CLUB' 'LIWAN 2' 'Um Suqaim First'\n",
      " 'POLO TOWNHOUSES IGO' 'Al Warqa Fourth' 'JUMEIRAH HEIGHTS' 'Island 2'\n",
      " 'Mankhool' 'DUBAI WATER FRONT' 'Hor Al Anz East' 'Al Saffa Second'\n",
      " 'Ghadeer Al tair' 'Al Karama' 'Al Barshaa South Third' 'CITY OF ARABIA'\n",
      " 'Nad Al Shiba Fourth' 'Abu Hail' \"Me'Aisem First\" 'Al Jafliya'\n",
      " 'Al Kheeran' 'Al Mamzer' 'MARSA AL ARAB' 'SUSTAINABLE CITY'\n",
      " 'Al Suq Al Kabeer' 'Al Barsha Second' 'AL WAHA' 'Al Twar Fourth'\n",
      " 'Jumeirah First' 'Um Suqaim Second' 'Al Waheda' 'Nad Al Shiba Second'\n",
      " 'Al Mizhar Third' 'Jabal Ali Industrial First' 'Al Rowaiyah Third'\n",
      " 'Wadi Al Amardi' 'Madinat Hind 3' 'Nadd Hessa' 'AL Athbah'\n",
      " 'Oud Al Muteena First' 'Al Warqa Second' 'Al Barshaa South First'\n",
      " 'Al Hebiah Third' 'Muhaisanah Fourth' 'Al Khawaneej Second'\n",
      " 'Al Qusais Second' 'Al Goze Fourth' 'Al Nahda First' 'Al Eyas'\n",
      " 'Al Yelayiss 5' 'Al Hudaiba' 'Palm Jabal Ali' 'Al Twar Third'\n",
      " 'Al Aweer Second' 'Saih Aldahal' 'Saih Shuaib 2' 'Um Al Sheif' 'Al Raffa'\n",
      " 'Al Nahda Second' 'Um Ramool' 'DUBAI INVESTMENT PARK FIRST'\n",
      " 'Trade Center Second' 'Dubai Investment Park Second' \"Me'Aisem Second\"\n",
      " 'DUBAI GOLF CITY' 'PALM DEIRA' 'Warsan Fourth' 'HORIZON' 'Hessyan First'\n",
      " 'Al Khabeesi' 'Al Goze Third' 'Al Thanyah Third'\n",
      " 'Dubai International Airport' 'Muhaisanah Third' 'Um Hurair First'\n",
      " 'Al Mararr' 'MEDYAN RACE COURSE VILLAS' 'Lehbab First' 'Al Qusais First'\n",
      " 'Al Lusaily' 'Rega Al Buteen' 'Al Rega' 'Nad Shamma'\n",
      " 'Ras Al Khor Industrial Second' 'Mushrif' 'Al Qusais Industrial Second'\n",
      " 'Al Murqabat' 'Saih Shuaib 4' 'Al Warsan First' 'Al Baraha' 'Al Ras'\n",
      " 'Al Twar First' 'Al Khairan First' 'PALMAROSA' 'Al Saffa First'\n",
      " 'Lehbab Second' 'DUBAI HEALTHCARE CITY - PHASE 1'\n",
      " 'Ras Al Khor Industrial Third' 'DMCC-EZ2' 'Madinat Latifa'\n",
      " 'Hessyan Second' 'Al Goze Industrial Third' 'Al Ttay' 'Oud Metha'\n",
      " 'DUBAI INTERNATIONAL ACADEMIC CITY' 'Al Dhagaya'\n",
      " 'Al Goze Industrial Second' 'Al Goze Industrial Fourth'\n",
      " 'Al Qusais Industrial Third' 'Al Warsan Second'\n",
      " 'Al Qusais Industrial Fourth' 'Al Qusais Industrial First' 'IBN BATTUTA '\n",
      " 'PALM JABAL ALI' 'Jabal Ali' 'Al Goze Industrial First'\n",
      " 'Al Hebiah Second' 'Grayteesah' 'Al Safouh First' 'Muhaisanah Second'\n",
      " 'Al Sabkha' 'Al Warsan Third' 'Muragab' 'DUBAI LIFESTYLE CITY'\n",
      " 'Al Qusais Industrial Fifth' 'Al Buteen' 'Mena Jabal Ali' 'Saih Shuaib 1'\n",
      " 'Al Yelayiss 1' 'Nazwah' 'Mugatrah']\n",
      "\n",
      "\n",
      "Unique values in 'nearest_landmark_en':\n",
      "['Sports City Swimming Academy' 'IMG World Adventures' nan\n",
      " 'Dubai International Airport' 'Downtown Dubai' 'Motor City'\n",
      " 'Burj Al Arab' 'Dubai Cycling Course' 'Burj Khalifa'\n",
      " 'Hamdan Sports Complex' 'Global Village' 'Expo 2020 Site'\n",
      " 'Al Makhtoum International Airport' 'Dubai Parks and Resorts' 'Jabel Ali']\n",
      "\n",
      "\n",
      "Unique values in 'nearest_metro_en':\n",
      "['Dubai Internet City' 'Nakheel Metro Station' nan 'Harbour Tower'\n",
      " 'Creek Metro Station' 'Al Jadaf Metro Station' 'Sharaf Dg Metro Station'\n",
      " 'Buj Khalifa Dubai Mall Metro Station' 'Palm Jumeirah'\n",
      " 'Al Jafiliya Metro Station' 'Business Bay Metro Station'\n",
      " 'Damac Properties' 'Mina Seyahi' 'First Abu Dhabi Bank Metro Station'\n",
      " 'Marina Mall Metro Station' 'Al Ghubaiba Metro Station'\n",
      " 'Ibn Battuta Metro Station' 'Jumeirah Beach Residency'\n",
      " 'Noor Bank Metro Station' 'Jumeirah Lakes Towers' 'Al Sufouh'\n",
      " 'Jumeirah Beach Resdency' 'UAE Exchange Metro Station'\n",
      " 'Rashidiya Metro Station' 'Dubai Marina' 'ENERGY Metro Station'\n",
      " 'Emirates Towers Metro Station' 'Trade Centre Metro Station'\n",
      " 'Etisalat Metro Station' 'Marina Towers' 'Healthcare City Metro Station'\n",
      " 'Al Fahidi Metro Station' 'Financial Centre' 'Salah Al Din Metro Station'\n",
      " 'Airport Free Zone' 'Deira City Centre'\n",
      " 'Airport Terminal 1 Metro Station' 'Abu Hail Metro Station'\n",
      " 'Union Metro Station' 'Palm Deira Metro Stations' 'ADCB Metro Station'\n",
      " 'Al Qiyadah Metro Station' 'Burjuman Metro Station'\n",
      " 'Abu Baker Al Siddique Metro Station' 'Emirates Metro Station'\n",
      " 'STADIUM Metro Station' 'Al Qusais Metro Station' 'Knowledge Village'\n",
      " 'Al Ras Metro Station' 'DANUBE Metro Station' 'Terminal 3 '\n",
      " 'Al Nahda Metro Station' 'GGICO Metro Station'\n",
      " 'Baniyas Square Metro Station' 'Al Rigga Metro Station'\n",
      " 'Oud Metha Metro Station' 'Media City']\n",
      "\n",
      "\n",
      "Unique values in 'nearest_mall_en':\n",
      "['Mall of the Emirates' 'Marina Mall' nan 'Ibn-e-Battuta Mall'\n",
      " 'City Centre Mirdif' 'Dubai Mall']\n",
      "\n",
      "\n",
      "Unique values in 'transaction_datetime_month':\n",
      "[1 2 4 3 5 6 8 7 9]\n",
      "\n",
      "\n",
      "Unique values in 'transaction_datetime_day':\n",
      "[11  8  5 18 16  3 23  9 30 12 20  2 21 25 15 10  4 22 29 17 19 26 13  6\n",
      " 14 24 31  7  1 27 28]\n",
      "\n",
      "\n",
      "Unique values in 'transaction_datetime_weekday':\n",
      "[3 0 4 1 2 5 6]\n",
      "\n",
      "\n",
      "Unique values in 'transaction_datetime_dayofyear':\n",
      "[ 11   8   5  18  16   3  23   9  30  12  20   2  52  25  46  10   4  53\n",
      "  29  22  17  95  19  57  15  13  64  37  14 114  24  33   6  73  31 120\n",
      "  38  82  71 106  26 122 125  85  86  21  27  28   7   1 121 113  79 159\n",
      "  60  36  50  47  51  58  54  55  56  59  49  32  45  39  43  44  34  35\n",
      "  40  41  42  48 109  66  80  78  72  74  61  65  63  62  67 108  68  81\n",
      "  70 110  69  75  84  76  87  88 129  83  89  90  91 219  92  77 100 107\n",
      "  94  93 117  96 115  97  98 105  99 101 102 103 104 116 111 112 118 119\n",
      " 131 128 149 136 134 144 127 130 151 123 135 124 126 142 132 137 150 133\n",
      " 148 141 143 138 139 140 145 164 147 146 157 176 156 171 167 172 165 192\n",
      " 199 187 198 152 243 158 212 190 197 163 166 173 183 181 213 226 233 240\n",
      " 155 185 205 177 161 162 179 178 153 154 160 169 174 175 180 182 170 207\n",
      " 191 200 193 186 206 184 204 188 194 189 202 242 195 196 211 201 208 203\n",
      " 209 210 217 220 232 228 234 222 227 235 218 214 239 215 225 221 216 236\n",
      " 223 224 229 230 237 238 241 254 261 257 263 249 250 264 256 253 246 247\n",
      " 248 267 255 245 262 266 260 251 252 268 258 259 269 265]\n",
      "\n",
      "\n",
      "Unique values in 'req_from_month':\n",
      "[1 2 4 3 5 6 8 7 9]\n",
      "\n",
      "\n",
      "Unique values in 'req_from_weekday':\n",
      "[0 3 4 2 5 6]\n",
      "\n",
      "\n",
      "Unique values in 'req_from_dayofyear':\n",
      "[  1  32  92  61 122 153 214 183 245]\n",
      "\n",
      "\n",
      "Unique values in 'req_to_month':\n",
      "[1 2 4 3 5 6 8 7 9]\n",
      "\n",
      "\n",
      "Unique values in 'req_to_day':\n",
      "[31 29 30 25]\n",
      "\n",
      "\n",
      "Unique values in 'req_to_weekday':\n",
      "[2 3 1 6 4 5]\n",
      "\n",
      "\n",
      "Unique values in 'req_to_dayofyear':\n",
      "[ 31  60 121  91 152 182 244 213 269]\n",
      "\n",
      "\n"
     ]
    }
   ],
   "source": [
    "print_unique_values(sales_data)"
   ]
  },
  {
   "cell_type": "code",
   "execution_count": 55,
   "metadata": {},
   "outputs": [
    {
     "data": {
      "text/plain": [
       "count     122343\n",
       "unique     18174\n",
       "top            1\n",
       "freq       59218\n",
       "Name: parking, dtype: object"
      ]
     },
     "execution_count": 55,
     "metadata": {},
     "output_type": "execute_result"
    }
   ],
   "source": [
    "sales_data['parking'].describe()"
   ]
  },
  {
   "cell_type": "code",
   "execution_count": 57,
   "metadata": {},
   "outputs": [
    {
     "name": "stdout",
     "output_type": "stream",
     "text": [
      "Missing values in 'parking': 40463\n"
     ]
    }
   ],
   "source": [
    "print(\"Missing values in 'parking':\", sales_data['parking'].isnull().sum())\n"
   ]
  },
  {
   "cell_type": "code",
   "execution_count": 58,
   "metadata": {},
   "outputs": [
    {
     "data": {
      "text/plain": [
       "array(['1', '1  0', '2', ..., 'G257', 'P3-16,17,18', 'G-328,G-329'],\n",
       "      dtype=object)"
      ]
     },
     "execution_count": 58,
     "metadata": {},
     "output_type": "execute_result"
    }
   ],
   "source": [
    "sales_data['parking'].unique()"
   ]
  },
  {
   "cell_type": "code",
   "execution_count": 59,
   "metadata": {},
   "outputs": [
    {
     "name": "stdout",
     "output_type": "stream",
     "text": [
      "Unique values saved to 'unique_parking_values.txt'\n"
     ]
    }
   ],
   "source": [
    "# Get the unique values of the 'parking' column\n",
    "unique_parking_values = sales_data['parking'].unique()\n",
    "\n",
    "# Convert unique values to a list (optional)\n",
    "unique_parking_list = unique_parking_values.tolist()\n",
    "\n",
    "# Save the unique values to a text file\n",
    "with open(\"unique_parking_values.txt\", \"w\") as file:\n",
    "    for value in unique_parking_list:\n",
    "        file.write(f\"{value}\\n\")\n",
    "\n",
    "print(\"Unique values saved to 'unique_parking_values.txt'\")\n"
   ]
  },
  {
   "cell_type": "code",
   "execution_count": 60,
   "metadata": {},
   "outputs": [
    {
     "name": "stdout",
     "output_type": "stream",
     "text": [
      "parking_category\n",
      "Count                       64893\n",
      "Unknown                     40463\n",
      "Descriptive with Numbers    38334\n",
      "Parking Code                17468\n",
      "Other                        1648\n",
      "Name: count, dtype: int64\n"
     ]
    }
   ],
   "source": [
    "import pandas as pd\n",
    "import numpy as np\n",
    "import re\n",
    "\n",
    "def preprocess_parking_column(df, column_name):\n",
    "    # Extract unique values\n",
    "    unique_values = df[column_name].unique()\n",
    "    \n",
    "    # Categorize values\n",
    "    def categorize_parking(value):\n",
    "        if pd.isnull(value):\n",
    "            return 'Unknown'\n",
    "        elif re.match(r'^\\d+$', str(value)):  # Pure numerical values\n",
    "            return 'Count'\n",
    "        elif re.match(r'[A-Z]-\\d+', str(value)):  # Codes like B1-19\n",
    "            return 'Parking Code'\n",
    "        elif re.match(r'.*\\d+.*', str(value)):  # Contains numbers in text\n",
    "            return 'Descriptive with Numbers'\n",
    "        else:  # Default for others\n",
    "            return 'Other'\n",
    "    \n",
    "    # Apply categorization\n",
    "    df[f'{column_name}_category'] = df[column_name].apply(categorize_parking)\n",
    "    \n",
    "    # Handle known categories separately if necessary\n",
    "    df[f'{column_name}_processed'] = df[column_name].fillna('Unknown')\n",
    "    \n",
    "    # Example: Encode numerical counts as-is\n",
    "    df[f'{column_name}_processed'] = df.apply(\n",
    "        lambda x: x[column_name] if x[f'{column_name}_category'] == 'Count' else x[f'{column_name}_processed'],\n",
    "        axis=1\n",
    "    )\n",
    "    \n",
    "    return df\n",
    "\n",
    "# Example usage\n",
    "sales_data = preprocess_parking_column(sales_data, 'parking')\n",
    "\n",
    "# Check the distribution\n",
    "print(sales_data['parking_category'].value_counts())\n"
   ]
  },
  {
   "cell_type": "code",
   "execution_count": 62,
   "metadata": {},
   "outputs": [
    {
     "data": {
      "text/plain": [
       "array(['Count', 'Descriptive with Numbers', 'Parking Code', 'Unknown',\n",
       "       'Other'], dtype=object)"
      ]
     },
     "execution_count": 62,
     "metadata": {},
     "output_type": "execute_result"
    }
   ],
   "source": [
    "sales_data['parking_category'].unique()"
   ]
  },
  {
   "cell_type": "code",
   "execution_count": 68,
   "metadata": {},
   "outputs": [
    {
     "name": "stdout",
     "output_type": "stream",
     "text": [
      "        parking_count parking_category\n",
      "0                 1.0            Other\n",
      "1                 1.0            Other\n",
      "2                 1.0            Other\n",
      "3                 1.0            Other\n",
      "4                 1.0            Other\n",
      "...               ...              ...\n",
      "162801           81.0            Other\n",
      "162802            0.0            Other\n",
      "162803          140.0            Other\n",
      "162804          114.0            Other\n",
      "162805          127.0            Other\n",
      "\n",
      "[162806 rows x 2 columns]\n"
     ]
    }
   ],
   "source": [
    "import re\n",
    "\n",
    "# Extract parking counts from descriptions\n",
    "def extract_parking_count(value):\n",
    "    match = re.search(r'\\b\\d+\\b', str(value))\n",
    "    return int(match.group()) if match else None\n",
    "\n",
    "# Categorize parking descriptions\n",
    "def categorize_parking_description(value):\n",
    "    if \"limited\" in str(value).lower():\n",
    "        return \"Limited\"\n",
    "    elif \"available\" in str(value).lower():\n",
    "        return \"Available\"\n",
    "    else:\n",
    "        return \"Other\"\n",
    "\n",
    "# Process parking feature\n",
    "sales_data['parking_count'] = sales_data['parking'].apply(extract_parking_count)\n",
    "sales_data['parking_category'] = sales_data['parking'].apply(categorize_parking_description)\n",
    "\n",
    "# Handle 'Unknown'\n",
    "sales_data['parking_count'] = sales_data['parking_count'].fillna(\n",
    "    sales_data.groupby('area_en')['parking_count'].transform(\n",
    "        lambda x: x.fillna(x.mode()[0] if not x.mode().empty else 0)\n",
    "    )\n",
    ")\n",
    "\n",
    "\n",
    "# Validate processed data\n",
    "print(sales_data[['parking_count', 'parking_category']])\n"
   ]
  },
  {
   "cell_type": "code",
   "execution_count": 69,
   "metadata": {},
   "outputs": [
    {
     "name": "stdout",
     "output_type": "stream",
     "text": [
      "  parking  parking_available  parking_count parking_category\n",
      "0       1                  1              1       Code-Based\n",
      "1       1                  1              1       Code-Based\n",
      "2       1                  1              1       Code-Based\n",
      "3       1                  1              1       Code-Based\n",
      "4       1                  1              1       Code-Based\n"
     ]
    }
   ],
   "source": [
    "import re\n",
    "\n",
    "# Function to extract parking count\n",
    "def extract_parking_count(value):\n",
    "    match = re.search(r'\\b\\d+\\b', str(value))  # Find standalone numbers\n",
    "    return int(match.group()) if match else 0  # Default to 0 if no match\n",
    "\n",
    "# Function to categorize parking description\n",
    "def categorize_parking(value):\n",
    "    if \"limited\" in str(value).lower():\n",
    "        return \"Limited\"\n",
    "    elif \"available\" in str(value).lower():\n",
    "        return \"Available\"\n",
    "    elif re.search(r'[A-Za-z]*\\d+[A-Za-z]*', str(value)):  # Matches codes like B1-19\n",
    "        return \"Code-Based\"\n",
    "    else:\n",
    "        return \"Unknown\"\n",
    "\n",
    "# Create new columns\n",
    "sales_data['parking_available'] = sales_data['parking'].apply(\n",
    "    lambda x: 1 if x != \"Unknown\" and pd.notnull(x) else 0\n",
    ")\n",
    "sales_data['parking_count'] = sales_data['parking'].apply(extract_parking_count)\n",
    "sales_data['parking_category'] = sales_data['parking'].apply(categorize_parking)\n",
    "\n",
    "# Validate the results\n",
    "print(sales_data[['parking', 'parking_available', 'parking_count', 'parking_category']].head())\n"
   ]
  },
  {
   "cell_type": "code",
   "execution_count": null,
   "metadata": {},
   "outputs": [],
   "source": []
  },
  {
   "cell_type": "code",
   "execution_count": 71,
   "metadata": {},
   "outputs": [
    {
     "name": "stdout",
     "output_type": "stream",
     "text": [
      "       parking  parking_available  parking_count parking_category\n",
      "162801  B2-081                  1             81       Code-Based\n",
      "162802     NaN                  0              0          Unknown\n",
      "162803  B2-140                  1            140       Code-Based\n",
      "162804   G-114                  1            114       Code-Based\n",
      "162805   G-127                  1            127       Code-Based\n"
     ]
    }
   ],
   "source": [
    "print(sales_data[['parking', 'parking_available', 'parking_count', 'parking_category']].tail())\n"
   ]
  },
  {
   "cell_type": "code",
   "execution_count": 75,
   "metadata": {},
   "outputs": [
    {
     "name": "stdout",
     "output_type": "stream",
     "text": [
      "       parking  parking_count\n",
      "162801  B2-081              1\n",
      "162802     NaN              0\n",
      "162803  B2-140              1\n",
      "162804   G-114              1\n",
      "162805   G-127              1\n"
     ]
    }
   ],
   "source": [
    "\n",
    "import re\n",
    "import pandas as pd\n",
    "\n",
    "def calculate_parking_count(value):\n",
    "    \"\"\"\n",
    "    Calculate the parking count based on the given strategy:\n",
    "    - Fields separated by commas are counted as separate spots unless 'to' is present.\n",
    "    - If 'to' is present, calculate the range of parking spots.\n",
    "    - Single identifiers like 'G-127' are counted as one spot.\n",
    "    \"\"\"\n",
    "    if pd.isna(value):\n",
    "        return 0  # No information\n",
    "\n",
    "    total_count = 0\n",
    "    fields = str(value).split(\",\")  # Split by commas\n",
    "    for field in fields:\n",
    "        field = field.strip()  # Remove extra whitespace\n",
    "        if re.search(r\"\\bto\\b\", field, re.IGNORECASE):  # Check for 'to' (case insensitive)\n",
    "            # Extract numbers in the range and calculate spots\n",
    "            numbers = [int(num) for num in re.findall(r\"\\d+\", field)]\n",
    "            if len(numbers) == 2:  # Range is valid\n",
    "                total_count += abs(numbers[1] - numbers[0]) + 1\n",
    "        elif re.search(r\"\\d+\", field):  # Single numeric identifier (e.g., G-127)\n",
    "            total_count += 1\n",
    "        else:\n",
    "            total_count += 0  # Invalid or non-informative field\n",
    "    return total_count\n",
    "\n",
    "# Apply the logic to the `parking` column\n",
    "sales_data['parking_count'] = sales_data['parking'].apply(calculate_parking_count)\n",
    "\n",
    "# Save results for validation\n",
    "sales_data[['parking', 'parking_count']].to_csv(\"processed_parking_count.csv\", index=False)\n",
    "\n",
    "# Example check\n",
    "print(sales_data[['parking', 'parking_count']].tail())\n"
   ]
  },
  {
   "cell_type": "code",
   "execution_count": 74,
   "metadata": {},
   "outputs": [
    {
     "data": {
      "text/html": [
       "<div>\n",
       "<style scoped>\n",
       "    .dataframe tbody tr th:only-of-type {\n",
       "        vertical-align: middle;\n",
       "    }\n",
       "\n",
       "    .dataframe tbody tr th {\n",
       "        vertical-align: top;\n",
       "    }\n",
       "\n",
       "    .dataframe thead th {\n",
       "        text-align: right;\n",
       "    }\n",
       "</style>\n",
       "<table border=\"1\" class=\"dataframe\">\n",
       "  <thead>\n",
       "    <tr style=\"text-align: right;\">\n",
       "      <th></th>\n",
       "      <th>parking</th>\n",
       "      <th>parking_category</th>\n",
       "      <th>parking_count</th>\n",
       "      <th>parking_available</th>\n",
       "    </tr>\n",
       "  </thead>\n",
       "  <tbody>\n",
       "    <tr>\n",
       "      <th>162801</th>\n",
       "      <td>B2-081</td>\n",
       "      <td>Descriptive with Numbers</td>\n",
       "      <td>NaN</td>\n",
       "      <td>1</td>\n",
       "    </tr>\n",
       "    <tr>\n",
       "      <th>162802</th>\n",
       "      <td>NaN</td>\n",
       "      <td>Unknown</td>\n",
       "      <td>0.0</td>\n",
       "      <td>0</td>\n",
       "    </tr>\n",
       "    <tr>\n",
       "      <th>162803</th>\n",
       "      <td>B2-140</td>\n",
       "      <td>Descriptive with Numbers</td>\n",
       "      <td>NaN</td>\n",
       "      <td>1</td>\n",
       "    </tr>\n",
       "    <tr>\n",
       "      <th>162804</th>\n",
       "      <td>G-114</td>\n",
       "      <td>Descriptive with Numbers</td>\n",
       "      <td>NaN</td>\n",
       "      <td>1</td>\n",
       "    </tr>\n",
       "    <tr>\n",
       "      <th>162805</th>\n",
       "      <td>G-127</td>\n",
       "      <td>Descriptive with Numbers</td>\n",
       "      <td>NaN</td>\n",
       "      <td>1</td>\n",
       "    </tr>\n",
       "  </tbody>\n",
       "</table>\n",
       "</div>"
      ],
      "text/plain": [
       "       parking          parking_category  parking_count  parking_available\n",
       "162801  B2-081  Descriptive with Numbers            NaN                  1\n",
       "162802     NaN                   Unknown            0.0                  0\n",
       "162803  B2-140  Descriptive with Numbers            NaN                  1\n",
       "162804   G-114  Descriptive with Numbers            NaN                  1\n",
       "162805   G-127  Descriptive with Numbers            NaN                  1"
      ]
     },
     "execution_count": 74,
     "metadata": {},
     "output_type": "execute_result"
    }
   ],
   "source": [
    "sales_data[[\"parking\", \"parking_category\", \"parking_count\", \"parking_available\"]].tail()"
   ]
  },
  {
   "cell_type": "code",
   "execution_count": null,
   "metadata": {},
   "outputs": [],
   "source": [
    "sales_categorical_values = [\n",
    "    'transaction_type_id',\n",
    "    'registration_type_en',\n",
    "    'property_usage_id',\n",
    "    \n",
    "]"
   ]
  },
  {
   "cell_type": "code",
   "execution_count": 45,
   "metadata": {},
   "outputs": [
    {
     "data": {
      "text/plain": [
       "array([1, 2, 3])"
      ]
     },
     "execution_count": 45,
     "metadata": {},
     "output_type": "execute_result"
    }
   ],
   "source": [
    "sales_data['transaction_type_id'].unique()"
   ]
  },
  {
   "cell_type": "code",
   "execution_count": 48,
   "metadata": {},
   "outputs": [
    {
     "data": {
      "text/plain": [
       "array([0])"
      ]
     },
     "execution_count": 48,
     "metadata": {},
     "output_type": "execute_result"
    }
   ],
   "source": [
    "original_sales_data['transaction_subtype_id'].unique()"
   ]
  },
  {
   "cell_type": "code",
   "execution_count": 49,
   "metadata": {},
   "outputs": [
    {
     "data": {
      "text/plain": [
       "array(['Off-Plan', 'Ready'], dtype=object)"
      ]
     },
     "execution_count": 49,
     "metadata": {},
     "output_type": "execute_result"
    }
   ],
   "source": [
    "sales_data['registration_type_en'].unique()"
   ]
  },
  {
   "cell_type": "code",
   "execution_count": 50,
   "metadata": {},
   "outputs": [
    {
     "data": {
      "text/plain": [
       "array([1, 2])"
      ]
     },
     "execution_count": 50,
     "metadata": {},
     "output_type": "execute_result"
    }
   ],
   "source": [
    "sales_data['property_usage_id'].unique()"
   ]
  },
  {
   "cell_type": "markdown",
   "metadata": {},
   "source": [
    "# Handling Missing Values"
   ]
  },
  {
   "cell_type": "code",
   "execution_count": 84,
   "metadata": {},
   "outputs": [
    {
     "name": "stdout",
     "output_type": "stream",
     "text": [
      "Missing Values in Sales Data:\n",
      "                      Missing Count  Percentage\n",
      "transaction_size_sqm            660    0.405390\n",
      "is_freehold                     684    0.420132\n",
      "property_subtype_en            1392    0.855005\n",
      "rooms_en                      23257   14.285100\n",
      "project_name_en               24760   15.208285\n",
      "nearest_landmark_en           47412   29.121777\n",
      "nearest_metro_en              65982   40.527990\n",
      "nearest_mall_en               66842   41.056226\n",
      "\n",
      "Missing Values in Rentals Data:\n",
      "                     Missing Count  Percentage\n",
      "annual_amount                   14    0.001873\n",
      "property_subtype_en           2545    0.340510\n",
      "property_usage_en             2844    0.380515\n",
      "rooms                       721746   96.566534\n",
      "project_name_en             576935   77.191440\n",
      "nearest_landmark_en          56810    7.600935\n",
      "nearest_metro_en            110681   14.808645\n",
      "nearest_mall_en             120826   16.166003\n"
     ]
    }
   ],
   "source": [
    "# Display the number and percentage of missing values for Sales Data\n",
    "print(\"Missing Values in Sales Data:\")\n",
    "missing_sales = sales_data.isnull().sum().to_frame(name=\"Missing Count\")\n",
    "missing_sales[\"Percentage\"] = (missing_sales[\"Missing Count\"] / len(sales_data)) * 100\n",
    "print(missing_sales[missing_sales[\"Missing Count\"] > 0])\n",
    "\n",
    "# Display the number and percentage of missing values for Rentals Data\n",
    "print(\"\\nMissing Values in Rentals Data:\")\n",
    "missing_rentals = rentals_data.isnull().sum().to_frame(name=\"Missing Count\")\n",
    "missing_rentals[\"Percentage\"] = (missing_rentals[\"Missing Count\"] / len(rentals_data)) * 100\n",
    "print(missing_rentals[missing_rentals[\"Missing Count\"] > 0])"
   ]
  },
  {
   "cell_type": "code",
   "execution_count": null,
   "metadata": {},
   "outputs": [],
   "source": []
  }
 ],
 "metadata": {
  "kernelspec": {
   "display_name": "avms",
   "language": "python",
   "name": "python3"
  },
  "language_info": {
   "codemirror_mode": {
    "name": "ipython",
    "version": 3
   },
   "file_extension": ".py",
   "mimetype": "text/x-python",
   "name": "python",
   "nbconvert_exporter": "python",
   "pygments_lexer": "ipython3",
   "version": "3.11.10"
  }
 },
 "nbformat": 4,
 "nbformat_minor": 2
}
