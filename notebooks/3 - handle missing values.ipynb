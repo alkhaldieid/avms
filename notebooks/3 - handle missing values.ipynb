{
 "cells": [
  {
   "cell_type": "code",
   "execution_count": 20,
   "metadata": {},
   "outputs": [],
   "source": [
    "import pandas as pd\n",
    "import matplotlib.pyplot as plt\n",
    "import seaborn as sns"
   ]
  },
  {
   "cell_type": "code",
   "execution_count": 21,
   "metadata": {},
   "outputs": [],
   "source": [
    "# Load the datasets\n",
    "original_sales_data = pd.read_csv('../data/snp_dld_2024_transactions.csv', low_memory=False)\n",
    "original_rentals_data = pd.read_csv('../data/snp_dld_2024_rents.csv', low_memory=False)"
   ]
  },
  {
   "cell_type": "code",
   "execution_count": 22,
   "metadata": {},
   "outputs": [],
   "source": [
    "columns_to_drop_sales = [\n",
    "    'transaction_number',  # ID column\n",
    "    'entry_id',            # Metadata\n",
    "    'meta_ts',             # Metadata timestamp\n",
    "    'master_project_en',   # Very few non-null values\n",
    "    'master_project_ar',   # Very few non-null values\n",
    "    'property_type_ar',    # Duplicate of property_type_en\n",
    "    'property_subtype_ar', # Duplicate of property_subtype_en\n",
    "    'rooms_ar',            # Duplicate of rooms_en\n",
    "    'project_name_ar',     # Duplicate of project_name_en\n",
    "    'area_ar',             # Duplicate of area_en\n",
    "    'nearest_landmark_ar', # Duplicate of nearest_landmark_en\n",
    "    'nearest_metro_ar',    # Duplicate of nearest_metro_en\n",
    "    'nearest_mall_ar',      # Duplicate of nearest_mall_en\n",
    "    'parcel_id',  # not needed\n",
    "    'transaction_type_en', #Duplicate of transaction_type_id\n",
    "    'transaction_subtype_en', #Constant\n",
    "    'transaction_subtype_id', #Constant\n",
    "    'property_id', #Constant\n",
    "    'property_type_id', #Constant\n",
    "    'property_subtype_id', #Constant\n",
    "    'building_age', #Constant\n",
    "    'area_id', #Constant\n",
    "    'is_freehold_text', #duplicate of is_freehold\n",
    "    'property_usage_en', # Duplicate of property_usage_id\n",
    "    'transaction_datetime_year',  #Constant after handling dates\n",
    "    'req_from_year',  #Constant after handling dates\n",
    "    'req_from_day',  #Constant after handling dates\n",
    "    'req_to_year', #Constant after handling dates\n",
    "    'parking', # Replaced with parking count\n",
    "    'nearest_metro_en', # percentage of missing data > 40%\n",
    "    'nearest_mall_en'  # percentage of missing data > 40%\n",
    "]\n",
    "\n",
    "# List of columns to drop from rentals_data\n",
    "columns_to_drop_rentals = [\n",
    "    'ejari_contract_number', # ID column\n",
    "    'land_property_id',      # Redundant ID column\n",
    "    'entry_id',              # Metadata\n",
    "    'meta_ts',               # Metadata timestamp\n",
    "    'master_project_en',     # Very few non-null values\n",
    "    'master_project_ar',     # Very few non-null values\n",
    "    'property_type_ar',      # Duplicate of property_type_en\n",
    "    'property_subtype_ar',   # Duplicate of property_subtype_en\n",
    "    'property_usage_ar',     # Duplicate of property_usage_en\n",
    "    'project_name_ar',       # Duplicate of project_name_en\n",
    "    'area_ar',               # Duplicate of area_en\n",
    "    'nearest_landmark_ar',   # Duplicate of nearest_landmark_en\n",
    "    'nearest_metro_ar',      # Duplicate of nearest_metro_en\n",
    "    'nearest_mall_ar',        # Duplicate of nearest_mall_en\n",
    "    'property_id',   #constant\n",
    "    'property_usage_id', #constant\n",
    "    'area_id',   #constant\n",
    "    'ejari_property_type_id',   #constant\n",
    "    'ejari_property_sub_type_id',  #constant\n",
    "    'parking', #97% missing data\n",
    "    'parcel_id', # negative correlation\n",
    "    'registration_date_year',  #Constant after handling dates\n",
    "    'req_from_year',  #Constant after handling dates\n",
    "    'req_from_day',  #Constant after handling dates\n",
    "    'req_to_year',  #Constant after handling dates\n",
    "    'req_from_year',  #Constant after handling dates\n",
    "    'req_from_day', #Constant after handling dates\n",
    "    'req_to_year',  #Constant after handling dates\n",
    "    'registration_date_year',  #Constant after handling dates\n",
    "    'req_from_year',  #Constant after handling dates\n",
    "    'req_from_day',  #Constant after handling dates\n",
    "    'req_to_year', #Constant after handling dates\n",
    "    'is_freehold_text', # duplicate of is_freehold\n",
    "    'rooms', # missing date more than 40%\n",
    "    'project_name_en' # missing date more than 40%\n",
    "]"
   ]
  },
  {
   "cell_type": "code",
   "execution_count": 23,
   "metadata": {},
   "outputs": [],
   "source": [
    "def process_date_columns(df, date_columns):\n",
    "    for col in date_columns:\n",
    "        if col in df.columns:\n",
    "            df[col] = pd.to_datetime(df[col], errors='coerce')\n",
    "            df[f\"{col}_year\"] = df[col].dt.year\n",
    "            df[f\"{col}_month\"] = df[col].dt.month\n",
    "            df[f\"{col}_day\"] = df[col].dt.day\n",
    "            df[f\"{col}_weekday\"] = df[col].dt.weekday\n",
    "            df[f\"{col}_dayofyear\"] = df[col].dt.dayofyear\n",
    "    df.drop(columns=date_columns, inplace=True, errors='ignore')\n",
    "    return df\n",
    "\n",
    "sales_date_columns = ['transaction_datetime', 'req_from', 'req_to']\n",
    "rentals_date_columns = ['registration_date', 'contract_start_date', 'contract_end_date', 'req_from', 'req_to']\n",
    "sales_data = process_date_columns(original_sales_data, sales_date_columns)\n",
    "rentals_data = process_date_columns(original_rentals_data, rentals_date_columns)"
   ]
  },
  {
   "cell_type": "code",
   "execution_count": 24,
   "metadata": {},
   "outputs": [
    {
     "name": "stdout",
     "output_type": "stream",
     "text": [
      "       parking  parking_count\n",
      "162801  B2-081              1\n",
      "162802     NaN              0\n",
      "162803  B2-140              1\n",
      "162804   G-114              1\n",
      "162805   G-127              1\n"
     ]
    }
   ],
   "source": [
    "import re\n",
    "import pandas as pd\n",
    "\n",
    "def calculate_parking_count(value):\n",
    "    \"\"\"\n",
    "    Calculate the parking count based on the given strategy:\n",
    "    - Fields separated by commas are counted as separate spots unless 'to' is present.\n",
    "    - If 'to' is present, calculate the range of parking spots.\n",
    "    - Single identifiers like 'G-127' are counted as one spot.\n",
    "    \"\"\"\n",
    "    if pd.isna(value):\n",
    "        return 0  # No information\n",
    "\n",
    "    total_count = 0\n",
    "    fields = str(value).split(\",\")  # Split by commas\n",
    "    for field in fields:\n",
    "        field = field.strip()  # Remove extra whitespace\n",
    "        if re.search(r\"\\bto\\b\", field, re.IGNORECASE):  # Check for 'to' (case insensitive)\n",
    "            # Extract numbers in the range and calculate spots\n",
    "            numbers = [int(num) for num in re.findall(r\"\\d+\", field)]\n",
    "            if len(numbers) == 2:  # Range is valid\n",
    "                total_count += abs(numbers[1] - numbers[0]) + 1\n",
    "        elif re.search(r\"\\d+\", field):  # Single numeric identifier (e.g., G-127)\n",
    "            total_count += 1\n",
    "        else:\n",
    "            total_count += 0  # Invalid or non-informative field\n",
    "    return total_count\n",
    "\n",
    "# Apply the logic to the `parking` column\n",
    "sales_data['parking_count'] = sales_data['parking'].apply(calculate_parking_count)\n",
    "\n",
    "# Save results for validation\n",
    "sales_data[['parking', 'parking_count']].to_csv(\"processed_parking_count.csv\", index=False)\n",
    "\n",
    "# Example check\n",
    "print(sales_data[['parking', 'parking_count']].tail())"
   ]
  },
  {
   "cell_type": "code",
   "execution_count": 25,
   "metadata": {},
   "outputs": [],
   "source": [
    "sales_data.drop(columns=columns_to_drop_sales, inplace=True)\n",
    "rentals_data.drop(columns=columns_to_drop_rentals, inplace=True)"
   ]
  },
  {
   "cell_type": "code",
   "execution_count": 26,
   "metadata": {},
   "outputs": [
    {
     "name": "stdout",
     "output_type": "stream",
     "text": [
      "Missing Values in Sales Data:\n",
      "                      Missing Count  Percentage\n",
      "transaction_size_sqm            660    0.405390\n",
      "is_freehold                     684    0.420132\n",
      "property_subtype_en            1392    0.855005\n",
      "rooms_en                      23257   14.285100\n",
      "project_name_en               24760   15.208285\n",
      "nearest_landmark_en           47412   29.121777\n",
      "\n",
      "Missing Values in Rentals Data:\n",
      "                     Missing Count  Percentage\n",
      "annual_amount                   14    0.001873\n",
      "property_subtype_en           2545    0.340510\n",
      "property_usage_en             2844    0.380515\n",
      "nearest_landmark_en          56810    7.600935\n",
      "nearest_metro_en            110681   14.808645\n",
      "nearest_mall_en             120826   16.166003\n"
     ]
    }
   ],
   "source": [
    "\n",
    "# Display the number and percentage of missing values for Sales Data\n",
    "print(\"Missing Values in Sales Data:\")\n",
    "missing_sales = sales_data.isnull().sum().to_frame(name=\"Missing Count\")\n",
    "missing_sales[\"Percentage\"] = (missing_sales[\"Missing Count\"] / len(sales_data)) * 100\n",
    "print(missing_sales[missing_sales[\"Missing Count\"] > 0])\n",
    "\n",
    "# Display the number and percentage of missing values for Rentals Data\n",
    "print(\"\\nMissing Values in Rentals Data:\")\n",
    "missing_rentals = rentals_data.isnull().sum().to_frame(name=\"Missing Count\")\n",
    "missing_rentals[\"Percentage\"] = (missing_rentals[\"Missing Count\"] / len(rentals_data)) * 100\n",
    "print(missing_rentals[missing_rentals[\"Missing Count\"] > 0])"
   ]
  },
  {
   "cell_type": "markdown",
   "metadata": {},
   "source": [
    "## Handling small percentage of missing values"
   ]
  },
  {
   "cell_type": "code",
   "execution_count": 27,
   "metadata": {},
   "outputs": [
    {
     "data": {
      "text/html": [
       "<div>\n",
       "<style scoped>\n",
       "    .dataframe tbody tr th:only-of-type {\n",
       "        vertical-align: middle;\n",
       "    }\n",
       "\n",
       "    .dataframe tbody tr th {\n",
       "        vertical-align: top;\n",
       "    }\n",
       "\n",
       "    .dataframe thead th {\n",
       "        text-align: right;\n",
       "    }\n",
       "</style>\n",
       "<table border=\"1\" class=\"dataframe\">\n",
       "  <thead>\n",
       "    <tr style=\"text-align: right;\">\n",
       "      <th></th>\n",
       "      <th>transaction_size_sqm</th>\n",
       "      <th>is_freehold</th>\n",
       "      <th>property_subtype_en</th>\n",
       "    </tr>\n",
       "  </thead>\n",
       "  <tbody>\n",
       "    <tr>\n",
       "      <th>0</th>\n",
       "      <td>66.47</td>\n",
       "      <td>t</td>\n",
       "      <td>Flat</td>\n",
       "    </tr>\n",
       "    <tr>\n",
       "      <th>1</th>\n",
       "      <td>70.76</td>\n",
       "      <td>t</td>\n",
       "      <td>Flat</td>\n",
       "    </tr>\n",
       "    <tr>\n",
       "      <th>2</th>\n",
       "      <td>115.33</td>\n",
       "      <td>f</td>\n",
       "      <td>Flat</td>\n",
       "    </tr>\n",
       "    <tr>\n",
       "      <th>3</th>\n",
       "      <td>110.02</td>\n",
       "      <td>t</td>\n",
       "      <td>Flat</td>\n",
       "    </tr>\n",
       "    <tr>\n",
       "      <th>4</th>\n",
       "      <td>73.32</td>\n",
       "      <td>t</td>\n",
       "      <td>Flat</td>\n",
       "    </tr>\n",
       "  </tbody>\n",
       "</table>\n",
       "</div>"
      ],
      "text/plain": [
       "   transaction_size_sqm is_freehold property_subtype_en\n",
       "0                 66.47           t                Flat\n",
       "1                 70.76           t                Flat\n",
       "2                115.33           f                Flat\n",
       "3                110.02           t                Flat\n",
       "4                 73.32           t                Flat"
      ]
     },
     "execution_count": 27,
     "metadata": {},
     "output_type": "execute_result"
    }
   ],
   "source": [
    "small_missing_sales = ['transaction_size_sqm', 'is_freehold', 'property_subtype_en'] \n",
    "sales_data[small_missing_sales].head()"
   ]
  },
  {
   "cell_type": "code",
   "execution_count": 28,
   "metadata": {},
   "outputs": [
    {
     "data": {
      "text/plain": [
       "array(['t', 'f', nan], dtype=object)"
      ]
     },
     "execution_count": 28,
     "metadata": {},
     "output_type": "execute_result"
    }
   ],
   "source": [
    "sales_data['is_freehold'].unique()"
   ]
  },
  {
   "cell_type": "markdown",
   "metadata": {},
   "source": [
    "## Impute values for small missing values. "
   ]
  },
  {
   "cell_type": "code",
   "execution_count": 29,
   "metadata": {},
   "outputs": [
    {
     "name": "stdout",
     "output_type": "stream",
     "text": [
      "Unique values in 'is_freehold_encoded':\n",
      "[1 0]\n"
     ]
    }
   ],
   "source": [
    "# Fill missing values for `is_freehold` with the mode\n",
    "sales_data['is_freehold'] = sales_data['is_freehold'].fillna(sales_data['is_freehold'].mode()[0])\n",
    "\n",
    "# Encode `is_freehold` into binary values\n",
    "sales_data['is_freehold_encoded'] = sales_data['is_freehold'].map({'t': 1, 'f': 0})\n",
    "\n",
    "\n",
    "\n",
    "# Verify the results\n",
    "print(\"Unique values in 'is_freehold_encoded':\")\n",
    "print(sales_data['is_freehold_encoded'].unique())\n"
   ]
  },
  {
   "cell_type": "code",
   "execution_count": 30,
   "metadata": {},
   "outputs": [
    {
     "name": "stdout",
     "output_type": "stream",
     "text": [
      "Missing values in 'transaction_size_sqm': 0\n"
     ]
    }
   ],
   "source": [
    "# Impute missing values in `transaction_size_sqm` with the median\n",
    "median_value = sales_data['transaction_size_sqm'].median()\n",
    "sales_data['transaction_size_sqm'] = sales_data['transaction_size_sqm'].fillna(median_value)\n",
    "\n",
    "# Verify\n",
    "print(\"Missing values in 'transaction_size_sqm':\", sales_data['transaction_size_sqm'].isnull().sum())\n"
   ]
  },
  {
   "cell_type": "code",
   "execution_count": 31,
   "metadata": {},
   "outputs": [
    {
     "name": "stdout",
     "output_type": "stream",
     "text": [
      "Missing values in 'property_subtype_en': 0\n"
     ]
    }
   ],
   "source": [
    "# Impute missing values in `property_subtype_en` with the mode\n",
    "mode_value = sales_data['property_subtype_en'].mode()[0]\n",
    "sales_data['property_subtype_en'] = sales_data['property_subtype_en'].fillna(mode_value)\n",
    "\n",
    "# Verify\n",
    "print(\"Missing values in 'property_subtype_en':\", sales_data['property_subtype_en'].isnull().sum())\n"
   ]
  },
  {
   "cell_type": "code",
   "execution_count": 32,
   "metadata": {},
   "outputs": [
    {
     "name": "stdout",
     "output_type": "stream",
     "text": [
      "Missing values in 'annual_amount': 0\n"
     ]
    }
   ],
   "source": [
    "mean_value = rentals_data['annual_amount'].mean()\n",
    "rentals_data['annual_amount'] = rentals_data['annual_amount'].fillna(mean_value)\n",
    "\n",
    "# Verify\n",
    "print(\"Missing values in 'annual_amount':\", rentals_data['annual_amount'].isnull().sum())\n"
   ]
  },
  {
   "cell_type": "code",
   "execution_count": 33,
   "metadata": {},
   "outputs": [],
   "source": [
    "# Impute missing values with the mode\n",
    "mode_value = rentals_data['property_subtype_en'].mode()[0]\n",
    "rentals_data['property_subtype_en'] = rentals_data['property_subtype_en'].fillna(mode_value)\n"
   ]
  },
  {
   "cell_type": "code",
   "execution_count": 34,
   "metadata": {},
   "outputs": [
    {
     "name": "stdout",
     "output_type": "stream",
     "text": [
      "['Residential' 'Commercial' 'Industrial' nan 'Storage'\n",
      " 'Industrial / Commercial' 'Tourist origin' 'Educational facility'\n",
      " 'Health Facility' 'Agriculture']\n",
      "Missing values in 'property_usage_en': 2844\n"
     ]
    }
   ],
   "source": [
    "print(rentals_data['property_usage_en'].unique())\n",
    "print(\"Missing values in 'property_usage_en':\", rentals_data['property_usage_en'].isnull().sum())\n"
   ]
  },
  {
   "cell_type": "code",
   "execution_count": 35,
   "metadata": {},
   "outputs": [
    {
     "name": "stdout",
     "output_type": "stream",
     "text": [
      "0\n"
     ]
    },
    {
     "name": "stderr",
     "output_type": "stream",
     "text": [
      "/tmp/ipykernel_29804/3468003011.py:3: FutureWarning: A value is trying to be set on a copy of a DataFrame or Series through chained assignment using an inplace method.\n",
      "The behavior will change in pandas 3.0. This inplace method will never work because the intermediate object on which we are setting values always behaves as a copy.\n",
      "\n",
      "For example, when doing 'df[col].method(value, inplace=True)', try using 'df.method({col: value}, inplace=True)' or df[col] = df[col].method(value) instead, to perform the operation inplace on the original object.\n",
      "\n",
      "\n",
      "  rentals_data['property_usage_en'].fillna(most_frequent_usage, inplace=True)\n"
     ]
    }
   ],
   "source": [
    "# Impute missing values with the mode\n",
    "most_frequent_usage = rentals_data['property_usage_en'].mode()[0]\n",
    "rentals_data['property_usage_en'].fillna(most_frequent_usage, inplace=True)\n",
    "\n",
    "# Verify no missing values remain\n",
    "print(rentals_data['property_usage_en'].isnull().sum())\n"
   ]
  },
  {
   "cell_type": "markdown",
   "metadata": {},
   "source": [
    "## Handle columns with medium percentage missing values 9%-30%"
   ]
  },
  {
   "cell_type": "code",
   "execution_count": 36,
   "metadata": {},
   "outputs": [
    {
     "data": {
      "text/plain": [
       "array(['1 B/R', '2 B/R', '3 B/R', 'Studio', nan, '4 B/R', '5 B/R',\n",
       "       '6 B/R', 'Office', 'PENTHOUSE', 'Shop', '7 B/R', 'Single Room',\n",
       "       'Hotel'], dtype=object)"
      ]
     },
     "execution_count": 36,
     "metadata": {},
     "output_type": "execute_result"
    }
   ],
   "source": [
    "sales_data['rooms_en'].unique()"
   ]
  },
  {
   "cell_type": "code",
   "execution_count": 37,
   "metadata": {},
   "outputs": [
    {
     "data": {
      "text/plain": [
       "23257"
      ]
     },
     "execution_count": 37,
     "metadata": {},
     "output_type": "execute_result"
    }
   ],
   "source": [
    "sales_data['rooms_en'].isnull().sum()"
   ]
  },
  {
   "cell_type": "code",
   "execution_count": 39,
   "metadata": {},
   "outputs": [],
   "source": [
    "# Define refined mapping for room counts\n",
    "room_mapping = {\n",
    "    'Studio': 0,\n",
    "    'Single Room': 1,\n",
    "    '1 B/R': 1,\n",
    "    '2 B/R': 2,\n",
    "    '3 B/R': 3,\n",
    "    '4 B/R': 4,\n",
    "    '5 B/R': 5,\n",
    "    '6 B/R': 6,\n",
    "    '7 B/R': 7,\n",
    "    'PENTHOUSE': 8,  # Assign an arbitrary high value\n",
    "    'Office': -1,    # Placeholder for office\n",
    "    'Shop': -1,      # Placeholder for shop\n",
    "    'Hotel': 10,     # Assign 10 rooms for hotel\n",
    "}\n",
    "\n",
    "# Create a numeric column for room counts\n",
    "sales_data['rooms_numeric'] = sales_data['rooms_en'].map(room_mapping)\n"
   ]
  },
  {
   "cell_type": "code",
   "execution_count": 41,
   "metadata": {},
   "outputs": [
    {
     "name": "stdout",
     "output_type": "stream",
     "text": [
      "Average Size for Non-Residential Types:\n",
      "rooms_en\n",
      "Hotel     31554.800000\n",
      "Office      131.346197\n",
      "Shop        172.384767\n",
      "Name: property_size_sqm, dtype: float64\n"
     ]
    }
   ],
   "source": [
    "# For non-residential types\n",
    "non_residential_mean_sizes = sales_data.groupby('rooms_en')['property_size_sqm'].mean()\n",
    "print(\"Average Size for Non-Residential Types:\")\n",
    "print(non_residential_mean_sizes[['Hotel', 'Office', 'Shop']])\n",
    "\n",
    "# Assign representative values based on size ranges\n",
    "sales_data.loc[sales_data['rooms_en'] == 'Office', 'rooms_numeric'] = 5  # Example value based on avg size\n",
    "sales_data.loc[sales_data['rooms_en'] == 'Shop', 'rooms_numeric'] = 2    # Example value based on avg size\n"
   ]
  },
  {
   "cell_type": "code",
   "execution_count": 42,
   "metadata": {},
   "outputs": [
    {
     "name": "stdout",
     "output_type": "stream",
     "text": [
      "Correlation between rooms_numeric and property_size_sqm:\n",
      "                   rooms_numeric  property_size_sqm\n",
      "rooms_numeric           1.000000           0.511559\n",
      "property_size_sqm       0.511559           1.000000\n"
     ]
    }
   ],
   "source": [
    "# Compute correlation\n",
    "correlation = sales_data[['rooms_numeric', 'property_size_sqm']].corr()\n",
    "print(\"Correlation between rooms_numeric and property_size_sqm:\")\n",
    "print(correlation)\n"
   ]
  },
  {
   "cell_type": "code",
   "execution_count": 43,
   "metadata": {},
   "outputs": [
    {
     "data": {
      "image/png": "[encoded data removed]",
      "text/plain": [
       "<Figure size 1000x600 with 1 Axes>"
      ]
     },
     "metadata": {},
     "output_type": "display_data"
    }
   ],
   "source": [
    "import matplotlib.pyplot as plt\n",
    "\n",
    "# Scatter plot to visualize correlation\n",
    "plt.figure(figsize=(10, 6))\n",
    "plt.scatter(sales_data['rooms_numeric'], sales_data['property_size_sqm'], alpha=0.5)\n",
    "plt.title(\"Scatter Plot: Rooms vs. Property Size\")\n",
    "plt.xlabel(\"Number of Rooms (rooms_numeric)\")\n",
    "plt.ylabel(\"Property Size (sqm)\")\n",
    "plt.grid()\n",
    "plt.show()\n"
   ]
  },
  {
   "cell_type": "code",
   "execution_count": 44,
   "metadata": {},
   "outputs": [
    {
     "data": {
      "image/png": "[encoded data removed]",
      "text/plain": [
       "<Figure size 1200x800 with 1 Axes>"
      ]
     },
     "metadata": {},
     "output_type": "display_data"
    }
   ],
   "source": [
    "# Box plot to visualize the distribution of property sizes by room count\n",
    "import seaborn as sns\n",
    "\n",
    "plt.figure(figsize=(12, 8))\n",
    "sns.boxplot(data=sales_data, x='rooms_numeric', y='property_size_sqm')\n",
    "plt.title(\"Box Plot: Property Size by Room Count\")\n",
    "plt.xlabel(\"Number of Rooms (rooms_numeric)\")\n",
    "plt.ylabel(\"Property Size (sqm)\")\n",
    "plt.grid()\n",
    "plt.show()\n"
   ]
  },
  {
   "cell_type": "code",
   "execution_count": 45,
   "metadata": {},
   "outputs": [],
   "source": [
    "# Split data into known and unknown room counts\n",
    "known_rooms = sales_data[sales_data['rooms_numeric'].notnull()]\n",
    "unknown_rooms = sales_data[sales_data['rooms_numeric'].isnull()]\n"
   ]
  },
  {
   "cell_type": "code",
   "execution_count": 46,
   "metadata": {},
   "outputs": [
    {
     "data": {
      "text/html": [
       "<style>#sk-container-id-1 {\n",
       "  /* Definition of color scheme common for light and dark mode */\n",
       "  --sklearn-color-text: black;\n",
       "  --sklearn-color-line: gray;\n",
       "  /* Definition of color scheme for unfitted estimators */\n",
       "  --sklearn-color-unfitted-level-0: #fff5e6;\n",
       "  --sklearn-color-unfitted-level-1: #f6e4d2;\n",
       "  --sklearn-color-unfitted-level-2: #ffe0b3;\n",
       "  --sklearn-color-unfitted-level-3: chocolate;\n",
       "  /* Definition of color scheme for fitted estimators */\n",
       "  --sklearn-color-fitted-level-0: #f0f8ff;\n",
       "  --sklearn-color-fitted-level-1: #d4ebff;\n",
       "  --sklearn-color-fitted-level-2: #b3dbfd;\n",
       "  --sklearn-color-fitted-level-3: cornflowerblue;\n",
       "\n",
       "  /* Specific color for light theme */\n",
       "  --sklearn-color-text-on-default-background: var(--sg-text-color, var(--theme-code-foreground, var(--jp-content-font-color1, black)));\n",
       "  --sklearn-color-background: var(--sg-background-color, var(--theme-background, var(--jp-layout-color0, white)));\n",
       "  --sklearn-color-border-box: var(--sg-text-color, var(--theme-code-foreground, var(--jp-content-font-color1, black)));\n",
       "  --sklearn-color-icon: #696969;\n",
       "\n",
       "  @media (prefers-color-scheme: dark) {\n",
       "    /* Redefinition of color scheme for dark theme */\n",
       "    --sklearn-color-text-on-default-background: var(--sg-text-color, var(--theme-code-foreground, var(--jp-content-font-color1, white)));\n",
       "    --sklearn-color-background: var(--sg-background-color, var(--theme-background, var(--jp-layout-color0, #111)));\n",
       "    --sklearn-color-border-box: var(--sg-text-color, var(--theme-code-foreground, var(--jp-content-font-color1, white)));\n",
       "    --sklearn-color-icon: #878787;\n",
       "  }\n",
       "}\n",
       "\n",
       "#sk-container-id-1 {\n",
       "  color: var(--sklearn-color-text);\n",
       "}\n",
       "\n",
       "#sk-container-id-1 pre {\n",
       "  padding: 0;\n",
       "}\n",
       "\n",
       "#sk-container-id-1 input.sk-hidden--visually {\n",
       "  border: 0;\n",
       "  clip: rect(1px 1px 1px 1px);\n",
       "  clip: rect(1px, 1px, 1px, 1px);\n",
       "  height: 1px;\n",
       "  margin: -1px;\n",
       "  overflow: hidden;\n",
       "  padding: 0;\n",
       "  position: absolute;\n",
       "  width: 1px;\n",
       "}\n",
       "\n",
       "#sk-container-id-1 div.sk-dashed-wrapped {\n",
       "  border: 1px dashed var(--sklearn-color-line);\n",
       "  margin: 0 0.4em 0.5em 0.4em;\n",
       "  box-sizing: border-box;\n",
       "  padding-bottom: 0.4em;\n",
       "  background-color: var(--sklearn-color-background);\n",
       "}\n",
       "\n",
       "#sk-container-id-1 div.sk-container {\n",
       "  /* jupyter's `normalize.less` sets `[hidden] { display: none; }`\n",
       "     but bootstrap.min.css set `[hidden] { display: none !important; }`\n",
       "     so we also need the `!important` here to be able to override the\n",
       "     default hidden behavior on the sphinx rendered scikit-learn.org.\n",
       "     See: https://github.com/scikit-learn/scikit-learn/issues/21755 */\n",
       "  display: inline-block !important;\n",
       "  position: relative;\n",
       "}\n",
       "\n",
       "#sk-container-id-1 div.sk-text-repr-fallback {\n",
       "  display: none;\n",
       "}\n",
       "\n",
       "div.sk-parallel-item,\n",
       "div.sk-serial,\n",
       "div.sk-item {\n",
       "  /* draw centered vertical line to link estimators */\n",
       "  background-image: linear-gradient(var(--sklearn-color-text-on-default-background), var(--sklearn-color-text-on-default-background));\n",
       "  background-size: 2px 100%;\n",
       "  background-repeat: no-repeat;\n",
       "  background-position: center center;\n",
       "}\n",
       "\n",
       "/* Parallel-specific style estimator block */\n",
       "\n",
       "#sk-container-id-1 div.sk-parallel-item::after {\n",
       "  content: \"\";\n",
       "  width: 100%;\n",
       "  border-bottom: 2px solid var(--sklearn-color-text-on-default-background);\n",
       "  flex-grow: 1;\n",
       "}\n",
       "\n",
       "#sk-container-id-1 div.sk-parallel {\n",
       "  display: flex;\n",
       "  align-items: stretch;\n",
       "  justify-content: center;\n",
       "  background-color: var(--sklearn-color-background);\n",
       "  position: relative;\n",
       "}\n",
       "\n",
       "#sk-container-id-1 div.sk-parallel-item {\n",
       "  display: flex;\n",
       "  flex-direction: column;\n",
       "}\n",
       "\n",
       "#sk-container-id-1 div.sk-parallel-item:first-child::after {\n",
       "  align-self: flex-end;\n",
       "  width: 50%;\n",
       "}\n",
       "\n",
       "#sk-container-id-1 div.sk-parallel-item:last-child::after {\n",
       "  align-self: flex-start;\n",
       "  width: 50%;\n",
       "}\n",
       "\n",
       "#sk-container-id-1 div.sk-parallel-item:only-child::after {\n",
       "  width: 0;\n",
       "}\n",
       "\n",
       "/* Serial-specific style estimator block */\n",
       "\n",
       "#sk-container-id-1 div.sk-serial {\n",
       "  display: flex;\n",
       "  flex-direction: column;\n",
       "  align-items: center;\n",
       "  background-color: var(--sklearn-color-background);\n",
       "  padding-right: 1em;\n",
       "  padding-left: 1em;\n",
       "}\n",
       "\n",
       "\n",
       "/* Toggleable style: style used for estimator/Pipeline/ColumnTransformer box that is\n",
       "clickable and can be expanded/collapsed.\n",
       "- Pipeline and ColumnTransformer use this feature and define the default style\n",
       "- Estimators will overwrite some part of the style using the `sk-estimator` class\n",
       "*/\n",
       "\n",
       "/* Pipeline and ColumnTransformer style (default) */\n",
       "\n",
       "#sk-container-id-1 div.sk-toggleable {\n",
       "  /* Default theme specific background. It is overwritten whether we have a\n",
       "  specific estimator or a Pipeline/ColumnTransformer */\n",
       "  background-color: var(--sklearn-color-background);\n",
       "}\n",
       "\n",
       "/* Toggleable label */\n",
       "#sk-container-id-1 label.sk-toggleable__label {\n",
       "  cursor: pointer;\n",
       "  display: block;\n",
       "  width: 100%;\n",
       "  margin-bottom: 0;\n",
       "  padding: 0.5em;\n",
       "  box-sizing: border-box;\n",
       "  text-align: center;\n",
       "}\n",
       "\n",
       "#sk-container-id-1 label.sk-toggleable__label-arrow:before {\n",
       "  /* Arrow on the left of the label */\n",
       "  content: \"▸\";\n",
       "  float: left;\n",
       "  margin-right: 0.25em;\n",
       "  color: var(--sklearn-color-icon);\n",
       "}\n",
       "\n",
       "#sk-container-id-1 label.sk-toggleable__label-arrow:hover:before {\n",
       "  color: var(--sklearn-color-text);\n",
       "}\n",
       "\n",
       "/* Toggleable content - dropdown */\n",
       "\n",
       "#sk-container-id-1 div.sk-toggleable__content {\n",
       "  max-height: 0;\n",
       "  max-width: 0;\n",
       "  overflow: hidden;\n",
       "  text-align: left;\n",
       "  /* unfitted */\n",
       "  background-color: var(--sklearn-color-unfitted-level-0);\n",
       "}\n",
       "\n",
       "#sk-container-id-1 div.sk-toggleable__content.fitted {\n",
       "  /* fitted */\n",
       "  background-color: var(--sklearn-color-fitted-level-0);\n",
       "}\n",
       "\n",
       "#sk-container-id-1 div.sk-toggleable__content pre {\n",
       "  margin: 0.2em;\n",
       "  border-radius: 0.25em;\n",
       "  color: var(--sklearn-color-text);\n",
       "  /* unfitted */\n",
       "  background-color: var(--sklearn-color-unfitted-level-0);\n",
       "}\n",
       "\n",
       "#sk-container-id-1 div.sk-toggleable__content.fitted pre {\n",
       "  /* unfitted */\n",
       "  background-color: var(--sklearn-color-fitted-level-0);\n",
       "}\n",
       "\n",
       "#sk-container-id-1 input.sk-toggleable__control:checked~div.sk-toggleable__content {\n",
       "  /* Expand drop-down */\n",
       "  max-height: 200px;\n",
       "  max-width: 100%;\n",
       "  overflow: auto;\n",
       "}\n",
       "\n",
       "#sk-container-id-1 input.sk-toggleable__control:checked~label.sk-toggleable__label-arrow:before {\n",
       "  content: \"▾\";\n",
       "}\n",
       "\n",
       "/* Pipeline/ColumnTransformer-specific style */\n",
       "\n",
       "#sk-container-id-1 div.sk-label input.sk-toggleable__control:checked~label.sk-toggleable__label {\n",
       "  color: var(--sklearn-color-text);\n",
       "  background-color: var(--sklearn-color-unfitted-level-2);\n",
       "}\n",
       "\n",
       "#sk-container-id-1 div.sk-label.fitted input.sk-toggleable__control:checked~label.sk-toggleable__label {\n",
       "  background-color: var(--sklearn-color-fitted-level-2);\n",
       "}\n",
       "\n",
       "/* Estimator-specific style */\n",
       "\n",
       "/* Colorize estimator box */\n",
       "#sk-container-id-1 div.sk-estimator input.sk-toggleable__control:checked~label.sk-toggleable__label {\n",
       "  /* unfitted */\n",
       "  background-color: var(--sklearn-color-unfitted-level-2);\n",
       "}\n",
       "\n",
       "#sk-container-id-1 div.sk-estimator.fitted input.sk-toggleable__control:checked~label.sk-toggleable__label {\n",
       "  /* fitted */\n",
       "  background-color: var(--sklearn-color-fitted-level-2);\n",
       "}\n",
       "\n",
       "#sk-container-id-1 div.sk-label label.sk-toggleable__label,\n",
       "#sk-container-id-1 div.sk-label label {\n",
       "  /* The background is the default theme color */\n",
       "  color: var(--sklearn-color-text-on-default-background);\n",
       "}\n",
       "\n",
       "/* On hover, darken the color of the background */\n",
       "#sk-container-id-1 div.sk-label:hover label.sk-toggleable__label {\n",
       "  color: var(--sklearn-color-text);\n",
       "  background-color: var(--sklearn-color-unfitted-level-2);\n",
       "}\n",
       "\n",
       "/* Label box, darken color on hover, fitted */\n",
       "#sk-container-id-1 div.sk-label.fitted:hover label.sk-toggleable__label.fitted {\n",
       "  color: var(--sklearn-color-text);\n",
       "  background-color: var(--sklearn-color-fitted-level-2);\n",
       "}\n",
       "\n",
       "/* Estimator label */\n",
       "\n",
       "#sk-container-id-1 div.sk-label label {\n",
       "  font-family: monospace;\n",
       "  font-weight: bold;\n",
       "  display: inline-block;\n",
       "  line-height: 1.2em;\n",
       "}\n",
       "\n",
       "#sk-container-id-1 div.sk-label-container {\n",
       "  text-align: center;\n",
       "}\n",
       "\n",
       "/* Estimator-specific */\n",
       "#sk-container-id-1 div.sk-estimator {\n",
       "  font-family: monospace;\n",
       "  border: 1px dotted var(--sklearn-color-border-box);\n",
       "  border-radius: 0.25em;\n",
       "  box-sizing: border-box;\n",
       "  margin-bottom: 0.5em;\n",
       "  /* unfitted */\n",
       "  background-color: var(--sklearn-color-unfitted-level-0);\n",
       "}\n",
       "\n",
       "#sk-container-id-1 div.sk-estimator.fitted {\n",
       "  /* fitted */\n",
       "  background-color: var(--sklearn-color-fitted-level-0);\n",
       "}\n",
       "\n",
       "/* on hover */\n",
       "#sk-container-id-1 div.sk-estimator:hover {\n",
       "  /* unfitted */\n",
       "  background-color: var(--sklearn-color-unfitted-level-2);\n",
       "}\n",
       "\n",
       "#sk-container-id-1 div.sk-estimator.fitted:hover {\n",
       "  /* fitted */\n",
       "  background-color: var(--sklearn-color-fitted-level-2);\n",
       "}\n",
       "\n",
       "/* Specification for estimator info (e.g. \"i\" and \"?\") */\n",
       "\n",
       "/* Common style for \"i\" and \"?\" */\n",
       "\n",
       ".sk-estimator-doc-link,\n",
       "a:link.sk-estimator-doc-link,\n",
       "a:visited.sk-estimator-doc-link {\n",
       "  float: right;\n",
       "  font-size: smaller;\n",
       "  line-height: 1em;\n",
       "  font-family: monospace;\n",
       "  background-color: var(--sklearn-color-background);\n",
       "  border-radius: 1em;\n",
       "  height: 1em;\n",
       "  width: 1em;\n",
       "  text-decoration: none !important;\n",
       "  margin-left: 1ex;\n",
       "  /* unfitted */\n",
       "  border: var(--sklearn-color-unfitted-level-1) 1pt solid;\n",
       "  color: var(--sklearn-color-unfitted-level-1);\n",
       "}\n",
       "\n",
       ".sk-estimator-doc-link.fitted,\n",
       "a:link.sk-estimator-doc-link.fitted,\n",
       "a:visited.sk-estimator-doc-link.fitted {\n",
       "  /* fitted */\n",
       "  border: var(--sklearn-color-fitted-level-1) 1pt solid;\n",
       "  color: var(--sklearn-color-fitted-level-1);\n",
       "}\n",
       "\n",
       "/* On hover */\n",
       "div.sk-estimator:hover .sk-estimator-doc-link:hover,\n",
       ".sk-estimator-doc-link:hover,\n",
       "div.sk-label-container:hover .sk-estimator-doc-link:hover,\n",
       ".sk-estimator-doc-link:hover {\n",
       "  /* unfitted */\n",
       "  background-color: var(--sklearn-color-unfitted-level-3);\n",
       "  color: var(--sklearn-color-background);\n",
       "  text-decoration: none;\n",
       "}\n",
       "\n",
       "div.sk-estimator.fitted:hover .sk-estimator-doc-link.fitted:hover,\n",
       ".sk-estimator-doc-link.fitted:hover,\n",
       "div.sk-label-container:hover .sk-estimator-doc-link.fitted:hover,\n",
       ".sk-estimator-doc-link.fitted:hover {\n",
       "  /* fitted */\n",
       "  background-color: var(--sklearn-color-fitted-level-3);\n",
       "  color: var(--sklearn-color-background);\n",
       "  text-decoration: none;\n",
       "}\n",
       "\n",
       "/* Span, style for the box shown on hovering the info icon */\n",
       ".sk-estimator-doc-link span {\n",
       "  display: none;\n",
       "  z-index: 9999;\n",
       "  position: relative;\n",
       "  font-weight: normal;\n",
       "  right: .2ex;\n",
       "  padding: .5ex;\n",
       "  margin: .5ex;\n",
       "  width: min-content;\n",
       "  min-width: 20ex;\n",
       "  max-width: 50ex;\n",
       "  color: var(--sklearn-color-text);\n",
       "  box-shadow: 2pt 2pt 4pt #999;\n",
       "  /* unfitted */\n",
       "  background: var(--sklearn-color-unfitted-level-0);\n",
       "  border: .5pt solid var(--sklearn-color-unfitted-level-3);\n",
       "}\n",
       "\n",
       ".sk-estimator-doc-link.fitted span {\n",
       "  /* fitted */\n",
       "  background: var(--sklearn-color-fitted-level-0);\n",
       "  border: var(--sklearn-color-fitted-level-3);\n",
       "}\n",
       "\n",
       ".sk-estimator-doc-link:hover span {\n",
       "  display: block;\n",
       "}\n",
       "\n",
       "/* \"?\"-specific style due to the `<a>` HTML tag */\n",
       "\n",
       "#sk-container-id-1 a.estimator_doc_link {\n",
       "  float: right;\n",
       "  font-size: 1rem;\n",
       "  line-height: 1em;\n",
       "  font-family: monospace;\n",
       "  background-color: var(--sklearn-color-background);\n",
       "  border-radius: 1rem;\n",
       "  height: 1rem;\n",
       "  width: 1rem;\n",
       "  text-decoration: none;\n",
       "  /* unfitted */\n",
       "  color: var(--sklearn-color-unfitted-level-1);\n",
       "  border: var(--sklearn-color-unfitted-level-1) 1pt solid;\n",
       "}\n",
       "\n",
       "#sk-container-id-1 a.estimator_doc_link.fitted {\n",
       "  /* fitted */\n",
       "  border: var(--sklearn-color-fitted-level-1) 1pt solid;\n",
       "  color: var(--sklearn-color-fitted-level-1);\n",
       "}\n",
       "\n",
       "/* On hover */\n",
       "#sk-container-id-1 a.estimator_doc_link:hover {\n",
       "  /* unfitted */\n",
       "  background-color: var(--sklearn-color-unfitted-level-3);\n",
       "  color: var(--sklearn-color-background);\n",
       "  text-decoration: none;\n",
       "}\n",
       "\n",
       "#sk-container-id-1 a.estimator_doc_link.fitted:hover {\n",
       "  /* fitted */\n",
       "  background-color: var(--sklearn-color-fitted-level-3);\n",
       "}\n",
       "</style><div id=\"sk-container-id-1\" class=\"sk-top-container\"><div class=\"sk-text-repr-fallback\"><pre>LinearRegression()</pre><b>In a Jupyter environment, please rerun this cell to show the HTML representation or trust the notebook. <br />On GitHub, the HTML representation is unable to render, please try loading this page with nbviewer.org.</b></div><div class=\"sk-container\" hidden><div class=\"sk-item\"><div class=\"sk-estimator fitted sk-toggleable\"><input class=\"sk-toggleable__control sk-hidden--visually\" id=\"sk-estimator-id-1\" type=\"checkbox\" checked><label for=\"sk-estimator-id-1\" class=\"sk-toggleable__label fitted sk-toggleable__label-arrow fitted\">&nbsp;&nbsp;LinearRegression<a class=\"sk-estimator-doc-link fitted\" rel=\"noreferrer\" target=\"_blank\" href=\"https://scikit-learn.org/1.5/modules/generated/sklearn.linear_model.LinearRegression.html\">?<span>Documentation for LinearRegression</span></a><span class=\"sk-estimator-doc-link fitted\">i<span>Fitted</span></span></label><div class=\"sk-toggleable__content fitted\"><pre>LinearRegression()</pre></div> </div></div></div></div>"
      ],
      "text/plain": [
       "LinearRegression()"
      ]
     },
     "execution_count": 46,
     "metadata": {},
     "output_type": "execute_result"
    }
   ],
   "source": [
    "from sklearn.linear_model import LinearRegression\n",
    "\n",
    "# Features and target\n",
    "X_train = known_rooms[['property_size_sqm']]\n",
    "y_train = known_rooms['rooms_numeric']\n",
    "\n",
    "# Train the model\n",
    "regressor = LinearRegression()\n",
    "regressor.fit(X_train, y_train)\n"
   ]
  },
  {
   "cell_type": "code",
   "execution_count": 47,
   "metadata": {},
   "outputs": [],
   "source": [
    "# Predict missing room counts\n",
    "X_missing = unknown_rooms[['property_size_sqm']]\n",
    "predicted_rooms = regressor.predict(X_missing)\n",
    "\n",
    "# Assign predictions to the missing rows (round to nearest integer if needed)\n",
    "sales_data.loc[sales_data['rooms_numeric'].isnull(), 'rooms_numeric'] = predicted_rooms.round()\n"
   ]
  },
  {
   "cell_type": "code",
   "execution_count": 48,
   "metadata": {},
   "outputs": [
    {
     "name": "stdout",
     "output_type": "stream",
     "text": [
      "Updated Room Counts:\n",
      "rooms_numeric\n",
      "1.0      53076\n",
      "2.0      42081\n",
      "0.0      25262\n",
      "3.0      20215\n",
      "4.0      10548\n",
      "         ...  \n",
      "51.0         1\n",
      "219.0        1\n",
      "185.0        1\n",
      "235.0        1\n",
      "317.0        1\n",
      "Name: count, Length: 221, dtype: int64\n"
     ]
    }
   ],
   "source": [
    "print(\"Updated Room Counts:\")\n",
    "print(sales_data['rooms_numeric'].value_counts())\n"
   ]
  },
  {
   "cell_type": "code",
   "execution_count": 49,
   "metadata": {},
   "outputs": [
    {
     "data": {
      "text/plain": [
       "array([1.0000e+00, 2.0000e+00, 3.0000e+00, 0.0000e+00, 4.0000e+00,\n",
       "       5.0000e+00, 7.0000e+00, 6.0000e+00, 1.5000e+01, 1.4000e+01,\n",
       "       3.6000e+01, 8.0000e+00, 1.6000e+01, 1.3000e+01, 1.8000e+01,\n",
       "       9.0000e+00, 1.0000e+01, 1.1000e+01, 1.2000e+01, 1.7000e+01,\n",
       "       2.2000e+01, 3.0000e+01, 3.8000e+01, 1.9000e+01, 4.2000e+01,\n",
       "       2.1000e+01, 1.1000e+02, 2.0000e+01, 1.1800e+02, 1.9700e+02,\n",
       "       8.8000e+01, 3.3000e+01, 2.9910e+03, 3.2000e+02, 1.3300e+02,\n",
       "       9.6406e+04, 1.3600e+02, 2.6000e+01, 2.5000e+01, 9.1000e+01,\n",
       "       3.7000e+01, 5.4000e+01, 2.8300e+02, 1.0900e+02, 5.7000e+01,\n",
       "       8.9000e+01, 4.9000e+01, 5.2000e+01, 3.2000e+01, 2.8000e+01,\n",
       "       1.6600e+02, 2.4000e+01, 5.9000e+01, 4.6000e+01, 3.9000e+01,\n",
       "       5.0000e+01, 7.2000e+01, 2.3000e+01, 2.2600e+02, 2.7000e+01,\n",
       "       6.3000e+01, 5.1400e+02, 4.7000e+01, 4.1000e+01, 4.3000e+01,\n",
       "       2.5700e+02, 7.1000e+01, 7.5000e+01, 6.2000e+01, 1.3100e+02,\n",
       "       2.9000e+01, 1.7970e+03, 2.6290e+03, 9.0000e+01, 7.0000e+01,\n",
       "       1.7500e+02, 7.3000e+01, 1.9000e+02, 3.1000e+01, 4.5000e+01,\n",
       "       7.7000e+01, 1.8800e+02, 6.3000e+02, 4.4000e+01, 3.4000e+01,\n",
       "       1.0600e+02, 1.1300e+02, 2.6715e+04, 1.9420e+03, 2.8800e+02,\n",
       "       5.6000e+01, 2.1600e+02, 9.4000e+01, 1.2050e+03, 1.2400e+02,\n",
       "       9.7000e+01, 4.0000e+01, 1.0100e+02, 1.5400e+02, 6.6000e+01,\n",
       "       3.5000e+01, 1.3500e+02, 1.5300e+02, 3.1200e+02, 2.3200e+02,\n",
       "       6.0000e+01, 9.8000e+01, 9.2000e+01, 8.1000e+01, 4.8000e+01,\n",
       "       1.0400e+02, 1.7400e+02, 3.0200e+02, 2.8000e+02, 1.7800e+02,\n",
       "       6.8000e+01, 6.4000e+01, 1.6500e+02, 4.1930e+03, 7.4000e+01,\n",
       "       6.1000e+01, 5.5000e+01, 1.5700e+02, 1.1560e+03, 3.2800e+02,\n",
       "       1.5200e+02, 8.2000e+01, 8.6000e+01, 3.9700e+02, 8.4000e+01,\n",
       "       2.8200e+02, 2.5500e+02, 1.5800e+02, 5.8500e+02, 1.0810e+03,\n",
       "       9.9000e+01, 8.7000e+01, 3.5900e+02, 7.6000e+01, 1.1200e+02,\n",
       "       2.9600e+02, 2.2900e+02, 2.3800e+02, 6.0900e+02, 5.8000e+01,\n",
       "       1.9900e+02, 2.3510e+03, 2.3500e+02, 1.8500e+02, 2.1900e+02,\n",
       "       5.1000e+01, 1.2500e+02, 6.5000e+01, 7.8000e+01, 1.8000e+02,\n",
       "       1.9400e+02, 7.3700e+02, 6.5100e+02, 2.5200e+02, 1.1100e+02,\n",
       "       1.8200e+02, 3.0300e+02, 4.5200e+02, 2.7300e+02, 2.0200e+02,\n",
       "       4.4100e+02, 4.9920e+03, 3.3400e+02, 1.1500e+02, 4.0100e+02,\n",
       "       1.4000e+02, 1.3700e+02, 3.2710e+03, 4.2800e+02, 1.6140e+03,\n",
       "       2.3100e+02, 9.3000e+01, 1.1600e+02, 1.4900e+02, 1.7600e+02,\n",
       "       3.4900e+02, 2.5090e+03, 1.1700e+02, 1.1400e+02, 1.9610e+03,\n",
       "       6.7300e+02, 4.0400e+02, 3.4000e+02, 2.2700e+02, 2.1000e+02,\n",
       "       1.9500e+02, 1.3800e+02, 4.1700e+02, 1.0200e+02, 9.6000e+01,\n",
       "       4.1500e+02, 2.0800e+02, 6.7000e+01, 5.9100e+02, 1.8900e+02,\n",
       "       1.4700e+02, 4.6600e+02, 1.3200e+02, 1.5000e+02, 7.9000e+01,\n",
       "       1.2700e+02, 2.5400e+02, 2.0900e+02, 2.3300e+02, 5.3800e+02,\n",
       "       3.5825e+04, 1.6100e+02, 5.3000e+01, 1.5600e+02, 1.7000e+02,\n",
       "       2.3000e+02, 1.0300e+02, 1.5900e+02, 1.2000e+02, 4.6800e+02,\n",
       "       3.1700e+02])"
      ]
     },
     "execution_count": 49,
     "metadata": {},
     "output_type": "execute_result"
    }
   ],
   "source": [
    "sales_data['rooms_numeric'].unique()"
   ]
  },
  {
   "cell_type": "code",
   "execution_count": 51,
   "metadata": {},
   "outputs": [
    {
     "data": {
      "image/png": "[encoded data removed]",
      "text/plain": [
       "<Figure size 640x480 with 1 Axes>"
      ]
     },
     "metadata": {},
     "output_type": "display_data"
    }
   ],
   "source": [
    "import matplotlib.pyplot as plt\n",
    "\n",
    "plt.hist(sales_data['rooms_numeric'], bins=50)\n",
    "plt.title(\"Distribution of Column Values\")\n",
    "plt.xlabel(\"Value\")\n",
    "plt.ylabel(\"Frequency\")\n",
    "plt.show()\n"
   ]
  },
  {
   "cell_type": "code",
   "execution_count": null,
   "metadata": {},
   "outputs": [],
   "source": [
    "from sklearn.impute import KNNImputer\n",
    "from sklearn.preprocessing import LabelEncoder, StandardScaler\n",
    "import pandas as pd\n",
    "\n",
    "# Select relevant features for imputation\n",
    "features = ['property_size_sqm', 'amount', 'transaction_size_sqm']\n",
    "target = 'rooms_en'\n",
    "\n",
    "# Prepare data\n",
    "data_with_rooms = sales_data.dropna(subset=[target])  # Rows with known rooms_en\n",
    "data_missing_rooms = sales_data[sales_data[target].isnull()]  # Rows with missing rooms_en\n",
    "\n",
    "# Encode rooms_en as numeric for the model\n",
    "label_encoder = LabelEncoder()\n",
    "data_with_rooms['rooms_en_encoded'] = label_encoder.fit_transform(data_with_rooms[target])\n",
    "\n",
    "# Standardize the features for KNN\n",
    "scaler = StandardScaler()\n",
    "scaled_features = scaler.fit_transform(data_with_rooms[features])\n",
    "\n",
    "# Train KNN Imputer\n",
    "knn_imputer = KNNImputer(n_neighbors=5)\n",
    "data_with_rooms['rooms_en_encoded'] = knn_imputer.fit_transform(data_with_rooms[['rooms_en_encoded'] + features])[:, 0]\n",
    "\n",
    "# Predict missing values\n",
    "missing_scaled_features = scaler.transform(data_missing_rooms[features])\n",
    "missing_predicted_rooms = knn_imputer.transform(missing_scaled_features)[:, 0]\n",
    "\n",
    "# Decode the predictions back to original categories\n",
    "data_missing_rooms[target] = label_encoder.inverse_transform(missing_predicted_rooms.astype(int))\n",
    "\n",
    "# Combine the datasets back\n",
    "sales_data_imputed = pd.concat([data_with_rooms, data_missing_rooms], axis=0)\n",
    "\n",
    "# Verify imputation\n",
    "print(\"Missing values in 'rooms_en' after imputation:\", sales_data_imputed['rooms_en'].isnull().sum())\n"
   ]
  },
  {
   "cell_type": "code",
   "execution_count": 52,
   "metadata": {},
   "outputs": [
    {
     "name": "stdout",
     "output_type": "stream",
     "text": [
      "[ 1.   2.   3.   nan  4.   5.   6.   1.5  7.  10. ]\n"
     ]
    }
   ],
   "source": [
    "# Updated Mapping\n",
    "rooms_mapping = {\n",
    "    'Studio': 1,\n",
    "    '1 B/R': 1,\n",
    "    '2 B/R': 2,\n",
    "    '3 B/R': 3,\n",
    "    '4 B/R': 4,\n",
    "    '5 B/R': 5,\n",
    "    '6 B/R': 6,\n",
    "    '7 B/R': 7,\n",
    "    'Single Room': 1,\n",
    "    'PENTHOUSE': 5,\n",
    "    'Office': 1.5,  # Representative value for offices\n",
    "    'Shop': 1,      # Assume one shop counts as one unit\n",
    "    'Hotel': 10     # Assume hotels have an average of 10 rooms\n",
    "}\n",
    "\n",
    "# Create the new column with updated mapping\n",
    "sales_data['rooms_en_imputed'] = sales_data['rooms_en'].map(rooms_mapping)\n",
    "\n",
    "# Verify the results\n",
    "print(sales_data['rooms_en_imputed'].unique())\n"
   ]
  },
  {
   "cell_type": "code",
   "execution_count": 54,
   "metadata": {},
   "outputs": [
    {
     "name": "stdout",
     "output_type": "stream",
     "text": [
      "Missing values in 'rooms_en_imputed': 0\n"
     ]
    },
    {
     "ename": "NameError",
     "evalue": "name 'np' is not defined",
     "output_type": "error",
     "traceback": [
      "\u001b[0;31m---------------------------------------------------------------------------\u001b[0m",
      "\u001b[0;31mNameError\u001b[0m                                 Traceback (most recent call last)",
      "Cell \u001b[0;32mIn[54], line 20\u001b[0m\n\u001b[1;32m     18\u001b[0m \u001b[38;5;66;03m# Step 4: Check for Missing Values\u001b[39;00m\n\u001b[1;32m     19\u001b[0m \u001b[38;5;28mprint\u001b[39m(\u001b[38;5;124m\"\u001b[39m\u001b[38;5;124mMissing values in \u001b[39m\u001b[38;5;124m'\u001b[39m\u001b[38;5;124mrooms_en_imputed\u001b[39m\u001b[38;5;124m'\u001b[39m\u001b[38;5;124m:\u001b[39m\u001b[38;5;124m\"\u001b[39m, sales_data[\u001b[38;5;124m'\u001b[39m\u001b[38;5;124mrooms_en_imputed\u001b[39m\u001b[38;5;124m'\u001b[39m]\u001b[38;5;241m.\u001b[39misnull()\u001b[38;5;241m.\u001b[39msum())\n\u001b[0;32m---> 20\u001b[0m \u001b[38;5;28mprint\u001b[39m(\u001b[38;5;124m\"\u001b[39m\u001b[38;5;124mUnique values in \u001b[39m\u001b[38;5;124m'\u001b[39m\u001b[38;5;124mrooms_en_imputed\u001b[39m\u001b[38;5;124m'\u001b[39m\u001b[38;5;124m:\u001b[39m\u001b[38;5;124m\"\u001b[39m, \u001b[43mnp\u001b[49m\u001b[38;5;241m.\u001b[39munique(sales_data[\u001b[38;5;124m'\u001b[39m\u001b[38;5;124mrooms_en_imputed\u001b[39m\u001b[38;5;124m'\u001b[39m]))\n\u001b[1;32m     22\u001b[0m \u001b[38;5;66;03m# Step 5: Visualize the Imputed Data\u001b[39;00m\n\u001b[1;32m     23\u001b[0m plt\u001b[38;5;241m.\u001b[39mhist(sales_data[\u001b[38;5;124m'\u001b[39m\u001b[38;5;124mrooms_en_imputed\u001b[39m\u001b[38;5;124m'\u001b[39m], bins\u001b[38;5;241m=\u001b[39m\u001b[38;5;241m15\u001b[39m, edgecolor\u001b[38;5;241m=\u001b[39m\u001b[38;5;124m'\u001b[39m\u001b[38;5;124mblack\u001b[39m\u001b[38;5;124m'\u001b[39m)\n",
      "\u001b[0;31mNameError\u001b[0m: name 'np' is not defined"
     ]
    }
   ],
   "source": [
    "from sklearn.impute import KNNImputer\n",
    "\n",
    "# Combine the room column with related numerical features for imputation\n",
    "knn_features = ['rooms_en_imputed', 'property_size_sqm']\n",
    "\n",
    "# Filter only the rows that have the necessary numerical data\n",
    "knn_data = sales_data[knn_features]\n",
    "\n",
    "# Initialize KNN Imputer\n",
    "knn_imputer = KNNImputer(n_neighbors=5)\n",
    "\n",
    "# Perform KNN Imputation\n",
    "knn_data_imputed = knn_imputer.fit_transform(knn_data)\n",
    "\n",
    "# Update the imputed values back into the DataFrame\n",
    "sales_data['rooms_en_imputed'] = knn_data_imputed[:, 0]  # First column corresponds to rooms_en_imputed\n",
    "\n",
    "\n"
   ]
  },
  {
   "cell_type": "code",
   "execution_count": 55,
   "metadata": {},
   "outputs": [
    {
     "name": "stdout",
     "output_type": "stream",
     "text": [
      "Missing values in 'rooms_en_imputed': 0\n",
      "Unique values in 'rooms_en_imputed': [ 1.   1.1  1.2  1.3  1.4  1.5  1.6  1.7  1.8  1.9  2.   2.1  2.2  2.3\n",
      "  2.4  2.5  2.6  2.7  2.8  2.9  3.   3.1  3.2  3.3  3.4  3.5  3.6  3.7\n",
      "  3.8  3.9  4.   4.1  4.2  4.3  4.4  4.5  4.6  4.7  4.8  4.9  5.   5.2\n",
      "  5.4  5.6  5.8  6.   7.  10. ]\n"
     ]
    },
    {
     "data": {
      "image/png": "[encoded data removed]",
      "text/plain": [
       "<Figure size 640x480 with 1 Axes>"
      ]
     },
     "metadata": {},
     "output_type": "display_data"
    }
   ],
   "source": [
    "import numpy as np\n",
    "# Step 4: Check for Missing Values\n",
    "print(\"Missing values in 'rooms_en_imputed':\", sales_data['rooms_en_imputed'].isnull().sum())\n",
    "print(\"Unique values in 'rooms_en_imputed':\", np.unique(sales_data['rooms_en_imputed']))\n",
    "\n",
    "# Step 5: Visualize the Imputed Data\n",
    "plt.hist(sales_data['rooms_en_imputed'], bins=15, edgecolor='black')\n",
    "plt.title(\"Distribution of 'rooms_en_imputed'\")\n",
    "plt.xlabel(\"Number of Rooms\")\n",
    "plt.ylabel(\"Frequency\")\n",
    "plt.show()"
   ]
  },
  {
   "cell_type": "markdown",
   "metadata": {},
   "source": [
    "## Handle project_name_en Is it worth keeping?"
   ]
  },
  {
   "cell_type": "code",
   "execution_count": 56,
   "metadata": {},
   "outputs": [
    {
     "data": {
      "text/plain": [
       "array(['THE VYBE', 'Elitz 3 By Danube ', 'TRIA BY DEYAAR', ...,\n",
       "       'The Oasis - Palmiera 3', 'azizi veince 12', 'LA VISTA 05'],\n",
       "      dtype=object)"
      ]
     },
     "execution_count": 56,
     "metadata": {},
     "output_type": "execute_result"
    }
   ],
   "source": [
    "sales_data['project_name_en'].unique()"
   ]
  },
  {
   "cell_type": "code",
   "execution_count": 57,
   "metadata": {},
   "outputs": [
    {
     "name": "stdout",
     "output_type": "stream",
     "text": [
      "Correlation between `project_name_en` and `amount`:\n",
      "                         project_name_en_encoded    amount\n",
      "project_name_en_encoded                 1.000000  0.020358\n",
      "amount                                  0.020358  1.000000\n"
     ]
    },
    {
     "name": "stderr",
     "output_type": "stream",
     "text": [
      "/tmp/ipykernel_29804/3939853182.py:8: SettingWithCopyWarning: \n",
      "A value is trying to be set on a copy of a slice from a DataFrame.\n",
      "Try using .loc[row_indexer,col_indexer] = value instead\n",
      "\n",
      "See the caveats in the documentation: https://pandas.pydata.org/pandas-docs/stable/user_guide/indexing.html#returning-a-view-versus-a-copy\n",
      "  non_missing_projects['project_name_en_encoded'] = label_encoder.fit_transform(non_missing_projects['project_name_en'])\n"
     ]
    }
   ],
   "source": [
    "from sklearn.preprocessing import LabelEncoder\n",
    "\n",
    "# Step 1: Filter rows with non-missing project_name_en\n",
    "non_missing_projects = sales_data[sales_data['project_name_en'].notnull()]\n",
    "\n",
    "# Step 2: Encode project_name_en to numerical values\n",
    "label_encoder = LabelEncoder()\n",
    "non_missing_projects['project_name_en_encoded'] = label_encoder.fit_transform(non_missing_projects['project_name_en'])\n",
    "\n",
    "# Step 3: Compute correlation between project_name_en_encoded and amount\n",
    "correlation = non_missing_projects[['project_name_en_encoded', 'amount']].corr()\n",
    "\n",
    "# Display the correlation\n",
    "print(\"Correlation between `project_name_en` and `amount`:\")\n",
    "print(correlation)\n"
   ]
  },
  {
   "cell_type": "code",
   "execution_count": 58,
   "metadata": {},
   "outputs": [],
   "source": [
    "from sklearn.preprocessing import OrdinalEncoder\n",
    "\n",
    "sales_data['project_name_en_encoded'] = OrdinalEncoder().fit_transform(\n",
    "    sales_data[['project_name_en']].fillna('Unknown')\n",
    ")\n",
    "target_mean = sales_data.groupby('project_name_en')['amount'].mean()\n",
    "sales_data['project_name_en_encoded'] = sales_data['project_name_en'].map(target_mean)\n"
   ]
  },
  {
   "cell_type": "code",
   "execution_count": 59,
   "metadata": {},
   "outputs": [],
   "source": [
    "from sklearn.model_selection import train_test_split\n",
    "\n",
    "X = sales_data[['project_name_en_encoded']]  # or include other features too\n",
    "y = sales_data['amount']\n",
    "\n",
    "# Split into training and testing sets\n",
    "X_train, X_test, y_train, y_test = train_test_split(X, y, test_size=0.2, random_state=42)\n"
   ]
  },
  {
   "cell_type": "code",
   "execution_count": 60,
   "metadata": {},
   "outputs": [
    {
     "name": "stdout",
     "output_type": "stream",
     "text": [
      "Mean Squared Error: 907860598265891.4\n",
      "R2 Score: 0.01619019260059129\n"
     ]
    }
   ],
   "source": [
    "from sklearn.ensemble import RandomForestRegressor\n",
    "from sklearn.metrics import mean_squared_error, r2_score\n",
    "\n",
    "# Train the model\n",
    "rf = RandomForestRegressor(random_state=42)\n",
    "rf.fit(X_train, y_train)\n",
    "\n",
    "# Evaluate the model\n",
    "y_pred = rf.predict(X_test)\n",
    "print(\"Mean Squared Error:\", mean_squared_error(y_test, y_pred))\n",
    "print(\"R2 Score:\", r2_score(y_test, y_pred))\n"
   ]
  },
  {
   "cell_type": "code",
   "execution_count": 61,
   "metadata": {},
   "outputs": [
    {
     "name": "stdout",
     "output_type": "stream",
     "text": [
      "                   Feature  Importance\n",
      "0  project_name_en_encoded         1.0\n"
     ]
    }
   ],
   "source": [
    "# Get feature importance\n",
    "importances = rf.feature_importances_\n",
    "features = X.columns\n",
    "importance_df = pd.DataFrame({'Feature': features, 'Importance': importances})\n",
    "\n",
    "# Sort and display\n",
    "importance_df = importance_df.sort_values(by='Importance', ascending=False)\n",
    "print(importance_df)\n"
   ]
  },
  {
   "cell_type": "code",
   "execution_count": 62,
   "metadata": {},
   "outputs": [
    {
     "data": {
      "image/png": "[encoded data removed]",
      "text/plain": [
       "<Figure size 640x480 with 1 Axes>"
      ]
     },
     "metadata": {},
     "output_type": "display_data"
    }
   ],
   "source": [
    "import seaborn as sns\n",
    "import matplotlib.pyplot as plt\n",
    "\n",
    "sns.boxplot(data=sales_data, x='project_name_en_encoded', y='amount')\n",
    "plt.xticks(rotation=90)\n",
    "plt.show()\n"
   ]
  },
  {
   "cell_type": "markdown",
   "metadata": {},
   "source": [
    "The results indicate the following:\n",
    "\n",
    "Mean Squared Error (MSE): A high MSE suggests the model isn't making accurate predictions, which could be due to project_name_en_encoded not having strong predictive power for amount.\n",
    "R2 Score: An R² value of 0.016 suggests that the model explains only 1.6% of the variance in the target variable (amount), meaning the feature project_name_en_encoded alone is not very effective.\n",
    "Feature Importance: Since the model is trained with just one feature (project_name_en_encoded), its importance is naturally 1.0. This doesn't mean it's predictive, just that it's the only feature being used\n",
    "In this case, this feature could cause noise to the model. So I will drop it."
   ]
  },
  {
   "cell_type": "code",
   "execution_count": 63,
   "metadata": {},
   "outputs": [
    {
     "name": "stdout",
     "output_type": "stream",
     "text": [
      "R2 Score with additional features: 0.01619019260059129\n"
     ]
    }
   ],
   "source": [
    "X = sales_data[['project_name_en_encoded', 'transaction_type_id', 'property_size_sqm']]  # Add relevant features\n",
    "rf.fit(X_train, y_train)\n",
    "print(\"R2 Score with additional features:\", r2_score(y_test, rf.predict(X_test)))\n"
   ]
  },
  {
   "cell_type": "code",
   "execution_count": 64,
   "metadata": {},
   "outputs": [
    {
     "name": "stdout",
     "output_type": "stream",
     "text": [
      "Unique Values in 'nearest_landmark_en': 14\n",
      "Missing Values in 'nearest_landmark_en': 47412\n"
     ]
    }
   ],
   "source": [
    "# Basic statistics\n",
    "print(\"Unique Values in 'nearest_landmark_en':\", sales_data['nearest_landmark_en'].nunique())\n",
    "print(\"Missing Values in 'nearest_landmark_en':\", sales_data['nearest_landmark_en'].isnull().sum())\n"
   ]
  }
 ],
 "metadata": {
  "kernelspec": {
   "display_name": "avms",
   "language": "python",
   "name": "python3"
  },
  "language_info": {
   "codemirror_mode": {
    "name": "ipython",
    "version": 3
   },
   "file_extension": ".py",
   "mimetype": "text/x-python",
   "name": "python",
   "nbconvert_exporter": "python",
   "pygments_lexer": "ipython3",
   "version": "3.11.10"
  }
 },
 "nbformat": 4,
 "nbformat_minor": 2
}
