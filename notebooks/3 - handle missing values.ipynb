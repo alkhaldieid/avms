{
 "cells": [
  {
   "cell_type": "code",
   "execution_count": 1,
   "metadata": {},
   "outputs": [],
   "source": [
    "import pandas as pd\n",
    "import matplotlib.pyplot as plt\n",
    "import seaborn as sns"
   ]
  },
  {
   "cell_type": "code",
   "execution_count": 2,
   "metadata": {},
   "outputs": [],
   "source": [
    "# Load the datasets\n",
    "original_sales_data = pd.read_csv('../data/snp_dld_2024_transactions.csv', low_memory=False)\n",
    "original_rentals_data = pd.read_csv('../data/snp_dld_2024_rents.csv', low_memory=False)"
   ]
  },
  {
   "cell_type": "code",
   "execution_count": 31,
   "metadata": {},
   "outputs": [],
   "source": [
    "meta_dup_sales = [\n",
    "    'transaction_number',  # ID column\n",
    "    'entry_id',            # Metadata\n",
    "    'meta_ts',             # Metadata timestamp\n",
    "    'master_project_en',   # Very few non-null values\n",
    "    'master_project_ar',   # Very few non-null values\n",
    "    'property_type_ar',    # Duplicate of property_type_en\n",
    "    'property_subtype_ar', # Duplicate of property_subtype_en\n",
    "    'project_name_ar',     # Duplicate of project_name_en\n",
    "    'area_ar',             # Duplicate of area_en\n",
    "    'nearest_landmark_ar', # Duplicate of nearest_landmark_en\n",
    "    'nearest_metro_ar',    # Duplicate of nearest_metro_en\n",
    "    'nearest_mall_ar',      # Duplicate of nearest_mall_en\n",
    "    'parcel_id',  # not needed\n",
    "    'transaction_type_en', #Duplicate of transaction_type_id\n",
    "    'transaction_subtype_en', #Constant\n",
    "    'transaction_subtype_id', #Constant\n",
    "    'property_id', #Constant\n",
    "    'property_type_id', #Constant\n",
    "    'property_subtype_id', #Constant\n",
    "    'building_age', #Constant\n",
    "    'area_id', #Constant\n",
    "    'is_freehold_text', #duplicate of is_freehold\n",
    "    'property_usage_en' # Duplicate of property_usage_id\n",
    "]\n",
    "meta_dup_rentals=[\n",
    "    'ejari_contract_number', # ID column\n",
    "    'land_property_id',      # Redundant ID column\n",
    "    'entry_id',              # Metadata\n",
    "    'meta_ts',               # Metadata timestamp\n",
    "    'master_project_en',     # Very few non-null values\n",
    "    'master_project_ar',     # Very few non-null values\n",
    "    'property_type_ar',      # Duplicate of property_type_en\n",
    "    'property_subtype_ar',   # Duplicate of property_subtype_en\n",
    "    'property_usage_ar',     # Duplicate of property_usage_en\n",
    "    'project_name_ar',       # Duplicate of project_name_en\n",
    "    'area_ar',               # Duplicate of area_en\n",
    "    'nearest_landmark_ar',   # Duplicate of nearest_landmark_en\n",
    "    'nearest_metro_ar',      # Duplicate of nearest_metro_en\n",
    "    'nearest_mall_ar',        # Duplicate of nearest_mall_en\n",
    "    'property_id',   #constant\n",
    "    'property_usage_id', #constant\n",
    "    'area_id',   #constant\n",
    "    'ejari_property_type_id',   #constant\n",
    "    'ejari_property_sub_type_id',  #constant\n",
    "    'parking', #97% missing data\n",
    "    'parcel_id', # negative correlation\n",
    "    'is_freehold_text', # duplicate of is_freehold\n",
    "    'rooms' # 97% missing\n",
    "\n",
    "]\n",
    "drop_after_missing_sales = [\n",
    "    'transaction_datetime_year',  #Constant after handling dates\n",
    "    'req_from_year',  #Constant after handling dates\n",
    "    'req_from_day',  #Constant after handling dates\n",
    "    'req_to_year', #Constant after handling dates\n",
    "    'parking', # Replaced with parking count\n",
    "    'rooms_en', # replaced with rooms_numeric\n",
    "    'rooms_ar'\n",
    "]\n",
    "\n",
    "# List of columns to drop from rentals_data\n",
    "drop_after_missing_rentals = [\n",
    "\n",
    "    'registration_date_year',  #Constant after handling dates\n",
    "    'req_from_year',  #Constant after handling dates\n",
    "    'req_from_day',  #Constant after handling dates\n",
    "    'req_to_year',  #Constant after handling dates\n",
    "    'req_from_year',  #Constant after handling dates\n",
    "    'req_from_day', #Constant after handling dates\n",
    "    'req_to_year',  #Constant after handling dates\n",
    "    'registration_date_year',  #Constant after handling dates\n",
    "    'req_from_year',  #Constant after handling dates\n",
    "    'req_from_day',  #Constant after handling dates\n",
    "    'req_to_year', #Constant after handling dates\n",
    "]"
   ]
  },
  {
   "cell_type": "code",
   "execution_count": 4,
   "metadata": {},
   "outputs": [],
   "source": [
    "def process_date_columns(df, date_columns):\n",
    "    for col in date_columns:\n",
    "        if col in df.columns:\n",
    "            df[col] = pd.to_datetime(df[col], errors='coerce')\n",
    "            df[f\"{col}_year\"] = df[col].dt.year\n",
    "            df[f\"{col}_month\"] = df[col].dt.month\n",
    "            df[f\"{col}_day\"] = df[col].dt.day\n",
    "            df[f\"{col}_weekday\"] = df[col].dt.weekday\n",
    "            df[f\"{col}_dayofyear\"] = df[col].dt.dayofyear\n",
    "    df.drop(columns=date_columns, inplace=True, errors='ignore')\n",
    "    return df\n",
    "\n",
    "sales_date_columns = ['transaction_datetime', 'req_from', 'req_to']\n",
    "rentals_date_columns = ['registration_date', 'contract_start_date', 'contract_end_date', 'req_from', 'req_to']\n",
    "sales_data = process_date_columns(original_sales_data, sales_date_columns)\n",
    "rentals_data = process_date_columns(original_rentals_data, rentals_date_columns)"
   ]
  },
  {
   "cell_type": "code",
   "execution_count": 5,
   "metadata": {},
   "outputs": [
    {
     "name": "stdout",
     "output_type": "stream",
     "text": [
      "       parking  parking_count\n",
      "162801  B2-081              1\n",
      "162802     NaN              0\n",
      "162803  B2-140              1\n",
      "162804   G-114              1\n",
      "162805   G-127              1\n"
     ]
    }
   ],
   "source": [
    "import re\n",
    "import pandas as pd\n",
    "\n",
    "def calculate_parking_count(value):\n",
    "    \"\"\"\n",
    "    Calculate the parking count based on the given strategy:\n",
    "    - Fields separated by commas are counted as separate spots unless 'to' is present.\n",
    "    - If 'to' is present, calculate the range of parking spots.\n",
    "    - Single identifiers like 'G-127' are counted as one spot.\n",
    "    \"\"\"\n",
    "    if pd.isna(value):\n",
    "        return 0  # No information\n",
    "\n",
    "    total_count = 0\n",
    "    fields = str(value).split(\",\")  # Split by commas\n",
    "    for field in fields:\n",
    "        field = field.strip()  # Remove extra whitespace\n",
    "        if re.search(r\"\\bto\\b\", field, re.IGNORECASE):  # Check for 'to' (case insensitive)\n",
    "            # Extract numbers in the range and calculate spots\n",
    "            numbers = [int(num) for num in re.findall(r\"\\d+\", field)]\n",
    "            if len(numbers) == 2:  # Range is valid\n",
    "                total_count += abs(numbers[1] - numbers[0]) + 1\n",
    "        elif re.search(r\"\\d+\", field):  # Single numeric identifier (e.g., G-127)\n",
    "            total_count += 1\n",
    "        else:\n",
    "            total_count += 0  # Invalid or non-informative field\n",
    "    return total_count\n",
    "\n",
    "# Apply the logic to the `parking` column\n",
    "sales_data['parking_count'] = sales_data['parking'].apply(calculate_parking_count)\n",
    "\n",
    "# Save results for validation\n",
    "sales_data[['parking', 'parking_count']].to_csv(\"processed_parking_count.csv\", index=False)\n",
    "\n",
    "# Example check\n",
    "print(sales_data[['parking', 'parking_count']].tail())"
   ]
  },
  {
   "cell_type": "code",
   "execution_count": 6,
   "metadata": {},
   "outputs": [
    {
     "name": "stdout",
     "output_type": "stream",
     "text": [
      "Missing Values in Sales Data:\n",
      "                      Missing Count  Percentage\n",
      "transaction_size_sqm            660    0.405390\n",
      "parcel_id                    102355   62.869305\n",
      "is_freehold                     684    0.420132\n",
      "property_subtype_en            1392    0.855005\n",
      "property_subtype_ar            1392    0.855005\n",
      "rooms_en                      23257   14.285100\n",
      "rooms_ar                      21362   13.121138\n",
      "parking                       40463   24.853507\n",
      "project_name_en               24760   15.208285\n",
      "project_name_ar               24760   15.208285\n",
      "nearest_landmark_en           47412   29.121777\n",
      "nearest_landmark_ar           47412   29.121777\n",
      "nearest_metro_en              65982   40.527990\n",
      "nearest_metro_ar              65982   40.527990\n",
      "nearest_mall_en               66842   41.056226\n",
      "nearest_mall_ar               66842   41.056226\n",
      "master_project_en            162460   99.787477\n",
      "master_project_ar            162460   99.787477\n",
      "\n",
      "Missing Values in Rentals Data:\n",
      "                     Missing Count  Percentage\n",
      "annual_amount                   14    0.001873\n",
      "parcel_id                   230425   30.829881\n",
      "property_subtype_en           2545    0.340510\n",
      "property_subtype_ar           2545    0.340510\n",
      "property_usage_en             2844    0.380515\n",
      "property_usage_ar             2844    0.380515\n",
      "rooms                       721746   96.566534\n",
      "parking                     731686   97.896464\n",
      "project_name_en             576935   77.191440\n",
      "project_name_ar             576935   77.191440\n",
      "nearest_landmark_en          56810    7.600935\n",
      "nearest_landmark_ar          56810    7.600935\n",
      "nearest_metro_en            110681   14.808645\n",
      "nearest_metro_ar            110681   14.808645\n",
      "nearest_mall_en             120826   16.166003\n",
      "nearest_mall_ar             120826   16.166003\n",
      "master_project_en           747311   99.987022\n",
      "master_project_ar           747311   99.987022\n"
     ]
    }
   ],
   "source": [
    "\n",
    "# Display the number and percentage of missing values for Sales Data\n",
    "print(\"Missing Values in Sales Data:\")\n",
    "missing_sales = sales_data.isnull().sum().to_frame(name=\"Missing Count\")\n",
    "missing_sales[\"Percentage\"] = (missing_sales[\"Missing Count\"] / len(sales_data)) * 100\n",
    "print(missing_sales[missing_sales[\"Missing Count\"] > 0])\n",
    "\n",
    "# Display the number and percentage of missing values for Rentals Data\n",
    "print(\"\\nMissing Values in Rentals Data:\")\n",
    "missing_rentals = rentals_data.isnull().sum().to_frame(name=\"Missing Count\")\n",
    "missing_rentals[\"Percentage\"] = (missing_rentals[\"Missing Count\"] / len(rentals_data)) * 100\n",
    "print(missing_rentals[missing_rentals[\"Missing Count\"] > 0])"
   ]
  },
  {
   "cell_type": "markdown",
   "metadata": {},
   "source": [
    "## Handling small percentage of missing values"
   ]
  },
  {
   "cell_type": "code",
   "execution_count": 7,
   "metadata": {},
   "outputs": [
    {
     "data": {
      "text/html": [
       "<div>\n",
       "<style scoped>\n",
       "    .dataframe tbody tr th:only-of-type {\n",
       "        vertical-align: middle;\n",
       "    }\n",
       "\n",
       "    .dataframe tbody tr th {\n",
       "        vertical-align: top;\n",
       "    }\n",
       "\n",
       "    .dataframe thead th {\n",
       "        text-align: right;\n",
       "    }\n",
       "</style>\n",
       "<table border=\"1\" class=\"dataframe\">\n",
       "  <thead>\n",
       "    <tr style=\"text-align: right;\">\n",
       "      <th></th>\n",
       "      <th>transaction_size_sqm</th>\n",
       "      <th>is_freehold</th>\n",
       "      <th>property_subtype_en</th>\n",
       "    </tr>\n",
       "  </thead>\n",
       "  <tbody>\n",
       "    <tr>\n",
       "      <th>0</th>\n",
       "      <td>66.47</td>\n",
       "      <td>t</td>\n",
       "      <td>Flat</td>\n",
       "    </tr>\n",
       "    <tr>\n",
       "      <th>1</th>\n",
       "      <td>70.76</td>\n",
       "      <td>t</td>\n",
       "      <td>Flat</td>\n",
       "    </tr>\n",
       "    <tr>\n",
       "      <th>2</th>\n",
       "      <td>115.33</td>\n",
       "      <td>f</td>\n",
       "      <td>Flat</td>\n",
       "    </tr>\n",
       "    <tr>\n",
       "      <th>3</th>\n",
       "      <td>110.02</td>\n",
       "      <td>t</td>\n",
       "      <td>Flat</td>\n",
       "    </tr>\n",
       "    <tr>\n",
       "      <th>4</th>\n",
       "      <td>73.32</td>\n",
       "      <td>t</td>\n",
       "      <td>Flat</td>\n",
       "    </tr>\n",
       "  </tbody>\n",
       "</table>\n",
       "</div>"
      ],
      "text/plain": [
       "   transaction_size_sqm is_freehold property_subtype_en\n",
       "0                 66.47           t                Flat\n",
       "1                 70.76           t                Flat\n",
       "2                115.33           f                Flat\n",
       "3                110.02           t                Flat\n",
       "4                 73.32           t                Flat"
      ]
     },
     "execution_count": 7,
     "metadata": {},
     "output_type": "execute_result"
    }
   ],
   "source": [
    "small_missing_sales = ['transaction_size_sqm', 'is_freehold', 'property_subtype_en'] \n",
    "sales_data[small_missing_sales].head()"
   ]
  },
  {
   "cell_type": "code",
   "execution_count": 8,
   "metadata": {},
   "outputs": [
    {
     "data": {
      "text/plain": [
       "array(['t', 'f', nan], dtype=object)"
      ]
     },
     "execution_count": 8,
     "metadata": {},
     "output_type": "execute_result"
    }
   ],
   "source": [
    "sales_data['is_freehold'].unique()"
   ]
  },
  {
   "cell_type": "markdown",
   "metadata": {},
   "source": [
    "## Impute values for small missing values. "
   ]
  },
  {
   "cell_type": "code",
   "execution_count": 9,
   "metadata": {},
   "outputs": [
    {
     "name": "stdout",
     "output_type": "stream",
     "text": [
      "Unique values in 'is_freehold_encoded':\n",
      "[1 0]\n"
     ]
    }
   ],
   "source": [
    "# Fill missing values for `is_freehold` with the mode\n",
    "sales_data['is_freehold'] = sales_data['is_freehold'].fillna(sales_data['is_freehold'].mode()[0])\n",
    "\n",
    "# Encode `is_freehold` into binary values\n",
    "sales_data['is_freehold_encoded'] = sales_data['is_freehold'].map({'t': 1, 'f': 0})\n",
    "\n",
    "\n",
    "\n",
    "# Verify the results\n",
    "print(\"Unique values in 'is_freehold_encoded':\")\n",
    "print(sales_data['is_freehold_encoded'].unique())\n"
   ]
  },
  {
   "cell_type": "code",
   "execution_count": 10,
   "metadata": {},
   "outputs": [
    {
     "name": "stdout",
     "output_type": "stream",
     "text": [
      "Missing values in 'transaction_size_sqm': 0\n"
     ]
    }
   ],
   "source": [
    "# Impute missing values in `transaction_size_sqm` with the median\n",
    "median_value = sales_data['transaction_size_sqm'].median()\n",
    "sales_data['transaction_size_sqm'] = sales_data['transaction_size_sqm'].fillna(median_value)\n",
    "\n",
    "# Verify\n",
    "print(\"Missing values in 'transaction_size_sqm':\", sales_data['transaction_size_sqm'].isnull().sum())\n"
   ]
  },
  {
   "cell_type": "code",
   "execution_count": 11,
   "metadata": {},
   "outputs": [
    {
     "name": "stdout",
     "output_type": "stream",
     "text": [
      "Missing values in 'property_subtype_en': 0\n"
     ]
    }
   ],
   "source": [
    "# Impute missing values in `property_subtype_en` with the mode\n",
    "mode_value = sales_data['property_subtype_en'].mode()[0]\n",
    "sales_data['property_subtype_en'] = sales_data['property_subtype_en'].fillna(mode_value)\n",
    "\n",
    "# Verify\n",
    "print(\"Missing values in 'property_subtype_en':\", sales_data['property_subtype_en'].isnull().sum())\n"
   ]
  },
  {
   "cell_type": "code",
   "execution_count": 12,
   "metadata": {},
   "outputs": [
    {
     "name": "stdout",
     "output_type": "stream",
     "text": [
      "Missing values in 'annual_amount': 0\n"
     ]
    }
   ],
   "source": [
    "mean_value = rentals_data['annual_amount'].mean()\n",
    "rentals_data['annual_amount'] = rentals_data['annual_amount'].fillna(mean_value)\n",
    "\n",
    "# Verify\n",
    "print(\"Missing values in 'annual_amount':\", rentals_data['annual_amount'].isnull().sum())\n"
   ]
  },
  {
   "cell_type": "code",
   "execution_count": 13,
   "metadata": {},
   "outputs": [],
   "source": [
    "# Impute missing values with the mode\n",
    "mode_value = rentals_data['property_subtype_en'].mode()[0]\n",
    "rentals_data['property_subtype_en'] = rentals_data['property_subtype_en'].fillna(mode_value)\n"
   ]
  },
  {
   "cell_type": "code",
   "execution_count": 14,
   "metadata": {},
   "outputs": [
    {
     "name": "stdout",
     "output_type": "stream",
     "text": [
      "['Residential' 'Commercial' 'Industrial' nan 'Storage'\n",
      " 'Industrial / Commercial' 'Tourist origin' 'Educational facility'\n",
      " 'Health Facility' 'Agriculture']\n",
      "Missing values in 'property_usage_en': 2844\n"
     ]
    }
   ],
   "source": [
    "print(rentals_data['property_usage_en'].unique())\n",
    "print(\"Missing values in 'property_usage_en':\", rentals_data['property_usage_en'].isnull().sum())\n"
   ]
  },
  {
   "cell_type": "code",
   "execution_count": 15,
   "metadata": {},
   "outputs": [
    {
     "name": "stdout",
     "output_type": "stream",
     "text": [
      "0\n"
     ]
    },
    {
     "name": "stderr",
     "output_type": "stream",
     "text": [
      "/tmp/ipykernel_30906/3468003011.py:3: FutureWarning: A value is trying to be set on a copy of a DataFrame or Series through chained assignment using an inplace method.\n",
      "The behavior will change in pandas 3.0. This inplace method will never work because the intermediate object on which we are setting values always behaves as a copy.\n",
      "\n",
      "For example, when doing 'df[col].method(value, inplace=True)', try using 'df.method({col: value}, inplace=True)' or df[col] = df[col].method(value) instead, to perform the operation inplace on the original object.\n",
      "\n",
      "\n",
      "  rentals_data['property_usage_en'].fillna(most_frequent_usage, inplace=True)\n"
     ]
    }
   ],
   "source": [
    "# Impute missing values with the mode\n",
    "most_frequent_usage = rentals_data['property_usage_en'].mode()[0]\n",
    "rentals_data['property_usage_en'].fillna(most_frequent_usage, inplace=True)\n",
    "\n",
    "# Verify no missing values remain\n",
    "print(rentals_data['property_usage_en'].isnull().sum())\n"
   ]
  },
  {
   "cell_type": "markdown",
   "metadata": {},
   "source": [
    "## Handle columns with medium percentage missing values 9%-30%"
   ]
  },
  {
   "cell_type": "code",
   "execution_count": 16,
   "metadata": {},
   "outputs": [
    {
     "data": {
      "text/plain": [
       "23257"
      ]
     },
     "execution_count": 16,
     "metadata": {},
     "output_type": "execute_result"
    }
   ],
   "source": [
    "sales_data['rooms_en'].isnull().sum()"
   ]
  },
  {
   "cell_type": "code",
   "execution_count": 17,
   "metadata": {},
   "outputs": [
    {
     "name": "stdout",
     "output_type": "stream",
     "text": [
      "Number of missing values in 'rooms_en' available in 'rooms_ar': 1895\n"
     ]
    }
   ],
   "source": [
    "# Check if missing values in rooms_en are available in rooms_ar\n",
    "missing_in_rooms_en = sales_data[sales_data['rooms_en'].isnull()]\n",
    "available_in_rooms_ar = missing_in_rooms_en[missing_in_rooms_en['rooms_ar'].notnull()]\n",
    "\n",
    "print(\"Number of missing values in 'rooms_en' available in 'rooms_ar':\", len(available_in_rooms_ar))\n"
   ]
  },
  {
   "cell_type": "code",
   "execution_count": 18,
   "metadata": {},
   "outputs": [
    {
     "name": "stdout",
     "output_type": "stream",
     "text": [
      "Do 'rooms_en' and 'rooms_ar' have a perfect mapping? True\n"
     ]
    }
   ],
   "source": [
    "# Check for perfect mapping between rooms_en and rooms_ar\n",
    "room_pairs = sales_data[['rooms_en', 'rooms_ar']].dropna()  # Drop rows with missing values\n",
    "unique_room_pairs = room_pairs.drop_duplicates()  # Drop duplicate pairs\n",
    "\n",
    "# Compare unique counts of rooms_en and rooms_ar\n",
    "perfect_mapping = len(unique_room_pairs) == len(room_pairs['rooms_en'].unique()) == len(room_pairs['rooms_ar'].unique())\n",
    "print(\"Do 'rooms_en' and 'rooms_ar' have a perfect mapping?\", perfect_mapping)\n",
    "\n",
    "# Display mismatches if not perfectly mapped\n",
    "if not perfect_mapping:\n",
    "    print(\"Mismatched pairs:\")\n",
    "    print(unique_room_pairs.groupby('rooms_en').size()[unique_room_pairs.groupby('rooms_en').size() > 1])\n"
   ]
  },
  {
   "cell_type": "code",
   "execution_count": 19,
   "metadata": {},
   "outputs": [
    {
     "data": {
      "text/plain": [
       "{'غرفة': '1 B/R',\n",
       " 'غرفتان': '2 B/R',\n",
       " 'ثلاث غرف': '3 B/R',\n",
       " 'استوديو': 'Studio',\n",
       " 'أربعة غرف': '4 B/R',\n",
       " 'خمس غرف': '5 B/R',\n",
       " 'ست غرف': '6 B/R',\n",
       " 'مكتب': 'Office',\n",
       " 'شقة فوق السطح': 'PENTHOUSE',\n",
       " 'محل': 'Shop',\n",
       " 'سبع غرف': '7 B/R',\n",
       " 'غرفة مستقلة': 'Single Room',\n",
       " 'فندق': 'Hotel'}"
      ]
     },
     "execution_count": 19,
     "metadata": {},
     "output_type": "execute_result"
    }
   ],
   "source": [
    "# Create a mapping between rooms_ar and rooms_en\n",
    "mapping = sales_data[['rooms_ar', 'rooms_en']].dropna().drop_duplicates().set_index('rooms_ar')['rooms_en'].to_dict()\n",
    "mapping"
   ]
  },
  {
   "cell_type": "code",
   "execution_count": 20,
   "metadata": {},
   "outputs": [],
   "source": [
    "# Fill missing values in rooms_en using rooms_ar and the mapping\n",
    "sales_data['rooms_en'] = sales_data.apply(\n",
    "    lambda row: mapping.get(row['rooms_ar'], row['rooms_en']) if pd.isna(row['rooms_en']) else row['rooms_en'],\n",
    "    axis=1\n",
    ")\n"
   ]
  },
  {
   "cell_type": "code",
   "execution_count": 21,
   "metadata": {},
   "outputs": [
    {
     "name": "stdout",
     "output_type": "stream",
     "text": [
      "[ 1.   2.   3.   nan  4.   5.   6.   1.5  7.  10. ]\n"
     ]
    }
   ],
   "source": [
    "# Updated Mapping\n",
    "rooms_mapping = {\n",
    "    'Studio': 1,\n",
    "    '1 B/R': 1,\n",
    "    '2 B/R': 2,\n",
    "    '3 B/R': 3,\n",
    "    '4 B/R': 4,\n",
    "    '5 B/R': 5,\n",
    "    '6 B/R': 6,\n",
    "    '7 B/R': 7,\n",
    "    'Single Room': 1,\n",
    "    'PENTHOUSE': 5,\n",
    "    'Office': 1.5,  # Representative value for offices\n",
    "    'Shop': 1,      # Assume one shop counts as one unit\n",
    "    'Hotel': 10     # Assume hotels have an average of 10 rooms\n",
    "}\n",
    "\n",
    "# Create the new column with updated mapping\n",
    "sales_data['rooms_en_imputed'] = sales_data['rooms_en'].map(rooms_mapping)\n",
    "\n",
    "# Verify the results\n",
    "print(sales_data['rooms_en_imputed'].unique())\n"
   ]
  },
  {
   "cell_type": "code",
   "execution_count": 22,
   "metadata": {},
   "outputs": [],
   "source": [
    "from sklearn.impute import KNNImputer\n",
    "\n",
    "# Combine the room column with related numerical features for imputation\n",
    "knn_features = ['rooms_en_imputed', 'property_size_sqm']\n",
    "\n",
    "# Filter only the rows that have the necessary numerical data\n",
    "knn_data = sales_data[knn_features]\n",
    "\n",
    "# Initialize KNN Imputer\n",
    "knn_imputer = KNNImputer(n_neighbors=5)\n",
    "\n",
    "# Perform KNN Imputation\n",
    "knn_data_imputed = knn_imputer.fit_transform(knn_data)\n",
    "\n",
    "# Update the imputed values back into the DataFrame\n",
    "sales_data['rooms_en_imputed'] = knn_data_imputed[:, 0]  # First column corresponds to rooms_en_imputed\n",
    "\n",
    "\n"
   ]
  },
  {
   "cell_type": "code",
   "execution_count": 23,
   "metadata": {},
   "outputs": [
    {
     "name": "stdout",
     "output_type": "stream",
     "text": [
      "Missing values in 'rooms_en_imputed': 0\n",
      "Unique values in 'rooms_en_imputed': [ 1.   1.1  1.2  1.3  1.4  1.5  1.6  1.7  1.8  1.9  2.   2.1  2.2  2.3\n",
      "  2.4  2.5  2.6  2.7  2.8  2.9  3.   3.1  3.2  3.3  3.4  3.5  3.6  3.7\n",
      "  3.8  3.9  4.   4.1  4.2  4.3  4.4  4.5  4.6  4.7  4.8  4.9  5.   5.2\n",
      "  5.4  5.6  5.8  6.   7.  10. ]\n"
     ]
    },
    {
     "data": {
      "image/png": "[encoded data removed]",
      "text/plain": [
       "<Figure size 640x480 with 1 Axes>"
      ]
     },
     "metadata": {},
     "output_type": "display_data"
    }
   ],
   "source": [
    "import numpy as np\n",
    "# Step 4: Check for Missing Values\n",
    "print(\"Missing values in 'rooms_en_imputed':\", sales_data['rooms_en_imputed'].isnull().sum())\n",
    "print(\"Unique values in 'rooms_en_imputed':\", np.unique(sales_data['rooms_en_imputed']))\n",
    "\n",
    "# Step 5: Visualize the Imputed Data\n",
    "plt.hist(sales_data['rooms_en_imputed'], bins=15, edgecolor='black')\n",
    "plt.title(\"Distribution of 'rooms_en_imputed'\")\n",
    "plt.xlabel(\"Number of Rooms\")\n",
    "plt.ylabel(\"Frequency\")\n",
    "plt.show()"
   ]
  },
  {
   "cell_type": "markdown",
   "metadata": {},
   "source": [
    "The results indicate the following:\n",
    "\n",
    "Mean Squared Error (MSE): A high MSE suggests the model isn't making accurate predictions, which could be due to project_name_en_encoded not having strong predictive power for amount.\n",
    "R2 Score: An R² value of 0.016 suggests that the model explains only 1.6% of the variance in the target variable (amount), meaning the feature project_name_en_encoded alone is not very effective.\n",
    "Feature Importance: Since the model is trained with just one feature (project_name_en_encoded), its importance is naturally 1.0. This doesn't mean it's predictive, just that it's the only feature being used\n",
    "In this case, this feature could cause noise to the model. So I will fill the missing values with -1. "
   ]
  },
  {
   "cell_type": "code",
   "execution_count": 24,
   "metadata": {},
   "outputs": [
    {
     "name": "stdout",
     "output_type": "stream",
     "text": [
      "0\n",
      "['THE VYBE' 'Elitz 3 By Danube ' 'TRIA BY DEYAAR' 'Oceanz 1 By Danube '\n",
      " 'Club Drive' '555 PARK VIEWS' 'Creek Beach - Savanna-Cedar-Mangrove'\n",
      " 'AL WALEED GARDEN 2' 'Adhara Star' 'DAMAC BAY 2']\n"
     ]
    }
   ],
   "source": [
    "# Reload `project_name_en` from the original dataset\n",
    "sales_data['project_name_en'] = original_sales_data['project_name_en']\n",
    "\n",
    "# Fill missing values with 'Unknown'\n",
    "sales_data['project_name_en'] = sales_data['project_name_en'].fillna('Unknown')\n",
    "\n",
    "# Confirm the operation\n",
    "print(sales_data['project_name_en'].isnull().sum())  # Should print 0\n",
    "print(sales_data['project_name_en'].unique()[:10])  # Sample unique values to verify\n"
   ]
  },
  {
   "cell_type": "code",
   "execution_count": 25,
   "metadata": {},
   "outputs": [
    {
     "name": "stdout",
     "output_type": "stream",
     "text": [
      "Missing values in 'nearest_landmark_en': 0\n",
      "Sample unique values in 'nearest_landmark_en': ['Dubai International Airport' 'Burj Al Arab' 'Burj Khalifa'\n",
      " 'Downtown Dubai' 'Unknown']\n",
      "Missing values in 'nearest_metro_en': 0\n",
      "Sample unique values in 'nearest_metro_en': ['Al Nahda Metro Station' 'Rashidiya Metro Station'\n",
      " 'Salah Al Din Metro Station' 'Sharaf Dg Metro Station'\n",
      " 'Airport Free Zone']\n",
      "Missing values in 'nearest_mall_en': 0\n",
      "Sample unique values in 'nearest_mall_en': ['City Centre Mirdif' 'Dubai Mall' 'Mall of the Emirates' 'Marina Mall'\n",
      " 'Unknown']\n"
     ]
    }
   ],
   "source": [
    "# Columns to process in rentals_data\n",
    "columns_to_fill_sales = ['nearest_landmark_en']\n",
    "\n",
    "# Fill missing values with 'Unknown'\n",
    "for column in columns_to_fill_sales:\n",
    "    sales_data[column] = sales_data[column].fillna('Unknown')\n",
    "# Columns to process in rentals_data\n",
    "columns_to_fill_rentals = ['nearest_landmark_en', 'nearest_metro_en', 'nearest_mall_en']\n",
    "\n",
    "# Fill missing values with 'Unknown'\n",
    "for column in columns_to_fill_rentals:\n",
    "    rentals_data[column] = rentals_data[column].fillna('Unknown')\n",
    "\n",
    "# Verify the operation\n",
    "for column in columns_to_fill_rentals:\n",
    "    print(f\"Missing values in '{column}': {rentals_data[column].isnull().sum()}\")\n",
    "    print(f\"Sample unique values in '{column}': {rentals_data[column].unique()[:5]}\")\n"
   ]
  },
  {
   "cell_type": "code",
   "execution_count": 33,
   "metadata": {},
   "outputs": [],
   "source": [
    "sales_data.drop(columns= meta_dup_sales, inplace=True)\n",
    "rentals_data.drop(columns= meta_dup_rentals, inplace=True)"
   ]
  },
  {
   "cell_type": "code",
   "execution_count": 34,
   "metadata": {},
   "outputs": [
    {
     "name": "stdout",
     "output_type": "stream",
     "text": [
      "Missing values in sales_data:\n",
      "rooms_en            23257\n",
      "rooms_ar            21362\n",
      "parking             40463\n",
      "nearest_metro_en    65982\n",
      "nearest_mall_en     66842\n",
      "dtype: int64\n",
      "\n",
      "Missing values in rentals_data:\n",
      "rooms              721746\n",
      "project_name_en    576935\n",
      "dtype: int64\n"
     ]
    }
   ],
   "source": [
    "# Check for missing values in sales_data\n",
    "print(\"Missing values in sales_data:\")\n",
    "missing_sales = sales_data.isnull().sum()\n",
    "missing_sales = missing_sales[missing_sales > 0]\n",
    "print(missing_sales)\n",
    "\n",
    "# Check for missing values in rentals_data\n",
    "print(\"\\nMissing values in rentals_data:\")\n",
    "missing_rentals = rentals_data.isnull().sum()\n",
    "missing_rentals = missing_rentals[missing_rentals > 0]\n",
    "print(missing_rentals)\n"
   ]
  },
  {
   "cell_type": "code",
   "execution_count": 35,
   "metadata": {},
   "outputs": [
    {
     "name": "stdout",
     "output_type": "stream",
     "text": [
      "\n",
      "Missing values in sales_data:\n",
      "                  Missing Count  Percentage\n",
      "rooms_en                  23257   14.285100\n",
      "rooms_ar                  21362   13.121138\n",
      "parking                   40463   24.853507\n",
      "nearest_metro_en          65982   40.527990\n",
      "nearest_mall_en           66842   41.056226\n",
      "\n",
      "Missing values in rentals_data:\n",
      "                 Missing Count  Percentage\n",
      "rooms                   721746   96.566534\n",
      "project_name_en         576935   77.191440\n"
     ]
    }
   ],
   "source": [
    "# Function to calculate and display missing values and percentages\n",
    "def display_missing_values(data, dataset_name):\n",
    "    print(f\"\\nMissing values in {dataset_name}:\")\n",
    "    missing_values = data.isnull().sum()\n",
    "    missing_values = missing_values[missing_values > 0]\n",
    "    missing_percentage = (missing_values / len(data)) * 100\n",
    "    missing_summary = missing_values.to_frame(name='Missing Count')\n",
    "    missing_summary['Percentage'] = missing_percentage\n",
    "    print(missing_summary)\n",
    "\n",
    "# Check for missing values in sales_data\n",
    "display_missing_values(sales_data, 'sales_data')\n",
    "\n",
    "# Check for missing values in rentals_data\n",
    "display_missing_values(rentals_data, 'rentals_data')\n"
   ]
  },
  {
   "cell_type": "code",
   "execution_count": 30,
   "metadata": {},
   "outputs": [
    {
     "name": "stdout",
     "output_type": "stream",
     "text": [
      "<class 'pandas.core.series.Series'>\n",
      "RangeIndex: 747408 entries, 0 to 747407\n",
      "Series name: master_project_en\n",
      "Non-Null Count  Dtype \n",
      "--------------  ----- \n",
      "97 non-null     object\n",
      "dtypes: object(1)\n",
      "memory usage: 5.7+ MB\n"
     ]
    }
   ],
   "source": [
    "rentals_data['master_project_en'].info()"
   ]
  },
  {
   "cell_type": "code",
   "execution_count": null,
   "metadata": {},
   "outputs": [],
   "source": []
  },
  {
   "cell_type": "code",
   "execution_count": null,
   "metadata": {},
   "outputs": [],
   "source": []
  },
  {
   "cell_type": "code",
   "execution_count": null,
   "metadata": {},
   "outputs": [],
   "source": []
  }
 ],
 "metadata": {
  "kernelspec": {
   "display_name": "avms",
   "language": "python",
   "name": "python3"
  },
  "language_info": {
   "codemirror_mode": {
    "name": "ipython",
    "version": 3
   },
   "file_extension": ".py",
   "mimetype": "text/x-python",
   "name": "python",
   "nbconvert_exporter": "python",
   "pygments_lexer": "ipython3",
   "version": "3.11.10"
  }
 },
 "nbformat": 4,
 "nbformat_minor": 2
}
