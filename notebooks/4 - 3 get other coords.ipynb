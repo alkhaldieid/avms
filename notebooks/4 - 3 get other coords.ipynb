{
 "cells": [
  {
   "cell_type": "code",
   "execution_count": 1,
   "id": "fbda99c0-524b-4dfc-906b-08a9e1e392db",
   "metadata": {},
   "outputs": [],
   "source": [
    "import pandas as pd"
   ]
  },
  {
   "cell_type": "code",
   "execution_count": 4,
   "id": "85e65f40-4c10-42a1-8299-a96c0f2028aa",
   "metadata": {},
   "outputs": [],
   "source": [
    "geocoded_area = pd.read_csv('combined_geocoded_areas.csv')\n",
    "sales_data = pd.read_csv('../data/snp_dld_2024_transactions.csv')"
   ]
  },
  {
   "cell_type": "code",
   "execution_count": 11,
   "id": "9e4d1693-6a32-42d9-a770-49f0f82fe106",
   "metadata": {},
   "outputs": [],
   "source": [
    "location_columns_sales = [\n",
    "    \"project_name_en\",\n",
    "    \"nearest_landmark_en\",\n",
    "    \"nearest_metro_en\",\n",
    "    \"nearest_mall_en\",\n",
    "    \"master_project_en\",\n",
    "]"
   ]
  },
  {
   "cell_type": "code",
   "execution_count": 12,
   "id": "db45f7b9-ee39-4fac-bdc0-f73cd45374c9",
   "metadata": {},
   "outputs": [],
   "source": [
    "\n",
    "\n",
    "# Grouping by 'area_en' and counting distinct values for each location column\n",
    "location_counts = sales_data.groupby(\"area_en\")[location_columns_sales].nunique()\n",
    "\n",
    "# Rename columns to reflect the count information\n",
    "location_counts = location_counts.rename(columns={col: f\"{col}_count\" for col in location_columns_sales if col != \"area_en\"})\n",
    "\n"
   ]
  },
  {
   "cell_type": "code",
   "execution_count": 14,
   "id": "858d5933-bd53-4348-a7e4-65e2f3ddb373",
   "metadata": {},
   "outputs": [
    {
     "name": "stdout",
     "output_type": "stream",
     "text": [
      "<class 'pandas.core.frame.DataFrame'>\n",
      "Index: 273 entries, AL Athbah to Zaabeel Second\n",
      "Data columns (total 5 columns):\n",
      " #   Column                     Non-Null Count  Dtype\n",
      "---  ------                     --------------  -----\n",
      " 0   project_name_en_count      273 non-null    int64\n",
      " 1   nearest_landmark_en_count  273 non-null    int64\n",
      " 2   nearest_metro_en_count     273 non-null    int64\n",
      " 3   nearest_mall_en_count      273 non-null    int64\n",
      " 4   master_project_en_count    273 non-null    int64\n",
      "dtypes: int64(5)\n",
      "memory usage: 12.8+ KB\n"
     ]
    }
   ],
   "source": [
    "location_counts.info()\n"
   ]
  },
  {
   "cell_type": "code",
   "execution_count": 17,
   "id": "38f293ef-9098-45c0-b054-827733d14a44",
   "metadata": {},
   "outputs": [
    {
     "name": "stdout",
     "output_type": "stream",
     "text": [
      "Combined DataFrame saved with shape: (273, 8)\n",
      "            area_en  project_name_en_count  nearest_landmark_en_count  \\\n",
      "0         AL Athbah                      0                          0   \n",
      "1         AL BARARI                      2                          1   \n",
      "2         AL FURJAN                     63                          2   \n",
      "3  AL KHAIL HEIGHTS                      1                          1   \n",
      "4           AL WAHA                      1                          1   \n",
      "\n",
      "   nearest_metro_en_count  nearest_mall_en_count  master_project_en_count  \\\n",
      "0                       0                      0                        0   \n",
      "1                       1                      0                        0   \n",
      "2                       2                      1                        1   \n",
      "3                       1                      1                        0   \n",
      "4                       0                      0                        0   \n",
      "\n",
      "    latitude  longitude  \n",
      "0  25.186046  55.475980  \n",
      "1  25.118865  55.320968  \n",
      "2  25.030474  55.152231  \n",
      "3  25.155860  55.253688  \n",
      "4  25.029530  55.285794  \n"
     ]
    }
   ],
   "source": [
    "# Merge the DataFrames on 'area_en'\n",
    "merged_df = pd.merge(\n",
    "    location_counts,  # Use location_counts as the base to preserve its order\n",
    "    geocoded_area,\n",
    "    on=\"area_en\",\n",
    "    how=\"left\"  # Ensure all rows in location_counts are retained\n",
    ")\n",
    "\n",
    "# Save the combined DataFrame to a CSV\n",
    "merged_df.to_csv(\"ordered_combined_geocoded_with_counts.csv\", index=False)\n",
    "\n",
    "# Print a summary\n",
    "print(f\"Combined DataFrame saved with shape: {merged_df.shape}\")\n",
    "print(merged_df.head())\n"
   ]
  },
  {
   "cell_type": "markdown",
   "id": "d008e12a-9a03-4d20-9d84-c17734e597a3",
   "metadata": {},
   "source": [
    "# Utilizing the coordinates."
   ]
  },
  {
   "cell_type": "code",
   "execution_count": 21,
   "id": "1765ca64-ce56-495f-876a-736032378e8a",
   "metadata": {},
   "outputs": [
    {
     "data": {
      "text/plain": [
       "array(['Sports City Swimming Academy', 'IMG World Adventures', nan,\n",
       "       'Dubai International Airport', 'Downtown Dubai', 'Motor City',\n",
       "       'Burj Al Arab', 'Dubai Cycling Course', 'Burj Khalifa',\n",
       "       'Hamdan Sports Complex', 'Global Village', 'Expo 2020 Site',\n",
       "       'Al Makhtoum International Airport', 'Dubai Parks and Resorts',\n",
       "       'Jabel Ali'], dtype=object)"
      ]
     },
     "execution_count": 21,
     "metadata": {},
     "output_type": "execute_result"
    }
   ],
   "source": [
    "sales_data['nearest_landmark_en'].unique()"
   ]
  },
  {
   "cell_type": "code",
   "execution_count": 24,
   "id": "5f283be6-1b76-4426-b94c-0df54d9894b4",
   "metadata": {},
   "outputs": [
    {
     "name": "stdout",
     "output_type": "stream",
     "text": [
      "Missing landmarks to process: ['Sports City Swimming Academy', 'IMG World Adventures', 'Dubai International Airport', 'Downtown Dubai', 'Motor City', 'Burj Al Arab', 'Dubai Cycling Course', 'Burj Khalifa', 'Hamdan Sports Complex', 'Global Village', 'Expo 2020 Site', 'Al Makhtoum International Airport', 'Dubai Parks and Resorts', 'Jabel Ali']\n",
      "Could not find valid coordinates for 'Sports City Swimming Academy'.\n",
      "Could not find valid coordinates for 'IMG World Adventures'.\n",
      "Found coordinates for 'Dubai International Airport': (25.2521287, 55.365715576690505)\n"
     ]
    },
    {
     "name": "stderr",
     "output_type": "stream",
     "text": [
      "/tmp/ipykernel_13514/3861384301.py:71: FutureWarning: The behavior of DataFrame concatenation with empty or all-NA entries is deprecated. In a future version, this will no longer exclude empty or all-NA columns when determining the result dtypes. To retain the old behavior, exclude the relevant entries before the concat operation.\n",
      "  landmark_coords = pd.concat(\n"
     ]
    },
    {
     "name": "stdout",
     "output_type": "stream",
     "text": [
      "Found coordinates for 'Downtown Dubai': (25.19475815, 55.27805910442858)\n",
      "Found coordinates for 'Motor City': (25.047690199999998, 55.23820948643042)\n",
      "Found coordinates for 'Burj Al Arab': (25.141327099999998, 55.18539672753495)\n",
      "Could not find valid coordinates for 'Dubai Cycling Course'.\n",
      "Found coordinates for 'Burj Khalifa': (25.197033599999997, 55.27413294647308)\n",
      "Found coordinates for 'Hamdan Sports Complex': (25.051092949999997, 55.31808411322436)\n",
      "Found coordinates for 'Global Village': (25.0687531, 55.30683291261017)\n",
      "Found coordinates for 'Expo 2020 Site': (24.966807, 55.15825718982431)\n",
      "Could not find valid coordinates for 'Al Makhtoum International Airport'.\n",
      "Found coordinates for 'Dubai Parks and Resorts': (24.9198548, 55.00868)\n",
      "Found coordinates for 'Jabel Ali': (25.01605595, 55.13787589174201)\n",
      "Updated landmark coordinates saved to 'landmark_coordinates.csv'.\n"
     ]
    }
   ],
   "source": [
    "import pandas as pd\n",
    "from geopy.geocoders import Nominatim\n",
    "from geopy.exc import GeocoderTimedOut\n",
    "import os\n",
    "import time\n",
    "\n",
    "# Initialize geolocator\n",
    "geolocator = Nominatim(user_agent=\"geoapi\")\n",
    "\n",
    "# Landmarks to process\n",
    "landmarks = [\n",
    "    'Sports City Swimming Academy', 'IMG World Adventures',\n",
    "    'Dubai International Airport', 'Downtown Dubai', 'Motor City',\n",
    "    'Burj Al Arab', 'Dubai Cycling Course', 'Burj Khalifa',\n",
    "    'Hamdan Sports Complex', 'Global Village', 'Expo 2020 Site',\n",
    "    'Al Makhtoum International Airport', 'Dubai Parks and Resorts',\n",
    "    'Jabel Ali'\n",
    "]\n",
    "\n",
    "# Define Dubai's approximate geographic bounds\n",
    "DUBAI_BOUNDS = {\n",
    "    \"north\": 25.40,  # Approx. northern latitude\n",
    "    \"south\": 24.85,  # Approx. southern latitude\n",
    "    \"east\": 55.60,   # Approx. eastern longitude\n",
    "    \"west\": 55.00    # Approx. western longitude\n",
    "}\n",
    "\n",
    "# Load cached coordinates if available\n",
    "cache_file = \"landmark_coordinates.csv\"\n",
    "if os.path.exists(cache_file):\n",
    "    landmark_coords = pd.read_csv(cache_file)\n",
    "    print(f\"Loaded cached landmark coordinates from '{cache_file}'.\")\n",
    "else:\n",
    "    # Initialize empty DataFrame\n",
    "    landmark_coords = pd.DataFrame(columns=['landmark', 'latitude', 'longitude'])\n",
    "\n",
    "# Get a list of landmarks already processed\n",
    "processed_landmarks = set(landmark_coords['landmark'])\n",
    "\n",
    "# Find missing landmarks\n",
    "missing_landmarks = [lm for lm in landmarks if lm not in processed_landmarks]\n",
    "print(f\"Missing landmarks to process: {missing_landmarks}\")\n",
    "\n",
    "# Function to check if coordinates are within Dubai's boundaries\n",
    "def is_within_dubai(lat, lon):\n",
    "    if lat is None or lon is None:\n",
    "        return False\n",
    "    return DUBAI_BOUNDS[\"south\"] <= lat <= DUBAI_BOUNDS[\"north\"] and DUBAI_BOUNDS[\"west\"] <= lon <= DUBAI_BOUNDS[\"east\"]\n",
    "\n",
    "# Function to fetch coordinates for a given landmark\n",
    "def fetch_coordinates(landmark):\n",
    "    try:\n",
    "        location = geolocator.geocode(f\"{landmark}, Dubai\")\n",
    "        if location and is_within_dubai(location.latitude, location.longitude):\n",
    "            print(f\"Found coordinates for '{landmark}': ({location.latitude}, {location.longitude})\")\n",
    "            return location.latitude, location.longitude\n",
    "        else:\n",
    "            print(f\"Could not find valid coordinates for '{landmark}'.\")\n",
    "            return None, None\n",
    "    except GeocoderTimedOut:\n",
    "        print(f\"Timeout error while fetching coordinates for '{landmark}'. Retrying...\")\n",
    "        return fetch_coordinates(landmark)\n",
    "    except Exception as e:\n",
    "        print(f\"Error fetching coordinates for '{landmark}': {e}\")\n",
    "        return None, None\n",
    "\n",
    "# Process missing landmarks\n",
    "for landmark in missing_landmarks:\n",
    "    lat, lon = fetch_coordinates(landmark)\n",
    "    # Append the result to the DataFrame\n",
    "    landmark_coords = pd.concat(\n",
    "        [landmark_coords, pd.DataFrame({'landmark': [landmark], 'latitude': [lat], 'longitude': [lon]})],\n",
    "        ignore_index=True\n",
    "    )\n",
    "    time.sleep(1)  # Respect API rate limits\n",
    "\n",
    "# Save updated coordinates to cache\n",
    "landmark_coords.to_csv(cache_file, index=False)\n",
    "print(f\"Updated landmark coordinates saved to '{cache_file}'.\")\n"
   ]
  },
  {
   "cell_type": "markdown",
   "id": "639abba1-172b-4450-8d0d-47b56593312f",
   "metadata": {},
   "source": [
    "# Bad API, the rest is filled manually"
   ]
  },
  {
   "cell_type": "code",
   "execution_count": 25,
   "id": "61262db4-fbd6-4758-9bed-499a1dfbfc8e",
   "metadata": {},
   "outputs": [
    {
     "data": {
      "text/plain": [
       "array(['Mall of the Emirates', 'Marina Mall', nan, 'Ibn-e-Battuta Mall',\n",
       "       'City Centre Mirdif', 'Dubai Mall'], dtype=object)"
      ]
     },
     "execution_count": 25,
     "metadata": {},
     "output_type": "execute_result"
    }
   ],
   "source": [
    "sales_data['nearest_mall_en'].unique()"
   ]
  },
  {
   "cell_type": "code",
   "execution_count": 29,
   "id": "d4307b99-e502-4c28-b4b6-c0178db3b004",
   "metadata": {},
   "outputs": [
    {
     "name": "stdout",
     "output_type": "stream",
     "text": [
      "Missing malls to process: ['Mall of the Emirates', 'Marina Mall', 'Ibn-e-Battuta Mall', 'City Centre Mirdif', 'Dubai Mall']\n",
      "Found coordinates for 'Mall of the Emirates': (25.1212029, 55.2004469)\n"
     ]
    },
    {
     "name": "stderr",
     "output_type": "stream",
     "text": [
      "/tmp/ipykernel_13514/1877495512.py:64: FutureWarning: The behavior of DataFrame concatenation with empty or all-NA entries is deprecated. In a future version, this will no longer exclude empty or all-NA columns when determining the result dtypes. To retain the old behavior, exclude the relevant entries before the concat operation.\n",
      "  mall_coords = pd.concat(\n"
     ]
    },
    {
     "name": "stdout",
     "output_type": "stream",
     "text": [
      "Found coordinates for 'Marina Mall': (25.0776245, 55.14005375)\n",
      "Could not find valid coordinates for 'Ibn-e-Battuta Mall'.\n",
      "Found coordinates for 'City Centre Mirdif': (25.2173429, 55.4071287)\n",
      "Found coordinates for 'Dubai Mall': (25.197043999999998, 55.27895163264769)\n",
      "Updated mall coordinates saved to 'mall_coordinates.csv'.\n"
     ]
    }
   ],
   "source": [
    "import pandas as pd\n",
    "from geopy.geocoders import Nominatim\n",
    "from geopy.exc import GeocoderTimedOut\n",
    "import os\n",
    "import time\n",
    "\n",
    "# Initialize geolocator\n",
    "geolocator = Nominatim(user_agent=\"geoapi\")\n",
    "\n",
    "# Load dataset and extract unique nearest malls\n",
    "nearest_malls = sales_data['nearest_mall_en'].dropna().unique()\n",
    "\n",
    "# Define Dubai's approximate geographic bounds\n",
    "DUBAI_BOUNDS = {\n",
    "    \"north\": 25.40,  # Approx. northern latitude\n",
    "    \"south\": 24.85,  # Approx. southern latitude\n",
    "    \"east\": 55.60,   # Approx. eastern longitude\n",
    "    \"west\": 55.00    # Approx. western longitude\n",
    "}\n",
    "\n",
    "# Load cached coordinates if available\n",
    "cache_file = \"mall_coordinates.csv\"\n",
    "if os.path.exists(cache_file):\n",
    "    mall_coords = pd.read_csv(cache_file)\n",
    "    print(f\"Loaded cached mall coordinates from '{cache_file}'.\")\n",
    "else:\n",
    "    # Initialize empty DataFrame\n",
    "    mall_coords = pd.DataFrame(columns=['mall', 'latitude', 'longitude'])\n",
    "\n",
    "# Get a list of malls already processed\n",
    "processed_malls = set(mall_coords['mall'])\n",
    "\n",
    "# Find missing malls\n",
    "missing_malls = [mall for mall in nearest_malls if mall not in processed_malls]\n",
    "print(f\"Missing malls to process: {missing_malls}\")\n",
    "\n",
    "# Function to check if coordinates are within Dubai's boundaries\n",
    "def is_within_dubai(lat, lon):\n",
    "    if lat is None or lon is None:\n",
    "        return False\n",
    "    return DUBAI_BOUNDS[\"south\"] <= lat <= DUBAI_BOUNDS[\"north\"] and DUBAI_BOUNDS[\"west\"] <= lon <= DUBAI_BOUNDS[\"east\"]\n",
    "\n",
    "# Function to fetch coordinates for a given mall\n",
    "def fetch_coordinates(mall):\n",
    "    try:\n",
    "        location = geolocator.geocode(f\"{mall}, Dubai\")\n",
    "        if location and is_within_dubai(location.latitude, location.longitude):\n",
    "            print(f\"Found coordinates for '{mall}': ({location.latitude}, {location.longitude})\")\n",
    "            return location.latitude, location.longitude\n",
    "        else:\n",
    "            print(f\"Could not find valid coordinates for '{mall}'.\")\n",
    "            return None, None\n",
    "    except GeocoderTimedOut:\n",
    "        print(f\"Timeout error while fetching coordinates for '{mall}'. Retrying...\")\n",
    "        return fetch_coordinates(mall)\n",
    "    except Exception as e:\n",
    "        print(f\"Error fetching coordinates for '{mall}': {e}\")\n",
    "        return None, None\n",
    "\n",
    "# Process missing malls\n",
    "for mall in missing_malls:\n",
    "    lat, lon = fetch_coordinates(mall)\n",
    "    # Append the result to the DataFrame\n",
    "    mall_coords = pd.concat(\n",
    "        [mall_coords, pd.DataFrame({'mall': [mall], 'latitude': [lat], 'longitude': [lon]})],\n",
    "        ignore_index=True\n",
    "    )\n",
    "    time.sleep(1)  # Respect API rate limits\n",
    "\n",
    "# Save updated coordinates to cache\n",
    "mall_coords.to_csv(cache_file, index=False)\n",
    "print(f\"Updated mall coordinates saved to '{cache_file}'.\")\n"
   ]
  },
  {
   "cell_type": "code",
   "execution_count": 30,
   "id": "db3c6d1a-d0b3-4627-8616-f334845ca1cf",
   "metadata": {},
   "outputs": [
    {
     "data": {
      "text/plain": [
       "array([nan, 'Palace Beach Residence',\n",
       "       'Jebel Ali Village Townhouses- Phase 1', 'Hills Park',\n",
       "       ' Mohammed Bin Rashid Al Maktoum City , District One Phase III  , Residences 22',\n",
       "       'Remraam - Al Ramth', 'JANNAT', 'Elysee Heights'], dtype=object)"
      ]
     },
     "execution_count": 30,
     "metadata": {},
     "output_type": "execute_result"
    }
   ],
   "source": [
    "sales_data['master_project_en'].unique()"
   ]
  },
  {
   "cell_type": "code",
   "execution_count": 31,
   "id": "e3e99ae8-b1fe-4123-8d40-18cd52cdbb93",
   "metadata": {},
   "outputs": [
    {
     "name": "stdout",
     "output_type": "stream",
     "text": [
      "Missing master projects to process: ['Palace Beach Residence', 'Jebel Ali Village Townhouses- Phase 1', 'Hills Park', ' Mohammed Bin Rashid Al Maktoum City , District One Phase III  , Residences 22', 'Remraam - Al Ramth', 'JANNAT', 'Elysee Heights']\n",
      "Could not find valid coordinates for 'Palace Beach Residence'.\n",
      "Could not find valid coordinates for 'Jebel Ali Village Townhouses- Phase 1'.\n",
      "Found coordinates for 'Hills Park': (25.0438747, 55.157239087258546)\n"
     ]
    },
    {
     "name": "stderr",
     "output_type": "stream",
     "text": [
      "/tmp/ipykernel_13514/1741618952.py:64: FutureWarning: The behavior of DataFrame concatenation with empty or all-NA entries is deprecated. In a future version, this will no longer exclude empty or all-NA columns when determining the result dtypes. To retain the old behavior, exclude the relevant entries before the concat operation.\n",
      "  master_project_coords = pd.concat(\n"
     ]
    },
    {
     "name": "stdout",
     "output_type": "stream",
     "text": [
      "Could not find valid coordinates for ' Mohammed Bin Rashid Al Maktoum City , District One Phase III  , Residences 22'.\n",
      "Could not find valid coordinates for 'Remraam - Al Ramth'.\n",
      "Could not find valid coordinates for 'JANNAT'.\n",
      "Could not find valid coordinates for 'Elysee Heights'.\n",
      "Updated master project coordinates saved to 'master_project_coordinates.csv'.\n"
     ]
    }
   ],
   "source": [
    "import pandas as pd\n",
    "from geopy.geocoders import Nominatim\n",
    "from geopy.exc import GeocoderTimedOut\n",
    "import os\n",
    "import time\n",
    "\n",
    "# Initialize geolocator\n",
    "geolocator = Nominatim(user_agent=\"geoapi\")\n",
    "\n",
    "# Load dataset and extract unique master projects\n",
    "master_projects = sales_data['master_project_en'].dropna().unique()\n",
    "\n",
    "# Define Dubai's approximate geographic bounds\n",
    "DUBAI_BOUNDS = {\n",
    "    \"north\": 25.40,  # Approx. northern latitude\n",
    "    \"south\": 24.85,  # Approx. southern latitude\n",
    "    \"east\": 55.60,   # Approx. eastern longitude\n",
    "    \"west\": 55.00    # Approx. western longitude\n",
    "}\n",
    "\n",
    "# Load cached coordinates if available\n",
    "cache_file = \"master_project_coordinates.csv\"\n",
    "if os.path.exists(cache_file):\n",
    "    master_project_coords = pd.read_csv(cache_file)\n",
    "    print(f\"Loaded cached master project coordinates from '{cache_file}'.\")\n",
    "else:\n",
    "    # Initialize empty DataFrame\n",
    "    master_project_coords = pd.DataFrame(columns=['master_project', 'latitude', 'longitude'])\n",
    "\n",
    "# Get a list of master projects already processed\n",
    "processed_projects = set(master_project_coords['master_project'])\n",
    "\n",
    "# Find missing master projects\n",
    "missing_projects = [project for project in master_projects if project not in processed_projects]\n",
    "print(f\"Missing master projects to process: {missing_projects}\")\n",
    "\n",
    "# Function to check if coordinates are within Dubai's boundaries\n",
    "def is_within_dubai(lat, lon):\n",
    "    if lat is None or lon is None:\n",
    "        return False\n",
    "    return DUBAI_BOUNDS[\"south\"] <= lat <= DUBAI_BOUNDS[\"north\"] and DUBAI_BOUNDS[\"west\"] <= lon <= DUBAI_BOUNDS[\"east\"]\n",
    "\n",
    "# Function to fetch coordinates for a given master project\n",
    "def fetch_coordinates(project):\n",
    "    try:\n",
    "        location = geolocator.geocode(f\"{project}, Dubai\")\n",
    "        if location and is_within_dubai(location.latitude, location.longitude):\n",
    "            print(f\"Found coordinates for '{project}': ({location.latitude}, {location.longitude})\")\n",
    "            return location.latitude, location.longitude\n",
    "        else:\n",
    "            print(f\"Could not find valid coordinates for '{project}'.\")\n",
    "            return None, None\n",
    "    except GeocoderTimedOut:\n",
    "        print(f\"Timeout error while fetching coordinates for '{project}'. Retrying...\")\n",
    "        return fetch_coordinates(project)\n",
    "    except Exception as e:\n",
    "        print(f\"Error fetching coordinates for '{project}': {e}\")\n",
    "        return None, None\n",
    "\n",
    "# Process missing master projects\n",
    "for project in missing_projects:\n",
    "    lat, lon = fetch_coordinates(project)\n",
    "    # Append the result to the DataFrame\n",
    "    master_project_coords = pd.concat(\n",
    "        [master_project_coords, pd.DataFrame({'master_project': [project], 'latitude': [lat], 'longitude': [lon]})],\n",
    "        ignore_index=True\n",
    "    )\n",
    "    time.sleep(1)  # Respect API rate limits\n",
    "\n",
    "# Save updated coordinates to cache\n",
    "master_project_coords.to_csv(cache_file, index=False)\n",
    "print(f\"Updated master project coordinates saved to '{cache_file}'.\")\n"
   ]
  },
  {
   "cell_type": "code",
   "execution_count": null,
   "id": "454d99f1-2ea4-47db-aaa0-34bc32629b06",
   "metadata": {},
   "outputs": [],
   "source": []
  }
 ],
 "metadata": {
  "kernelspec": {
   "display_name": "Python 3 (ipykernel)",
   "language": "python",
   "name": "python3"
  },
  "language_info": {
   "codemirror_mode": {
    "name": "ipython",
    "version": 3
   },
   "file_extension": ".py",
   "mimetype": "text/x-python",
   "name": "python",
   "nbconvert_exporter": "python",
   "pygments_lexer": "ipython3",
   "version": "3.13.0"
  }
 },
 "nbformat": 4,
 "nbformat_minor": 5
}
