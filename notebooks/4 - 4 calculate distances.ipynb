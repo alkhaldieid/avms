{
 "cells": [
  {
   "cell_type": "code",
   "execution_count": 102,
   "id": "e91b9a64-17fe-49cf-9ff1-6b323ea9c6ef",
   "metadata": {},
   "outputs": [],
   "source": [
    "import pandas as pd\n",
    "import numpy as np"
   ]
  },
  {
   "cell_type": "code",
   "execution_count": 103,
   "id": "f64ca0c4-8513-4b47-8433-aef83a88fa7b",
   "metadata": {},
   "outputs": [],
   "source": [
    "area_coords = pd.read_csv('combined_geocoded_areas.csv')\n",
    "landmarks = pd.read_csv('landmark_coordinates.csv')\n",
    "malls = pd.read_csv('mall_coordinates.csv')\n",
    "# Create a DataFrame with farthest and center points of Dubai with higher precision\n",
    "dubai_extremes = pd.DataFrame({\n",
    "    \"point\": [\"north\", \"south\", \"east\", \"west\", \"center\"],\n",
    "    \"latitude\": [25.400000, 24.850000, 25.350000, 25.150000, 25.270000],\n",
    "    \"longitude\": [55.270000, 55.270000, 55.600000, 55.000000, 55.300000]\n",
    "})\n"
   ]
  },
  {
   "cell_type": "code",
   "execution_count": 104,
   "id": "91559cfd-8638-4955-9e3d-0fff3491d1a9",
   "metadata": {},
   "outputs": [
    {
     "name": "stdout",
     "output_type": "stream",
     "text": [
      "        area_en      type                         name  distance_km\n",
      "0     AL BARARI  landmark         IMG World Adventures     4.038671\n",
      "1     AL BARARI  landmark  Dubai International Airport    15.487226\n",
      "2     AL BARARI  landmark               Downtown Dubai     9.479825\n",
      "3     AL BARARI  landmark                   Motor City    11.493482\n",
      "4     AL BARARI  landmark                 Burj Al Arab    13.874654\n",
      "...         ...       ...                          ...          ...\n",
      "6001    Muragab   extreme                        north    15.905107\n",
      "6002    Muragab   extreme                        south    46.531049\n",
      "6003    Muragab   extreme                         east    29.278656\n",
      "6004    Muragab   extreme                         west    35.048861\n",
      "6005    Muragab   extreme                       center     2.473749\n",
      "\n",
      "[6006 rows x 4 columns]\n"
     ]
    }
   ],
   "source": [
    "# Load data\n",
    "area_coords = pd.read_csv('combined_geocoded_areas.csv')\n",
    "landmarks = pd.read_csv('landmark_coordinates.csv')\n",
    "malls = pd.read_csv('mall_coordinates.csv')\n",
    "\n",
    "# Dubai extremes DataFrame\n",
    "dubai_extremes = pd.DataFrame({\n",
    "    \"point\": [\"north\", \"south\", \"east\", \"west\", \"center\"],\n",
    "    \"latitude\": [25.400000, 24.850000, 25.350000, 25.150000, 25.270000],\n",
    "    \"longitude\": [55.270000, 55.270000, 55.600000, 55.000000, 55.300000]\n",
    "})\n",
    "\n",
    "# Haversine formula\n",
    "def haversine(lat1, lon1, lat2, lon2):\n",
    "    R = 6371  # Earth's radius in km\n",
    "    lat1, lon1, lat2, lon2 = map(np.radians, [lat1, lon1, lat2, lon2])\n",
    "    dlat = lat2 - lat1\n",
    "    dlon = lon2 - lon1\n",
    "    a = np.sin(dlat / 2) ** 2 + np.cos(lat1) * np.cos(lat2) * np.sin(dlon / 2) ** 2\n",
    "    c = 2 * np.arcsin(np.sqrt(a))\n",
    "    return R * c\n",
    "\n",
    "# Create an empty list to store results\n",
    "distances = []\n",
    "\n",
    "# Iterate through areas\n",
    "for _, area in area_coords.iterrows():\n",
    "    area_name = area['area_en']\n",
    "    area_lat = area['latitude']\n",
    "    area_lon = area['longitude']\n",
    "    \n",
    "    # Calculate distances to landmarks\n",
    "    for _, landmark in landmarks.iterrows():\n",
    "        dist = haversine(area_lat, area_lon, landmark['latitude'], landmark['longitude'])\n",
    "        distances.append({'area_en': area_name, 'type': 'landmark', 'name': landmark['landmark'], 'distance_km': dist})\n",
    "    \n",
    "    # Calculate distances to malls\n",
    "    for _, mall in malls.iterrows():\n",
    "        dist = haversine(area_lat, area_lon, mall['latitude'], mall['longitude'])\n",
    "        distances.append({'area_en': area_name, 'type': 'mall', 'name': mall['mall'], 'distance_km': dist})\n",
    "    \n",
    "    # Calculate distances to Dubai extremes\n",
    "    for _, extreme in dubai_extremes.iterrows():\n",
    "        dist = haversine(area_lat, area_lon, extreme['latitude'], extreme['longitude'])\n",
    "        distances.append({'area_en': area_name, 'type': 'extreme', 'name': extreme['point'], 'distance_km': dist})\n",
    "\n",
    "# Convert results into a DataFrame\n",
    "distance_df = pd.DataFrame(distances)\n",
    "\n",
    "# Save the DataFrame to a CSV file\n",
    "distance_df.to_csv('area_distances.csv', index=False)\n",
    "\n",
    "# Display a sample of the result\n",
    "print(distance_df)"
   ]
  },
  {
   "cell_type": "code",
   "execution_count": 105,
   "id": "7705f0fc-e835-41af-b809-46fb5cd29b54",
   "metadata": {},
   "outputs": [],
   "source": [
    "distance_df.to_csv('distances.csv')"
   ]
  },
  {
   "cell_type": "code",
   "execution_count": 106,
   "id": "93ad7dd0-d529-43ba-9c1a-b5233437dcd7",
   "metadata": {},
   "outputs": [
    {
     "data": {
      "text/html": [
       "<div>\n",
       "<style scoped>\n",
       "    .dataframe tbody tr th:only-of-type {\n",
       "        vertical-align: middle;\n",
       "    }\n",
       "\n",
       "    .dataframe tbody tr th {\n",
       "        vertical-align: top;\n",
       "    }\n",
       "\n",
       "    .dataframe thead th {\n",
       "        text-align: right;\n",
       "    }\n",
       "</style>\n",
       "<table border=\"1\" class=\"dataframe\">\n",
       "  <thead>\n",
       "    <tr style=\"text-align: right;\">\n",
       "      <th></th>\n",
       "      <th>area_en</th>\n",
       "      <th>name</th>\n",
       "      <th>distance_km</th>\n",
       "    </tr>\n",
       "  </thead>\n",
       "  <tbody>\n",
       "    <tr>\n",
       "      <th>0</th>\n",
       "      <td>AL BARARI</td>\n",
       "      <td>IMG World Adventures</td>\n",
       "      <td>4.038671</td>\n",
       "    </tr>\n",
       "    <tr>\n",
       "      <th>1</th>\n",
       "      <td>AL BARARI</td>\n",
       "      <td>Dubai International Airport</td>\n",
       "      <td>15.487226</td>\n",
       "    </tr>\n",
       "    <tr>\n",
       "      <th>2</th>\n",
       "      <td>AL BARARI</td>\n",
       "      <td>Downtown Dubai</td>\n",
       "      <td>9.479825</td>\n",
       "    </tr>\n",
       "    <tr>\n",
       "      <th>3</th>\n",
       "      <td>AL BARARI</td>\n",
       "      <td>Motor City</td>\n",
       "      <td>11.493482</td>\n",
       "    </tr>\n",
       "    <tr>\n",
       "      <th>4</th>\n",
       "      <td>AL BARARI</td>\n",
       "      <td>Burj Al Arab</td>\n",
       "      <td>13.874654</td>\n",
       "    </tr>\n",
       "    <tr>\n",
       "      <th>...</th>\n",
       "      <td>...</td>\n",
       "      <td>...</td>\n",
       "      <td>...</td>\n",
       "    </tr>\n",
       "    <tr>\n",
       "      <th>6001</th>\n",
       "      <td>Muragab</td>\n",
       "      <td>north</td>\n",
       "      <td>15.905107</td>\n",
       "    </tr>\n",
       "    <tr>\n",
       "      <th>6002</th>\n",
       "      <td>Muragab</td>\n",
       "      <td>south</td>\n",
       "      <td>46.531049</td>\n",
       "    </tr>\n",
       "    <tr>\n",
       "      <th>6003</th>\n",
       "      <td>Muragab</td>\n",
       "      <td>east</td>\n",
       "      <td>29.278656</td>\n",
       "    </tr>\n",
       "    <tr>\n",
       "      <th>6004</th>\n",
       "      <td>Muragab</td>\n",
       "      <td>west</td>\n",
       "      <td>35.048861</td>\n",
       "    </tr>\n",
       "    <tr>\n",
       "      <th>6005</th>\n",
       "      <td>Muragab</td>\n",
       "      <td>center</td>\n",
       "      <td>2.473749</td>\n",
       "    </tr>\n",
       "  </tbody>\n",
       "</table>\n",
       "<p>6006 rows × 3 columns</p>\n",
       "</div>"
      ],
      "text/plain": [
       "        area_en                         name  distance_km\n",
       "0     AL BARARI         IMG World Adventures     4.038671\n",
       "1     AL BARARI  Dubai International Airport    15.487226\n",
       "2     AL BARARI               Downtown Dubai     9.479825\n",
       "3     AL BARARI                   Motor City    11.493482\n",
       "4     AL BARARI                 Burj Al Arab    13.874654\n",
       "...         ...                          ...          ...\n",
       "6001    Muragab                        north    15.905107\n",
       "6002    Muragab                        south    46.531049\n",
       "6003    Muragab                         east    29.278656\n",
       "6004    Muragab                         west    35.048861\n",
       "6005    Muragab                       center     2.473749\n",
       "\n",
       "[6006 rows x 3 columns]"
      ]
     },
     "execution_count": 106,
     "metadata": {},
     "output_type": "execute_result"
    }
   ],
   "source": [
    "distance_df.drop(columns=['type'])"
   ]
  },
  {
   "cell_type": "code",
   "execution_count": 107,
   "id": "c3557ddd-91e7-4df7-bac4-c1fdf54fe4fd",
   "metadata": {},
   "outputs": [
    {
     "name": "stdout",
     "output_type": "stream",
     "text": [
      "              area_en  Al Makhtoum International Airport  Burj Al Arab  \\\n",
      "0           AL Athbah                          46.188410     29.664620   \n",
      "1           AL BARARI                          30.608016     13.874654   \n",
      "2           AL FURJAN                          16.064378     12.770850   \n",
      "3    AL KHAIL HEIGHTS                          31.480353      7.061189   \n",
      "4             AL WAHA                          20.449810     16.023778   \n",
      "..                ...                                ...           ...   \n",
      "268    Wadi Al Safa 7                          20.763588     15.329463   \n",
      "269      Warsan First                          45.723781     21.930711   \n",
      "270     Warsan Fourth                          40.331545     24.095928   \n",
      "271     Zaabeel First                          40.209496     14.394523   \n",
      "272    Zaabeel Second                          37.222094     11.729992   \n",
      "\n",
      "     Burj Khalifa  City Centre Mirdif  Downtown Dubai  \\\n",
      "0       20.346370            7.752184       19.938341   \n",
      "1        9.887893           13.967628        9.479825   \n",
      "2       22.218300           33.019580       22.230776   \n",
      "3        5.019338           16.885628        4.972222   \n",
      "4       18.662505           24.194025       18.389017   \n",
      "..            ...                 ...             ...   \n",
      "268     18.004827           23.805684       17.737322   \n",
      "269     11.063500            5.684421       10.883284   \n",
      "270     15.712386            6.846911       15.263205   \n",
      "271      3.803051           11.536340        3.854961   \n",
      "272      0.866625           12.837712        0.861535   \n",
      "\n",
      "     Dubai International Airport  Dubai Mall  Dubai Parks and Resorts  \\\n",
      "0                   1.330528e+01   19.862484                55.605163   \n",
      "1                   1.548723e+01    9.667132                38.468517   \n",
      "2                   3.269968e+01   22.490894                18.991120   \n",
      "3                   1.554425e+01    5.237829                36.027018   \n",
      "4                   2.602643e+01   18.639430                30.478593   \n",
      "..                           ...         ...                      ...   \n",
      "268                 2.551798e+01   17.989308                30.455863   \n",
      "269                 6.397308e-13   10.662592                51.554810   \n",
      "270                 1.203021e+01   15.247556                49.508820   \n",
      "271                 7.848593e+00    3.585884                44.539619   \n",
      "272                 1.020464e+01    0.592194                41.661401   \n",
      "\n",
      "     Expo 2020 Site  ...  Ibn-e-Battuta Mall  Jabel Ali  Mall of the Emirates  \\\n",
      "0         40.227363  ...           39.110379  38.940255             28.654472   \n",
      "1         23.549399  ...           21.829538  21.697240             12.136677   \n",
      "2          7.105407  ...            3.580408   2.159191             11.196519   \n",
      "3         23.115177  ...           18.258356  19.434183              6.601046   \n",
      "4         14.623313  ...           16.756383  14.979052             13.333966   \n",
      "..              ...  ...                 ...        ...                   ...   \n",
      "268       14.670979  ...           16.391455  14.746483             12.642980   \n",
      "269       37.985269  ...           33.801492  34.858553             22.101939   \n",
      "270       34.171195  ...           33.074251  32.847942             22.877056   \n",
      "271       31.923368  ...           26.680910  28.148387             14.974667   \n",
      "272       28.925508  ...           23.818584  25.194911             12.088840   \n",
      "\n",
      "     Marina Mall  Motor City     center       east      north      south  \\\n",
      "0      35.901851   28.456128  20.012364  22.088216  31.540801  42.743749   \n",
      "1      18.785710   11.493482  16.937360  38.055788  31.678192  30.334565   \n",
      "2       5.384516    8.870943  30.505666  57.378324  42.763387  23.317602   \n",
      "3      14.372557   12.128504  13.519922  40.975695  27.196616  34.049802   \n",
      "4      15.624523    5.201827  26.777237  47.637900  41.225002  20.026250   \n",
      "..           ...         ...        ...        ...        ...        ...   \n",
      "268    15.118655    4.687786  26.155836  47.369801  40.573132  20.643814   \n",
      "269    29.871349   26.105120   6.900782  25.945018  19.050051  45.742403   \n",
      "270    29.952859   22.361759  17.656934  27.750077  31.078976  37.575596   \n",
      "271    22.617592   20.654315   4.865527  33.780619  19.405603  41.952365   \n",
      "272    19.798236   17.697976   7.792232  36.075974  22.026094  39.171717   \n",
      "\n",
      "          west  \n",
      "0    48.069295  \n",
      "1    32.495648  \n",
      "2    20.289246  \n",
      "3    25.542224  \n",
      "4    31.745064  \n",
      "..         ...  \n",
      "268  31.193322  \n",
      "269  38.507694  \n",
      "270  42.694912  \n",
      "271  30.683268  \n",
      "272  28.829745  \n",
      "\n",
      "[273 rows x 23 columns]\n"
     ]
    }
   ],
   "source": [
    "# Pivot the DataFrame\n",
    "pivoted_df = distance_df.pivot(index='area_en', columns='name', values='distance_km')\n",
    "\n",
    "# Flatten the columns and reset index\n",
    "pivoted_df.columns.name = None  # Remove the name from the columns\n",
    "pivoted_df.reset_index(inplace=True)\n",
    "\n",
    "# Save to CSV (optional)\n",
    "pivoted_df.to_csv(\"area_distance_matrix.csv\", index=False)\n",
    "\n",
    "# Display the cleaned DataFrame\n",
    "print(pivoted_df)"
   ]
  },
  {
   "cell_type": "code",
   "execution_count": 108,
   "id": "d287aef9-2402-4e59-8734-c7ffac1a8678",
   "metadata": {},
   "outputs": [],
   "source": [
    "sales_df = pd.read_csv('../data/snp_dld_2024_transactions.csv')\n",
    "area_group = sales_df.groupby('area_en').agg({\n",
    "    'project_name_en': 'count',        # Non-null project names\n",
    "    'nearest_landmark_en': 'count',   # Non-null nearest landmarks\n",
    "    \"nearest_metro_en\": 'count',      # Non-null nearest metro entries\n",
    "    \"nearest_mall_en\": 'count',       # Non-null nearest mall entries\n",
    "}).reset_index()\n",
    "\n",
    "# Rename columns for clarity\n",
    "area_group.rename(columns={\n",
    "    'project_name_en': 'project_count',\n",
    "    'nearest_landmark_en': 'landmark_count',\n",
    "    'nearest_metro_en': 'metro_count',\n",
    "    'nearest_mall_en': 'mall_count'\n",
    "}, inplace=True)\n"
   ]
  },
  {
   "cell_type": "code",
   "execution_count": 109,
   "id": "9b25b2d0-3a5a-4f33-a5e3-7e3ec7a999a0",
   "metadata": {},
   "outputs": [],
   "source": [
    "area_group.to_csv('area_group_landmarks_count.csv')"
   ]
  },
  {
   "cell_type": "code",
   "execution_count": 110,
   "id": "00d70e6d-e91a-47f3-8da9-5c4c8ae75bac",
   "metadata": {},
   "outputs": [
    {
     "name": "stdout",
     "output_type": "stream",
     "text": [
      "<class 'pandas.core.frame.DataFrame'>\n",
      "RangeIndex: 273 entries, 0 to 272\n",
      "Data columns (total 5 columns):\n",
      " #   Column          Non-Null Count  Dtype \n",
      "---  ------          --------------  ----- \n",
      " 0   area_en         273 non-null    object\n",
      " 1   project_count   273 non-null    int64 \n",
      " 2   landmark_count  273 non-null    int64 \n",
      " 3   metro_count     273 non-null    int64 \n",
      " 4   mall_count      273 non-null    int64 \n",
      "dtypes: int64(4), object(1)\n",
      "memory usage: 10.8+ KB\n"
     ]
    }
   ],
   "source": [
    "area_group.info()"
   ]
  },
  {
   "cell_type": "code",
   "execution_count": 111,
   "id": "2abee6a6-844b-4a85-a469-5a5d7b9e2735",
   "metadata": {},
   "outputs": [
    {
     "name": "stdout",
     "output_type": "stream",
     "text": [
      "<class 'pandas.core.frame.DataFrame'>\n",
      "RangeIndex: 273 entries, 0 to 272\n",
      "Data columns (total 23 columns):\n",
      " #   Column                             Non-Null Count  Dtype  \n",
      "---  ------                             --------------  -----  \n",
      " 0   area_en                            273 non-null    object \n",
      " 1   Al Makhtoum International Airport  273 non-null    float64\n",
      " 2   Burj Al Arab                       273 non-null    float64\n",
      " 3   Burj Khalifa                       273 non-null    float64\n",
      " 4   City Centre Mirdif                 273 non-null    float64\n",
      " 5   Downtown Dubai                     273 non-null    float64\n",
      " 6   Dubai International Airport        273 non-null    float64\n",
      " 7   Dubai Mall                         273 non-null    float64\n",
      " 8   Dubai Parks and Resorts            273 non-null    float64\n",
      " 9   Expo 2020 Site                     273 non-null    float64\n",
      " 10  Global Village                     273 non-null    float64\n",
      " 11  Hamdan Sports Complex              273 non-null    float64\n",
      " 12  IMG World Adventures               273 non-null    float64\n",
      " 13  Ibn-e-Battuta Mall                 273 non-null    float64\n",
      " 14  Jabel Ali                          273 non-null    float64\n",
      " 15  Mall of the Emirates               273 non-null    float64\n",
      " 16  Marina Mall                        273 non-null    float64\n",
      " 17  Motor City                         273 non-null    float64\n",
      " 18  center                             273 non-null    float64\n",
      " 19  east                               273 non-null    float64\n",
      " 20  north                              273 non-null    float64\n",
      " 21  south                              273 non-null    float64\n",
      " 22  west                               273 non-null    float64\n",
      "dtypes: float64(22), object(1)\n",
      "memory usage: 49.2+ KB\n"
     ]
    }
   ],
   "source": [
    "pivoted_df.info()"
   ]
  },
  {
   "cell_type": "code",
   "execution_count": 112,
   "id": "bd54b8b1-0cb1-48f3-85ab-c6332299913f",
   "metadata": {},
   "outputs": [
    {
     "name": "stdout",
     "output_type": "stream",
     "text": [
      "<class 'pandas.core.frame.DataFrame'>\n",
      "Int64Index: 273 entries, 0 to 272\n",
      "Data columns (total 27 columns):\n",
      " #   Column                             Non-Null Count  Dtype  \n",
      "---  ------                             --------------  -----  \n",
      " 0   area_en                            273 non-null    object \n",
      " 1   project_count                      273 non-null    int64  \n",
      " 2   landmark_count                     273 non-null    int64  \n",
      " 3   metro_count                        273 non-null    int64  \n",
      " 4   mall_count                         273 non-null    int64  \n",
      " 5   Al Makhtoum International Airport  273 non-null    float64\n",
      " 6   Burj Al Arab                       273 non-null    float64\n",
      " 7   Burj Khalifa                       273 non-null    float64\n",
      " 8   City Centre Mirdif                 273 non-null    float64\n",
      " 9   Downtown Dubai                     273 non-null    float64\n",
      " 10  Dubai International Airport        273 non-null    float64\n",
      " 11  Dubai Mall                         273 non-null    float64\n",
      " 12  Dubai Parks and Resorts            273 non-null    float64\n",
      " 13  Expo 2020 Site                     273 non-null    float64\n",
      " 14  Global Village                     273 non-null    float64\n",
      " 15  Hamdan Sports Complex              273 non-null    float64\n",
      " 16  IMG World Adventures               273 non-null    float64\n",
      " 17  Ibn-e-Battuta Mall                 273 non-null    float64\n",
      " 18  Jabel Ali                          273 non-null    float64\n",
      " 19  Mall of the Emirates               273 non-null    float64\n",
      " 20  Marina Mall                        273 non-null    float64\n",
      " 21  Motor City                         273 non-null    float64\n",
      " 22  center                             273 non-null    float64\n",
      " 23  east                               273 non-null    float64\n",
      " 24  north                              273 non-null    float64\n",
      " 25  south                              273 non-null    float64\n",
      " 26  west                               273 non-null    float64\n",
      "dtypes: float64(22), int64(4), object(1)\n",
      "memory usage: 59.7+ KB\n"
     ]
    }
   ],
   "source": [
    "merged_df = pd.merge(area_group, pivoted_df, on='area_en', how='inner')\n",
    "merged_df.info()"
   ]
  },
  {
   "cell_type": "code",
   "execution_count": 113,
   "id": "70a3f049-d051-4216-92be-b684e45fe314",
   "metadata": {},
   "outputs": [],
   "source": [
    "no_missing_sales = pd.read_csv('../data/sales_data_no_missing.csv')"
   ]
  },
  {
   "cell_type": "code",
   "execution_count": 114,
   "id": "8d7a2d95-9ddc-4a5d-aac7-578d06b8623a",
   "metadata": {},
   "outputs": [
    {
     "name": "stdout",
     "output_type": "stream",
     "text": [
      "<class 'pandas.core.frame.DataFrame'>\n",
      "RangeIndex: 162806 entries, 0 to 162805\n",
      "Data columns (total 31 columns):\n",
      " #   Column                          Non-Null Count   Dtype  \n",
      "---  ------                          --------------   -----  \n",
      " 0   transaction_type_id             162806 non-null  int64  \n",
      " 1   registration_type_en            162806 non-null  object \n",
      " 2   property_usage_id               162806 non-null  int64  \n",
      " 3   amount                          162806 non-null  float64\n",
      " 4   total_buyer                     162806 non-null  int64  \n",
      " 5   total_seller                    162806 non-null  int64  \n",
      " 6   transaction_size_sqm            162806 non-null  float64\n",
      " 7   property_size_sqm               162806 non-null  float64\n",
      " 8   is_offplan                      162806 non-null  object \n",
      " 9   is_freehold                     162806 non-null  object \n",
      " 10  property_type_en                162806 non-null  object \n",
      " 11  property_subtype_en             162806 non-null  object \n",
      " 12  project_name_en                 162806 non-null  object \n",
      " 13  area_en                         162806 non-null  object \n",
      " 14  nearest_landmark_en             162806 non-null  object \n",
      " 15  nearest_metro_en                162806 non-null  object \n",
      " 16  nearest_mall_en                 162806 non-null  object \n",
      " 17  transaction_datetime_month      162806 non-null  int64  \n",
      " 18  transaction_datetime_day        162806 non-null  int64  \n",
      " 19  transaction_datetime_weekday    162806 non-null  int64  \n",
      " 20  transaction_datetime_dayofyear  162806 non-null  int64  \n",
      " 21  req_from_month                  162806 non-null  int64  \n",
      " 22  req_from_weekday                162806 non-null  int64  \n",
      " 23  req_from_dayofyear              162806 non-null  int64  \n",
      " 24  req_to_month                    162806 non-null  int64  \n",
      " 25  req_to_day                      162806 non-null  int64  \n",
      " 26  req_to_weekday                  162806 non-null  int64  \n",
      " 27  req_to_dayofyear                162806 non-null  int64  \n",
      " 28  parking_count                   162806 non-null  int64  \n",
      " 29  is_freehold_encoded             162806 non-null  int64  \n",
      " 30  rooms_en_imputed                162806 non-null  float64\n",
      "dtypes: float64(4), int64(17), object(10)\n",
      "memory usage: 38.5+ MB\n"
     ]
    }
   ],
   "source": [
    "no_missing_sales.info()"
   ]
  },
  {
   "cell_type": "code",
   "execution_count": 115,
   "id": "5ea95153-df14-4421-ade4-caf8c7eb2efd",
   "metadata": {},
   "outputs": [
    {
     "name": "stdout",
     "output_type": "stream",
     "text": [
      "<class 'pandas.core.frame.DataFrame'>\n",
      "Int64Index: 162806 entries, 0 to 162805\n",
      "Data columns (total 57 columns):\n",
      " #   Column                             Non-Null Count   Dtype  \n",
      "---  ------                             --------------   -----  \n",
      " 0   transaction_type_id                162806 non-null  int64  \n",
      " 1   registration_type_en               162806 non-null  object \n",
      " 2   property_usage_id                  162806 non-null  int64  \n",
      " 3   amount                             162806 non-null  float64\n",
      " 4   total_buyer                        162806 non-null  int64  \n",
      " 5   total_seller                       162806 non-null  int64  \n",
      " 6   transaction_size_sqm               162806 non-null  float64\n",
      " 7   property_size_sqm                  162806 non-null  float64\n",
      " 8   is_offplan                         162806 non-null  object \n",
      " 9   is_freehold                        162806 non-null  object \n",
      " 10  property_type_en                   162806 non-null  object \n",
      " 11  property_subtype_en                162806 non-null  object \n",
      " 12  project_name_en                    162806 non-null  object \n",
      " 13  area_en                            162806 non-null  object \n",
      " 14  nearest_landmark_en                162806 non-null  object \n",
      " 15  nearest_metro_en                   162806 non-null  object \n",
      " 16  nearest_mall_en                    162806 non-null  object \n",
      " 17  transaction_datetime_month         162806 non-null  int64  \n",
      " 18  transaction_datetime_day           162806 non-null  int64  \n",
      " 19  transaction_datetime_weekday       162806 non-null  int64  \n",
      " 20  transaction_datetime_dayofyear     162806 non-null  int64  \n",
      " 21  req_from_month                     162806 non-null  int64  \n",
      " 22  req_from_weekday                   162806 non-null  int64  \n",
      " 23  req_from_dayofyear                 162806 non-null  int64  \n",
      " 24  req_to_month                       162806 non-null  int64  \n",
      " 25  req_to_day                         162806 non-null  int64  \n",
      " 26  req_to_weekday                     162806 non-null  int64  \n",
      " 27  req_to_dayofyear                   162806 non-null  int64  \n",
      " 28  parking_count                      162806 non-null  int64  \n",
      " 29  is_freehold_encoded                162806 non-null  int64  \n",
      " 30  rooms_en_imputed                   162806 non-null  float64\n",
      " 31  project_count                      162806 non-null  int64  \n",
      " 32  landmark_count                     162806 non-null  int64  \n",
      " 33  metro_count                        162806 non-null  int64  \n",
      " 34  mall_count                         162806 non-null  int64  \n",
      " 35  Al Makhtoum International Airport  162806 non-null  float64\n",
      " 36  Burj Al Arab                       162806 non-null  float64\n",
      " 37  Burj Khalifa                       162806 non-null  float64\n",
      " 38  City Centre Mirdif                 162806 non-null  float64\n",
      " 39  Downtown Dubai                     162806 non-null  float64\n",
      " 40  Dubai International Airport        162806 non-null  float64\n",
      " 41  Dubai Mall                         162806 non-null  float64\n",
      " 42  Dubai Parks and Resorts            162806 non-null  float64\n",
      " 43  Expo 2020 Site                     162806 non-null  float64\n",
      " 44  Global Village                     162806 non-null  float64\n",
      " 45  Hamdan Sports Complex              162806 non-null  float64\n",
      " 46  IMG World Adventures               162806 non-null  float64\n",
      " 47  Ibn-e-Battuta Mall                 162806 non-null  float64\n",
      " 48  Jabel Ali                          162806 non-null  float64\n",
      " 49  Mall of the Emirates               162806 non-null  float64\n",
      " 50  Marina Mall                        162806 non-null  float64\n",
      " 51  Motor City                         162806 non-null  float64\n",
      " 52  center                             162806 non-null  float64\n",
      " 53  east                               162806 non-null  float64\n",
      " 54  north                              162806 non-null  float64\n",
      " 55  south                              162806 non-null  float64\n",
      " 56  west                               162806 non-null  float64\n",
      "dtypes: float64(26), int64(21), object(10)\n",
      "memory usage: 72.0+ MB\n"
     ]
    }
   ],
   "source": [
    "no_missing_merged_loc = pd.merge(no_missing_sales,merged_df, on=\"area_en\", how=\"left\")\n",
    "no_missing_merged_loc.info()"
   ]
  },
  {
   "cell_type": "markdown",
   "id": "e2084329-8d44-4230-a822-03b3c33592c9",
   "metadata": {},
   "source": [
    "## Convert columnt to categorical data if needed"
   ]
  },
  {
   "cell_type": "code",
   "execution_count": 116,
   "id": "1ec7d1e2-055d-4229-ae72-34a0a8049e82",
   "metadata": {},
   "outputs": [
    {
     "data": {
      "text/plain": [
       "array([1, 2, 3])"
      ]
     },
     "execution_count": 116,
     "metadata": {},
     "output_type": "execute_result"
    }
   ],
   "source": [
    "no_missing_merged_loc['transaction_type_id'].unique()"
   ]
  },
  {
   "cell_type": "code",
   "execution_count": 117,
   "id": "1a3889f5-805b-4937-a182-b4f22ea71005",
   "metadata": {},
   "outputs": [
    {
     "name": "stdout",
     "output_type": "stream",
     "text": [
      "category\n"
     ]
    }
   ],
   "source": [
    "# Convert transaction_type_id to a categorical type\n",
    "no_missing_merged_loc['transaction_type_id'] = no_missing_merged_loc['transaction_type_id'].astype('category')\n",
    "\n",
    "# Verify the change\n",
    "print(no_missing_merged_loc['transaction_type_id'].dtypes)"
   ]
  },
  {
   "cell_type": "code",
   "execution_count": 118,
   "id": "a70a868d-02d2-4e48-9ec8-b6fab668c025",
   "metadata": {},
   "outputs": [
    {
     "data": {
      "text/plain": [
       "array(['Off-Plan', 'Ready'], dtype=object)"
      ]
     },
     "execution_count": 118,
     "metadata": {},
     "output_type": "execute_result"
    }
   ],
   "source": [
    "no_missing_merged_loc['registration_type_en'].unique()"
   ]
  },
  {
   "cell_type": "code",
   "execution_count": 119,
   "id": "e46bd331-58c6-4106-a743-3dad9ad405b0",
   "metadata": {},
   "outputs": [
    {
     "data": {
      "text/plain": [
       "array([0, 1], dtype=int8)"
      ]
     },
     "execution_count": 119,
     "metadata": {},
     "output_type": "execute_result"
    }
   ],
   "source": [
    "no_missing_merged_loc['registration_type_en'] = no_missing_merged_loc['registration_type_en'].astype('category')\n",
    "no_missing_merged_loc['registration_type_encoded'] = no_missing_merged_loc['registration_type_en'].cat.codes\n",
    "no_missing_merged_loc['registration_type_encoded'].unique()"
   ]
  },
  {
   "cell_type": "code",
   "execution_count": 120,
   "id": "1146f18f-0124-4336-844c-5b63c788150a",
   "metadata": {},
   "outputs": [
    {
     "name": "stdout",
     "output_type": "stream",
     "text": [
      "Index(['Off-Plan', 'Ready'], dtype='object')\n"
     ]
    }
   ],
   "source": [
    "print(no_missing_merged_loc['registration_type_en'].cat.categories)"
   ]
  },
  {
   "cell_type": "code",
   "execution_count": 121,
   "id": "69e49ad5-3f61-49e3-8320-f7b23d5252a0",
   "metadata": {},
   "outputs": [],
   "source": [
    "no_missing_merged_loc = no_missing_merged_loc.drop(columns=['registration_type_en'])"
   ]
  },
  {
   "cell_type": "code",
   "execution_count": 122,
   "id": "bc20c27d-ab1d-4c39-a9c1-127b00aba71b",
   "metadata": {},
   "outputs": [
    {
     "data": {
      "text/plain": [
       "array([1, 2])"
      ]
     },
     "execution_count": 122,
     "metadata": {},
     "output_type": "execute_result"
    }
   ],
   "source": [
    "no_missing_merged_loc['property_usage_id'].unique()"
   ]
  },
  {
   "cell_type": "markdown",
   "id": "dee6b61c-309d-4854-880b-bd78fd66445c",
   "metadata": {},
   "source": [
    "### Handling the `property_usage_id` Feature\n",
    "\n",
    "The `property_usage_id` column in the dataset has two unique values: `1` and `2`. These values have a clear ordinal relationship, where:\n",
    "\n",
    "- `1` represents one category.\n",
    "- `2` represents another, with a meaningful order.\n",
    "\n",
    "To ensure the feature is efficiently stored and its order preserved during modeling, the following strategy is applied:\n",
    "\n",
    "1. **Convert to Categorical Type**: Storing the column as a categorical type reduces memory usage while retaining the ordinal relationship between the categories.\n",
    "2. **Specify the Order**: By explicitly defining the order of the categories (`1 < 2`), the column can be seamlessly used in models that require ordinal inputs.\n",
    "\n",
    "This strategy ensures that the feature is both space-efficient and ready for use in machine learning models while maintaining its ordinal semantics.\n"
   ]
  },
  {
   "cell_type": "code",
   "execution_count": 123,
   "id": "81401782-32aa-4ec0-b92f-2ce4b328da1b",
   "metadata": {},
   "outputs": [
    {
     "name": "stdout",
     "output_type": "stream",
     "text": [
      "category\n"
     ]
    }
   ],
   "source": [
    "# Convert 'property_usage_id' to a categorical type with an explicit order\n",
    "no_missing_merged_loc['property_usage_id'] = pd.Categorical(\n",
    "    no_missing_merged_loc['property_usage_id'],\n",
    "    categories=[1, 2],  # Explicitly specify the order\n",
    "    ordered=True\n",
    ")\n",
    "\n",
    "# Verify the change\n",
    "print(no_missing_merged_loc['property_usage_id'].dtype)"
   ]
  },
  {
   "cell_type": "code",
   "execution_count": 124,
   "id": "d43c7f1f-245d-44ce-b103-f86d356feabb",
   "metadata": {},
   "outputs": [
    {
     "name": "stdout",
     "output_type": "stream",
     "text": [
      "<class 'pandas.core.frame.DataFrame'>\n",
      "Int64Index: 162806 entries, 0 to 162805\n",
      "Data columns (total 57 columns):\n",
      " #   Column                             Non-Null Count   Dtype   \n",
      "---  ------                             --------------   -----   \n",
      " 0   transaction_type_id                162806 non-null  category\n",
      " 1   property_usage_id                  162806 non-null  category\n",
      " 2   amount                             162806 non-null  float64 \n",
      " 3   total_buyer                        162806 non-null  int64   \n",
      " 4   total_seller                       162806 non-null  int64   \n",
      " 5   transaction_size_sqm               162806 non-null  float64 \n",
      " 6   property_size_sqm                  162806 non-null  float64 \n",
      " 7   is_offplan                         162806 non-null  object  \n",
      " 8   is_freehold                        162806 non-null  object  \n",
      " 9   property_type_en                   162806 non-null  object  \n",
      " 10  property_subtype_en                162806 non-null  object  \n",
      " 11  project_name_en                    162806 non-null  object  \n",
      " 12  area_en                            162806 non-null  object  \n",
      " 13  nearest_landmark_en                162806 non-null  object  \n",
      " 14  nearest_metro_en                   162806 non-null  object  \n",
      " 15  nearest_mall_en                    162806 non-null  object  \n",
      " 16  transaction_datetime_month         162806 non-null  int64   \n",
      " 17  transaction_datetime_day           162806 non-null  int64   \n",
      " 18  transaction_datetime_weekday       162806 non-null  int64   \n",
      " 19  transaction_datetime_dayofyear     162806 non-null  int64   \n",
      " 20  req_from_month                     162806 non-null  int64   \n",
      " 21  req_from_weekday                   162806 non-null  int64   \n",
      " 22  req_from_dayofyear                 162806 non-null  int64   \n",
      " 23  req_to_month                       162806 non-null  int64   \n",
      " 24  req_to_day                         162806 non-null  int64   \n",
      " 25  req_to_weekday                     162806 non-null  int64   \n",
      " 26  req_to_dayofyear                   162806 non-null  int64   \n",
      " 27  parking_count                      162806 non-null  int64   \n",
      " 28  is_freehold_encoded                162806 non-null  int64   \n",
      " 29  rooms_en_imputed                   162806 non-null  float64 \n",
      " 30  project_count                      162806 non-null  int64   \n",
      " 31  landmark_count                     162806 non-null  int64   \n",
      " 32  metro_count                        162806 non-null  int64   \n",
      " 33  mall_count                         162806 non-null  int64   \n",
      " 34  Al Makhtoum International Airport  162806 non-null  float64 \n",
      " 35  Burj Al Arab                       162806 non-null  float64 \n",
      " 36  Burj Khalifa                       162806 non-null  float64 \n",
      " 37  City Centre Mirdif                 162806 non-null  float64 \n",
      " 38  Downtown Dubai                     162806 non-null  float64 \n",
      " 39  Dubai International Airport        162806 non-null  float64 \n",
      " 40  Dubai Mall                         162806 non-null  float64 \n",
      " 41  Dubai Parks and Resorts            162806 non-null  float64 \n",
      " 42  Expo 2020 Site                     162806 non-null  float64 \n",
      " 43  Global Village                     162806 non-null  float64 \n",
      " 44  Hamdan Sports Complex              162806 non-null  float64 \n",
      " 45  IMG World Adventures               162806 non-null  float64 \n",
      " 46  Ibn-e-Battuta Mall                 162806 non-null  float64 \n",
      " 47  Jabel Ali                          162806 non-null  float64 \n",
      " 48  Mall of the Emirates               162806 non-null  float64 \n",
      " 49  Marina Mall                        162806 non-null  float64 \n",
      " 50  Motor City                         162806 non-null  float64 \n",
      " 51  center                             162806 non-null  float64 \n",
      " 52  east                               162806 non-null  float64 \n",
      " 53  north                              162806 non-null  float64 \n",
      " 54  south                              162806 non-null  float64 \n",
      " 55  west                               162806 non-null  float64 \n",
      " 56  registration_type_encoded          162806 non-null  int8    \n",
      "dtypes: category(2), float64(26), int64(19), int8(1), object(9)\n",
      "memory usage: 68.8+ MB\n"
     ]
    }
   ],
   "source": [
    "no_missing_merged_loc.info()"
   ]
  },
  {
   "cell_type": "markdown",
   "id": "c7f3749a-1a0b-4082-a70e-5e9fb2e5221f",
   "metadata": {},
   "source": [
    "### Handling the `amount` Feature\n",
    "\n",
    "The `amount` column is a continuous numerical variable crucial for modeling. To ensure it is handled effectively:\n",
    "\n",
    "1. **Check for Missing Values**:\n",
    "   - Ensure the column has no missing values. If missing values exist, use an appropriate imputation strategy (e.g., median or mean).\n",
    "\n",
    "2. **Analyze Distribution**:\n",
    "   - Understand the distribution of the `amount` values using visualization tools (e.g., histograms, box plots).\n",
    "   - If the distribution is highly skewed, apply a log transformation to normalize the data.\n",
    "\n",
    "3. **Scaling**:\n",
    "   - Scaling might be necessary for some models:\n",
    "     - Tree-based models: No scaling required.\n",
    "     - Distance-based models: Apply standardization or normalization.\n",
    "\n",
    "4. **Feature Engineering** (Optional):\n",
    "   - Create additional features based on `amount`:\n",
    "     - Log-transformed values for skewed distributions.\n",
    "     - Binned categories (e.g., low, medium, high) for categorical representations."
   ]
  },
  {
   "cell_type": "code",
   "execution_count": 125,
   "id": "1d4b4c3d-5024-4f81-a78c-40011d1ff0d5",
   "metadata": {},
   "outputs": [
    {
     "data": {
      "image/png": "[encoded data removed]",
      "text/plain": [
       "<Figure size 640x480 with 1 Axes>"
      ]
     },
     "metadata": {},
     "output_type": "display_data"
    }
   ],
   "source": [
    "import numpy as np\n",
    "import matplotlib.pyplot as plt\n",
    "\n",
    "# Log-transform the amount to reduce skewness\n",
    "log_amount = np.log1p(no_missing_merged_loc['amount'])  # Use log1p to handle zero values if any\n",
    "\n",
    "# Plot the histogram of the log-transformed amount\n",
    "plt.hist(log_amount, bins=50, edgecolor='k', alpha=0.7)\n",
    "plt.title(\"Log-Transformed Distribution of Amount\")\n",
    "plt.xlabel(\"Log(Amount)\")\n",
    "plt.ylabel(\"Frequency\")\n",
    "plt.show()\n"
   ]
  },
  {
   "cell_type": "code",
   "execution_count": 126,
   "id": "1ad417eb-cbaf-439e-821f-3675eeda25df",
   "metadata": {},
   "outputs": [
    {
     "name": "stdout",
     "output_type": "stream",
     "text": [
      "            amount  amount_normalized  amount_standardized  amount_scaled\n",
      "0        886320.00           0.000209            -0.095867      -0.095867\n",
      "1       1169025.00           0.000275            -0.084521      -0.084521\n",
      "2       1285588.11           0.000303            -0.079844      -0.079844\n",
      "3       2636200.00           0.000620            -0.025642      -0.025642\n",
      "4       1681899.00           0.000396            -0.063939      -0.063939\n",
      "...            ...                ...                  ...            ...\n",
      "162801  1620127.50           0.000381            -0.066418      -0.066418\n",
      "162802  2788750.64           0.000656            -0.019520      -0.019520\n",
      "162803   675085.76           0.000159            -0.104344      -0.104344\n",
      "162804   491000.00           0.000116            -0.111732      -0.111732\n",
      "162805   887282.00           0.000209            -0.095828      -0.095828\n",
      "\n",
      "[162806 rows x 4 columns]\n"
     ]
    }
   ],
   "source": [
    "# Min-Max Normalization\n",
    "amount_min = no_missing_merged_loc['amount'].min()\n",
    "amount_max = no_missing_merged_loc['amount'].max()\n",
    "\n",
    "no_missing_merged_loc['amount_normalized'] = (no_missing_merged_loc['amount'] - amount_min) / (amount_max - amount_min)\n",
    "\n",
    "# Z-Score Standardization\n",
    "amount_mean = no_missing_merged_loc['amount'].mean()\n",
    "amount_std = no_missing_merged_loc['amount'].std()\n",
    "\n",
    "no_missing_merged_loc['amount_standardized'] = (no_missing_merged_loc['amount'] - amount_mean) / amount_std\n",
    "\n",
    "# Combine Normalization and Standardization\n",
    "normalized_amount = (no_missing_merged_loc['amount'] - amount_min) / (amount_max - amount_min)\n",
    "normalized_mean = normalized_amount.mean()\n",
    "normalized_std = normalized_amount.std()\n",
    "\n",
    "no_missing_merged_loc['amount_scaled'] = (normalized_amount - normalized_mean) / normalized_std\n",
    "\n",
    "# Display results\n",
    "print(no_missing_merged_loc[['amount', 'amount_normalized', 'amount_standardized', 'amount_scaled']])\n",
    "\n"
   ]
  },
  {
   "cell_type": "code",
   "execution_count": 127,
   "id": "4c6cbe2e-b239-4237-9068-68938cb41e69",
   "metadata": {},
   "outputs": [
    {
     "data": {
      "image/png": "[encoded data removed]",
      "text/plain": [
       "<Figure size 1500x600 with 3 Axes>"
      ]
     },
     "metadata": {},
     "output_type": "display_data"
    }
   ],
   "source": [
    "# Improved Visualization of Distributions\n",
    "plt.figure(figsize=(15, 6))\n",
    "\n",
    "plt.subplot(1, 3, 1)\n",
    "plt.hist(no_missing_merged_loc['amount'], bins=50, color='blue', alpha=0.7)\n",
    "plt.yscale('log')  # Log scale for better visualization of skewed data\n",
    "plt.title('Original Amount Distribution (Log Scale)')\n",
    "plt.xlabel('Amount')\n",
    "plt.ylabel('Frequency')\n",
    "\n",
    "plt.subplot(1, 3, 2)\n",
    "plt.hist(no_missing_merged_loc['amount_normalized'], bins=50, color='green', alpha=0.7)\n",
    "plt.title('Normalized Amount Distribution')\n",
    "plt.xlabel('Normalized Amount')\n",
    "plt.ylabel('Frequency')\n",
    "\n",
    "plt.subplot(1, 3, 3)\n",
    "plt.hist(no_missing_merged_loc['amount_scaled'], bins=50, color='orange', alpha=0.7)\n",
    "plt.title('Scaled Amount Distribution')\n",
    "plt.xlabel('Scaled Amount')\n",
    "plt.ylabel('Frequency')\n",
    "\n",
    "plt.tight_layout()\n",
    "plt.savefig('improved_tmpfig.png')\n",
    "plt.show()\n",
    "\n"
   ]
  },
  {
   "cell_type": "code",
   "execution_count": 128,
   "id": "47269104-2215-4a9b-a866-f56c74d6e124",
   "metadata": {},
   "outputs": [
    {
     "name": "stdout",
     "output_type": "stream",
     "text": [
      "100.89\n",
      "4248836158.5\n",
      "3275140.0899088485\n",
      "24918124.817943845\n"
     ]
    }
   ],
   "source": [
    "print(amount_min)\n",
    "print(amount_max)\n",
    "print(amount_mean)\n",
    "print(amount_std)"
   ]
  },
  {
   "cell_type": "code",
   "execution_count": 129,
   "id": "b8f5cade-9cf4-46ad-8c89-a583c2015792",
   "metadata": {},
   "outputs": [],
   "source": [
    "from sklearn.preprocessing import QuantileTransformer\n",
    "\n",
    "quantile_transformer = QuantileTransformer(output_distribution='normal')\n",
    "no_missing_merged_loc['amount_quantile_scaled'] = quantile_transformer.fit_transform(\n",
    "    no_missing_merged_loc[['amount']]\n",
    ")"
   ]
  },
  {
   "cell_type": "code",
   "execution_count": 130,
   "id": "a4d2497a-93f2-4a29-9159-1375a8bc816c",
   "metadata": {},
   "outputs": [
    {
     "data": {
      "image/png": "[encoded data removed]",
      "text/plain": [
       "<Figure size 1200x800 with 4 Axes>"
      ]
     },
     "metadata": {},
     "output_type": "display_data"
    }
   ],
   "source": [
    "import matplotlib.pyplot as plt\n",
    "import seaborn as sns\n",
    "\n",
    "# Create a figure with subplots\n",
    "plt.figure(figsize=(12, 8))\n",
    "\n",
    "# Original Amount Distribution\n",
    "plt.subplot(2, 2, 1)\n",
    "sns.histplot(no_missing_merged_loc['amount'], bins=50, kde=True, color='blue', alpha=0.6)\n",
    "plt.title('Original Amount Distribution')\n",
    "plt.xlabel('Amount')\n",
    "plt.ylabel('Frequency')\n",
    "plt.yscale('log')  # Log scale for better visibility of distribution\n",
    "\n",
    "# Min-Max Normalized Amount Distribution\n",
    "plt.subplot(2, 2, 2)\n",
    "sns.histplot(no_missing_merged_loc['amount_normalized'], bins=50, kde=True, color='green', alpha=0.6)\n",
    "plt.title('Min-Max Normalized Amount Distribution')\n",
    "plt.xlabel('Normalized Amount')\n",
    "plt.ylabel('Frequency')\n",
    "\n",
    "# Quantile Transformed (Normal Distribution) Amount\n",
    "plt.subplot(2, 2, 3)\n",
    "sns.histplot(no_missing_merged_loc['amount_quantile_scaled'], bins=50, kde=True, color='orange', alpha=0.6)\n",
    "plt.title('Quantile Transformed Amount Distribution')\n",
    "plt.xlabel('Quantile Transformed Amount')\n",
    "plt.ylabel('Frequency')\n",
    "\n",
    "# Combined KDE Plot for Comparison\n",
    "plt.subplot(2, 2, 4)\n",
    "sns.kdeplot(no_missing_merged_loc['amount'], color='blue', label='Original', bw_adjust=0.5)\n",
    "sns.kdeplot(no_missing_merged_loc['amount_normalized'], color='green', label='Min-Max Normalized', bw_adjust=0.5)\n",
    "sns.kdeplot(no_missing_merged_loc['amount_quantile_scaled'], color='orange', label='Quantile Transformed', bw_adjust=0.5)\n",
    "plt.title('Kernel Density Estimate Comparison')\n",
    "plt.xlabel('Value')\n",
    "plt.ylabel('Density')\n",
    "plt.legend()\n",
    "\n",
    "plt.tight_layout()\n",
    "plt.show()\n"
   ]
  },
  {
   "cell_type": "markdown",
   "id": "183e2c2d-1e6b-4b69-af91-d949eef2b295",
   "metadata": {},
   "source": [
    "### amount need to be normalized after splitting the data before training to avoid data leakage, so we will keep the original amount column for now"
   ]
  },
  {
   "cell_type": "code",
   "execution_count": 131,
   "id": "f3a9ebcd-a541-4629-a4a8-c58577d17452",
   "metadata": {},
   "outputs": [
    {
     "name": "stdout",
     "output_type": "stream",
     "text": [
      "<class 'pandas.core.frame.DataFrame'>\n",
      "Int64Index: 162806 entries, 0 to 162805\n",
      "Data columns (total 61 columns):\n",
      " #   Column                             Non-Null Count   Dtype   \n",
      "---  ------                             --------------   -----   \n",
      " 0   transaction_type_id                162806 non-null  category\n",
      " 1   property_usage_id                  162806 non-null  category\n",
      " 2   amount                             162806 non-null  float64 \n",
      " 3   total_buyer                        162806 non-null  int64   \n",
      " 4   total_seller                       162806 non-null  int64   \n",
      " 5   transaction_size_sqm               162806 non-null  float64 \n",
      " 6   property_size_sqm                  162806 non-null  float64 \n",
      " 7   is_offplan                         162806 non-null  object  \n",
      " 8   is_freehold                        162806 non-null  object  \n",
      " 9   property_type_en                   162806 non-null  object  \n",
      " 10  property_subtype_en                162806 non-null  object  \n",
      " 11  project_name_en                    162806 non-null  object  \n",
      " 12  area_en                            162806 non-null  object  \n",
      " 13  nearest_landmark_en                162806 non-null  object  \n",
      " 14  nearest_metro_en                   162806 non-null  object  \n",
      " 15  nearest_mall_en                    162806 non-null  object  \n",
      " 16  transaction_datetime_month         162806 non-null  int64   \n",
      " 17  transaction_datetime_day           162806 non-null  int64   \n",
      " 18  transaction_datetime_weekday       162806 non-null  int64   \n",
      " 19  transaction_datetime_dayofyear     162806 non-null  int64   \n",
      " 20  req_from_month                     162806 non-null  int64   \n",
      " 21  req_from_weekday                   162806 non-null  int64   \n",
      " 22  req_from_dayofyear                 162806 non-null  int64   \n",
      " 23  req_to_month                       162806 non-null  int64   \n",
      " 24  req_to_day                         162806 non-null  int64   \n",
      " 25  req_to_weekday                     162806 non-null  int64   \n",
      " 26  req_to_dayofyear                   162806 non-null  int64   \n",
      " 27  parking_count                      162806 non-null  int64   \n",
      " 28  is_freehold_encoded                162806 non-null  int64   \n",
      " 29  rooms_en_imputed                   162806 non-null  float64 \n",
      " 30  project_count                      162806 non-null  int64   \n",
      " 31  landmark_count                     162806 non-null  int64   \n",
      " 32  metro_count                        162806 non-null  int64   \n",
      " 33  mall_count                         162806 non-null  int64   \n",
      " 34  Al Makhtoum International Airport  162806 non-null  float64 \n",
      " 35  Burj Al Arab                       162806 non-null  float64 \n",
      " 36  Burj Khalifa                       162806 non-null  float64 \n",
      " 37  City Centre Mirdif                 162806 non-null  float64 \n",
      " 38  Downtown Dubai                     162806 non-null  float64 \n",
      " 39  Dubai International Airport        162806 non-null  float64 \n",
      " 40  Dubai Mall                         162806 non-null  float64 \n",
      " 41  Dubai Parks and Resorts            162806 non-null  float64 \n",
      " 42  Expo 2020 Site                     162806 non-null  float64 \n",
      " 43  Global Village                     162806 non-null  float64 \n",
      " 44  Hamdan Sports Complex              162806 non-null  float64 \n",
      " 45  IMG World Adventures               162806 non-null  float64 \n",
      " 46  Ibn-e-Battuta Mall                 162806 non-null  float64 \n",
      " 47  Jabel Ali                          162806 non-null  float64 \n",
      " 48  Mall of the Emirates               162806 non-null  float64 \n",
      " 49  Marina Mall                        162806 non-null  float64 \n",
      " 50  Motor City                         162806 non-null  float64 \n",
      " 51  center                             162806 non-null  float64 \n",
      " 52  east                               162806 non-null  float64 \n",
      " 53  north                              162806 non-null  float64 \n",
      " 54  south                              162806 non-null  float64 \n",
      " 55  west                               162806 non-null  float64 \n",
      " 56  registration_type_encoded          162806 non-null  int8    \n",
      " 57  amount_normalized                  162806 non-null  float64 \n",
      " 58  amount_standardized                162806 non-null  float64 \n",
      " 59  amount_scaled                      162806 non-null  float64 \n",
      " 60  amount_quantile_scaled             162806 non-null  float64 \n",
      "dtypes: category(2), float64(30), int64(19), int8(1), object(9)\n",
      "memory usage: 73.8+ MB\n"
     ]
    }
   ],
   "source": [
    "no_missing_merged_loc.info()"
   ]
  },
  {
   "cell_type": "code",
   "execution_count": 132,
   "id": "0217088e-896d-4294-8d8e-71c830bb73b7",
   "metadata": {},
   "outputs": [
    {
     "name": "stdout",
     "output_type": "stream",
     "text": [
      "<class 'pandas.core.frame.DataFrame'>\n",
      "Int64Index: 162806 entries, 0 to 162805\n",
      "Data columns (total 57 columns):\n",
      " #   Column                             Non-Null Count   Dtype   \n",
      "---  ------                             --------------   -----   \n",
      " 0   transaction_type_id                162806 non-null  category\n",
      " 1   property_usage_id                  162806 non-null  category\n",
      " 2   amount                             162806 non-null  float64 \n",
      " 3   total_buyer                        162806 non-null  int64   \n",
      " 4   total_seller                       162806 non-null  int64   \n",
      " 5   transaction_size_sqm               162806 non-null  float64 \n",
      " 6   property_size_sqm                  162806 non-null  float64 \n",
      " 7   is_offplan                         162806 non-null  object  \n",
      " 8   is_freehold                        162806 non-null  object  \n",
      " 9   property_type_en                   162806 non-null  object  \n",
      " 10  property_subtype_en                162806 non-null  object  \n",
      " 11  project_name_en                    162806 non-null  object  \n",
      " 12  area_en                            162806 non-null  object  \n",
      " 13  nearest_landmark_en                162806 non-null  object  \n",
      " 14  nearest_metro_en                   162806 non-null  object  \n",
      " 15  nearest_mall_en                    162806 non-null  object  \n",
      " 16  transaction_datetime_month         162806 non-null  int64   \n",
      " 17  transaction_datetime_day           162806 non-null  int64   \n",
      " 18  transaction_datetime_weekday       162806 non-null  int64   \n",
      " 19  transaction_datetime_dayofyear     162806 non-null  int64   \n",
      " 20  req_from_month                     162806 non-null  int64   \n",
      " 21  req_from_weekday                   162806 non-null  int64   \n",
      " 22  req_from_dayofyear                 162806 non-null  int64   \n",
      " 23  req_to_month                       162806 non-null  int64   \n",
      " 24  req_to_day                         162806 non-null  int64   \n",
      " 25  req_to_weekday                     162806 non-null  int64   \n",
      " 26  req_to_dayofyear                   162806 non-null  int64   \n",
      " 27  parking_count                      162806 non-null  int64   \n",
      " 28  is_freehold_encoded                162806 non-null  int64   \n",
      " 29  rooms_en_imputed                   162806 non-null  float64 \n",
      " 30  project_count                      162806 non-null  int64   \n",
      " 31  landmark_count                     162806 non-null  int64   \n",
      " 32  metro_count                        162806 non-null  int64   \n",
      " 33  mall_count                         162806 non-null  int64   \n",
      " 34  Al Makhtoum International Airport  162806 non-null  float64 \n",
      " 35  Burj Al Arab                       162806 non-null  float64 \n",
      " 36  Burj Khalifa                       162806 non-null  float64 \n",
      " 37  City Centre Mirdif                 162806 non-null  float64 \n",
      " 38  Downtown Dubai                     162806 non-null  float64 \n",
      " 39  Dubai International Airport        162806 non-null  float64 \n",
      " 40  Dubai Mall                         162806 non-null  float64 \n",
      " 41  Dubai Parks and Resorts            162806 non-null  float64 \n",
      " 42  Expo 2020 Site                     162806 non-null  float64 \n",
      " 43  Global Village                     162806 non-null  float64 \n",
      " 44  Hamdan Sports Complex              162806 non-null  float64 \n",
      " 45  IMG World Adventures               162806 non-null  float64 \n",
      " 46  Ibn-e-Battuta Mall                 162806 non-null  float64 \n",
      " 47  Jabel Ali                          162806 non-null  float64 \n",
      " 48  Mall of the Emirates               162806 non-null  float64 \n",
      " 49  Marina Mall                        162806 non-null  float64 \n",
      " 50  Motor City                         162806 non-null  float64 \n",
      " 51  center                             162806 non-null  float64 \n",
      " 52  east                               162806 non-null  float64 \n",
      " 53  north                              162806 non-null  float64 \n",
      " 54  south                              162806 non-null  float64 \n",
      " 55  west                               162806 non-null  float64 \n",
      " 56  registration_type_encoded          162806 non-null  int8    \n",
      "dtypes: category(2), float64(26), int64(19), int8(1), object(9)\n",
      "memory usage: 68.8+ MB\n",
      "None\n"
     ]
    }
   ],
   "source": [
    "# Drop the specified columns\n",
    "columns_to_drop = ['amount_scaled', 'amount_normalized', 'amount_standardized', 'amount_quantile_scaled']\n",
    "no_missing_merged_loc = no_missing_merged_loc.drop(columns=columns_to_drop)\n",
    "\n",
    "# Verify the columns are dropped\n",
    "print(no_missing_merged_loc.info())\n"
   ]
  },
  {
   "cell_type": "code",
   "execution_count": 133,
   "id": "49f0dfb6-89f8-43d5-b9f0-3ba22724e477",
   "metadata": {},
   "outputs": [
    {
     "data": {
      "text/plain": [
       "array([ 2,  1,  3,  0,  4,  5,  8,  6,  7, 21,  9, 10, 12])"
      ]
     },
     "execution_count": 133,
     "metadata": {},
     "output_type": "execute_result"
    }
   ],
   "source": [
    "no_missing_merged_loc['total_buyer'].unique()"
   ]
  },
  {
   "cell_type": "code",
   "execution_count": 134,
   "id": "4a729d8e-7e9d-4b1c-ae92-b28e15253ffe",
   "metadata": {},
   "outputs": [
    {
     "data": {
      "text/plain": [
       "array([ 1,  2,  0,  4, 11,  3,  6,  7,  5,  8,  9, 16, 23, 14, 12, 17, 10,\n",
       "       15, 18, 28, 13, 24, 19, 21, 30, 26, 48, 22, 20, 31])"
      ]
     },
     "execution_count": 134,
     "metadata": {},
     "output_type": "execute_result"
    }
   ],
   "source": [
    "no_missing_merged_loc['total_seller'].unique()"
   ]
  },
  {
   "cell_type": "code",
   "execution_count": 135,
   "id": "d42919c4-2e43-4176-809e-89165bf58068",
   "metadata": {},
   "outputs": [],
   "source": [
    "# Adding an interaction feature\n",
    "no_missing_merged_loc['buyer_to_seller_ratio'] = no_missing_merged_loc['total_buyer'] / (\n",
    "    no_missing_merged_loc['total_seller'] + 1\n",
    ")\n"
   ]
  },
  {
   "cell_type": "code",
   "execution_count": 136,
   "id": "645136f5-7fb9-4686-8864-16e62e94dcb1",
   "metadata": {},
   "outputs": [
    {
     "data": {
      "text/plain": [
       "0         1.0\n",
       "1         0.5\n",
       "2         1.0\n",
       "3         0.5\n",
       "4         0.5\n",
       "         ... \n",
       "162801    0.0\n",
       "162802    0.0\n",
       "162803    0.0\n",
       "162804    0.5\n",
       "162805    0.0\n",
       "Name: buyer_to_seller_ratio, Length: 162806, dtype: float64"
      ]
     },
     "execution_count": 136,
     "metadata": {},
     "output_type": "execute_result"
    }
   ],
   "source": [
    "no_missing_merged_loc['buyer_to_seller_ratio']"
   ]
  },
  {
   "cell_type": "code",
   "execution_count": 137,
   "id": "118c5fb7-824e-4f79-82c4-6e1242584db0",
   "metadata": {},
   "outputs": [
    {
     "data": {
      "image/png": "[encoded data removed]",
      "text/plain": [
       "<Figure size 1200x600 with 2 Axes>"
      ]
     },
     "metadata": {},
     "output_type": "display_data"
    }
   ],
   "source": [
    "import matplotlib.pyplot as plt\n",
    "\n",
    "# Plot distributions\n",
    "plt.figure(figsize=(12, 6))\n",
    "plt.subplot(1, 2, 1)\n",
    "plt.hist(no_missing_merged_loc['transaction_size_sqm'], bins=50, color='blue', alpha=0.7)\n",
    "plt.title(\"Transaction Size Distribution\")\n",
    "plt.xlabel(\"Transaction Size (sqm)\")\n",
    "plt.ylabel(\"Frequency\")\n",
    "\n",
    "plt.subplot(1, 2, 2)\n",
    "plt.hist(no_missing_merged_loc['property_size_sqm'], bins=50, color='green', alpha=0.7)\n",
    "plt.title(\"Property Size Distribution\")\n",
    "plt.xlabel(\"Property Size (sqm)\")\n",
    "plt.ylabel(\"Frequency\")\n",
    "\n",
    "plt.tight_layout()\n",
    "plt.show()\n"
   ]
  },
  {
   "cell_type": "markdown",
   "id": "f6277ac9-847f-42e3-bb2e-cfc0e07447a6",
   "metadata": {},
   "source": [
    "### This suggests that the data is skewed and have outliers. QuantileTransformer is needed during the training part to avoid the data leakage"
   ]
  },
  {
   "cell_type": "code",
   "execution_count": 138,
   "id": "b1fb14d3-68f8-4b9e-8ea5-2fe44feaf4fa",
   "metadata": {},
   "outputs": [
    {
     "data": {
      "text/plain": [
       "0         t\n",
       "1         t\n",
       "2         t\n",
       "3         t\n",
       "4         t\n",
       "         ..\n",
       "162801    f\n",
       "162802    f\n",
       "162803    f\n",
       "162804    f\n",
       "162805    f\n",
       "Name: is_offplan, Length: 162806, dtype: object"
      ]
     },
     "execution_count": 138,
     "metadata": {},
     "output_type": "execute_result"
    }
   ],
   "source": [
    "no_missing_merged_loc['is_offplan']"
   ]
  },
  {
   "cell_type": "code",
   "execution_count": 139,
   "id": "5e99cbf2-fb96-42fe-817e-415e94abf706",
   "metadata": {},
   "outputs": [
    {
     "data": {
      "text/plain": [
       "0         t\n",
       "1         t\n",
       "2         f\n",
       "3         t\n",
       "4         t\n",
       "         ..\n",
       "162801    t\n",
       "162802    f\n",
       "162803    t\n",
       "162804    f\n",
       "162805    f\n",
       "Name: is_freehold, Length: 162806, dtype: object"
      ]
     },
     "execution_count": 139,
     "metadata": {},
     "output_type": "execute_result"
    }
   ],
   "source": [
    "no_missing_merged_loc['is_freehold']"
   ]
  },
  {
   "cell_type": "code",
   "execution_count": 140,
   "id": "97364e68-81b9-4a8e-8831-86239f96a648",
   "metadata": {},
   "outputs": [
    {
     "data": {
      "text/plain": [
       "0         1\n",
       "1         1\n",
       "2         0\n",
       "3         1\n",
       "4         1\n",
       "         ..\n",
       "162801    1\n",
       "162802    0\n",
       "162803    1\n",
       "162804    0\n",
       "162805    0\n",
       "Name: is_freehold_encoded, Length: 162806, dtype: int64"
      ]
     },
     "execution_count": 140,
     "metadata": {},
     "output_type": "execute_result"
    }
   ],
   "source": [
    "no_missing_merged_loc['is_freehold_encoded']"
   ]
  },
  {
   "cell_type": "code",
   "execution_count": 141,
   "id": "98d0d150-ed49-4666-9561-a476a4204f72",
   "metadata": {},
   "outputs": [
    {
     "data": {
      "text/plain": [
       "array(['Unit', 'Building', 'Land'], dtype=object)"
      ]
     },
     "execution_count": 141,
     "metadata": {},
     "output_type": "execute_result"
    }
   ],
   "source": [
    "no_missing_merged_loc['property_type_en'].unique()"
   ]
  },
  {
   "cell_type": "code",
   "execution_count": 142,
   "id": "eb0808df-d831-48da-84b5-e6603933e07e",
   "metadata": {},
   "outputs": [],
   "source": [
    "categorical_columns = [\n",
    "    'is_offplan', 'is_freehold', 'property_type_en',\n",
    "    'property_subtype_en', 'project_name_en', \n",
    "]"
   ]
  },
  {
   "cell_type": "code",
   "execution_count": 143,
   "id": "e459cb1b-f51c-48ff-ab52-c7f59f134fe2",
   "metadata": {},
   "outputs": [
    {
     "name": "stdout",
     "output_type": "stream",
     "text": [
      "['t' 'f']\n",
      "['t' 'f']\n",
      "['Unit' 'Building' 'Land']\n",
      "['Flat' 'Villa' 'Hotel Apartment' 'Hotel Rooms' 'Government Housing'\n",
      " 'Residential' 'Shop' 'Office' 'Commercial' 'Industrial' 'Land'\n",
      " 'Residential Flats' 'Hotel' 'Airport' 'Stacked Townhouses' 'Unit'\n",
      " 'Sports Club' 'School' 'Agricultural' 'General Use' 'Labor Camp' 'Clinic'\n",
      " 'Building' 'Petrol Station' 'Commercial / Offices / Residential'\n",
      " 'Show Rooms' 'Workshop' 'Electricity Station' 'Warehouse' 'Hospital'\n",
      " 'Gymnasium' 'Sized Partition' 'Residential / Attached Villas'\n",
      " 'Health Club' 'Residential / Villas' 'Exhbition Center' 'Consulate']\n",
      "['THE VYBE' 'Elitz 3 By Danube ' 'TRIA BY DEYAAR' ...\n",
      " 'The Oasis - Palmiera 3' 'azizi veince 12' 'LA VISTA 05']\n"
     ]
    }
   ],
   "source": [
    "for col in categorical_columns:\n",
    "    print(no_missing_merged_loc[col].unique())"
   ]
  },
  {
   "cell_type": "code",
   "execution_count": 144,
   "id": "0dd9d9b5-4d12-43bf-b917-1adc8f3e31c7",
   "metadata": {},
   "outputs": [
    {
     "data": {
      "text/plain": [
       "array(['Flat', 'Villa', 'Hotel Apartment', 'Hotel Rooms',\n",
       "       'Government Housing', 'Residential', 'Shop', 'Office',\n",
       "       'Commercial', 'Industrial', 'Land', 'Residential Flats', 'Hotel',\n",
       "       'Airport', 'Stacked Townhouses', 'Unit', 'Sports Club', 'School',\n",
       "       'Agricultural', 'General Use', 'Labor Camp', 'Clinic', 'Building',\n",
       "       'Petrol Station', 'Commercial / Offices / Residential',\n",
       "       'Show Rooms', 'Workshop', 'Electricity Station', 'Warehouse',\n",
       "       'Hospital', 'Gymnasium', 'Sized Partition',\n",
       "       'Residential / Attached Villas', 'Health Club',\n",
       "       'Residential / Villas', 'Exhbition Center', 'Consulate'],\n",
       "      dtype=object)"
      ]
     },
     "execution_count": 144,
     "metadata": {},
     "output_type": "execute_result"
    }
   ],
   "source": [
    "no_missing_merged_loc['property_subtype_en'].unique()"
   ]
  },
  {
   "cell_type": "code",
   "execution_count": 145,
   "id": "a1012517-112c-447f-91b8-4fd3ce667124",
   "metadata": {},
   "outputs": [],
   "source": [
    "# Define grouping for all unique subtypes\n",
    "grouped_subtypes = {\n",
    "    'Residential': [\n",
    "        'Flat', 'Villa', 'Residential', 'Residential Flats', \n",
    "        'Residential / Villas', 'Residential / Attached Villas', 'Stacked Townhouses'\n",
    "    ],\n",
    "    'Commercial': [\n",
    "        'Shop', 'Office', 'Commercial', 'Commercial / Offices / Residential', \n",
    "        'Show Rooms', 'Building', 'Unit', 'General Use'\n",
    "    ],\n",
    "    'Institutional': [\n",
    "        'School', 'Hospital', 'Clinic', 'Health Club', 'Gymnasium', 'Exhbition Center', 'Consulate'\n",
    "    ],\n",
    "    'Industrial': [\n",
    "        'Industrial', 'Warehouse', 'Workshop', 'Sized Partition', 'Electricity Station', 'Labor Camp'\n",
    "    ],\n",
    "    'Hospitality': [\n",
    "        'Hotel', 'Hotel Apartment', 'Hotel Rooms', 'Sports Club'\n",
    "    ],\n",
    "    'Infrastructure': [\n",
    "        'Airport', 'Petrol Station'\n",
    "    ],\n",
    "    'Land': [\n",
    "        'Land', 'Agricultural'\n",
    "    ],\n",
    "    'Other': [\n",
    "        'Government Housing'\n",
    "    ]\n",
    "}\n",
    "\n",
    "# Ensure all unique values are covered\n",
    "all_defined_values = [item for sublist in grouped_subtypes.values() for item in sublist]\n",
    "undefined_values = set(no_missing_merged_loc['property_subtype_en'].unique()) - set(all_defined_values)\n",
    "\n",
    "# If there are undefined values, add them to the \"Other\" category\n",
    "if undefined_values:\n",
    "    print(f\"Undefined values: {undefined_values}\")\n",
    "    grouped_subtypes['Other'].extend(undefined_values)\n",
    "\n",
    "# Map subtypes to broader categories\n",
    "no_missing_merged_loc['property_subtype_grouped'] = no_missing_merged_loc['property_subtype_en'].map(\n",
    "    lambda x: next((k for k, v in grouped_subtypes.items() if x in v), 'Other')\n",
    ")\n",
    "\n",
    "\n"
   ]
  },
  {
   "cell_type": "code",
   "execution_count": 146,
   "id": "a4cfb35f-6d7b-4123-a0d3-4c34dd5cda52",
   "metadata": {},
   "outputs": [
    {
     "data": {
      "text/plain": [
       "array(['Residential', 'Hospitality', 'Other', 'Commercial', 'Industrial',\n",
       "       'Land', 'Infrastructure', 'Institutional'], dtype=object)"
      ]
     },
     "execution_count": 146,
     "metadata": {},
     "output_type": "execute_result"
    }
   ],
   "source": [
    "no_missing_merged_loc['property_subtype_grouped'].unique()"
   ]
  },
  {
   "cell_type": "code",
   "execution_count": 147,
   "id": "00f6524f-45ac-4a0b-bf3f-5fa6e11481c0",
   "metadata": {},
   "outputs": [
    {
     "name": "stdout",
     "output_type": "stream",
     "text": [
      "Grouped Subtypes Mapping:\n",
      "{'Commercial': 0, 'Hospitality': 1, 'Industrial': 2, 'Infrastructure': 3, 'Institutional': 4, 'Land': 5, 'Other': 6, 'Residential': 7}\n"
     ]
    }
   ],
   "source": [
    "# Encode the grouped subtypes\n",
    "from sklearn.preprocessing import LabelEncoder\n",
    "grouped_le = LabelEncoder()\n",
    "no_missing_merged_loc['property_subtype_encoded'] = grouped_le.fit_transform(no_missing_merged_loc['property_subtype_grouped'])\n",
    "\n",
    "# Drop the original column\n",
    "no_missing_merged_loc.drop(columns=['property_subtype_en', 'property_subtype_grouped'], inplace=True)\n",
    "\n",
    "# Display the mapping for grouped subtypes\n",
    "grouped_mapping = dict(zip(grouped_le.classes_, grouped_le.transform(grouped_le.classes_)))\n",
    "print(\"Grouped Subtypes Mapping:\")\n",
    "print(grouped_mapping)"
   ]
  },
  {
   "cell_type": "code",
   "execution_count": 148,
   "id": "50fad983-ddfe-4ed6-a4da-2902e799382b",
   "metadata": {},
   "outputs": [
    {
     "name": "stdout",
     "output_type": "stream",
     "text": [
      "<class 'pandas.core.frame.DataFrame'>\n",
      "Int64Index: 162806 entries, 0 to 162805\n",
      "Data columns (total 58 columns):\n",
      " #   Column                             Non-Null Count   Dtype   \n",
      "---  ------                             --------------   -----   \n",
      " 0   transaction_type_id                162806 non-null  category\n",
      " 1   property_usage_id                  162806 non-null  category\n",
      " 2   amount                             162806 non-null  float64 \n",
      " 3   total_buyer                        162806 non-null  int64   \n",
      " 4   total_seller                       162806 non-null  int64   \n",
      " 5   transaction_size_sqm               162806 non-null  float64 \n",
      " 6   property_size_sqm                  162806 non-null  float64 \n",
      " 7   is_offplan                         162806 non-null  object  \n",
      " 8   is_freehold                        162806 non-null  object  \n",
      " 9   property_type_en                   162806 non-null  object  \n",
      " 10  project_name_en                    162806 non-null  object  \n",
      " 11  area_en                            162806 non-null  object  \n",
      " 12  nearest_landmark_en                162806 non-null  object  \n",
      " 13  nearest_metro_en                   162806 non-null  object  \n",
      " 14  nearest_mall_en                    162806 non-null  object  \n",
      " 15  transaction_datetime_month         162806 non-null  int64   \n",
      " 16  transaction_datetime_day           162806 non-null  int64   \n",
      " 17  transaction_datetime_weekday       162806 non-null  int64   \n",
      " 18  transaction_datetime_dayofyear     162806 non-null  int64   \n",
      " 19  req_from_month                     162806 non-null  int64   \n",
      " 20  req_from_weekday                   162806 non-null  int64   \n",
      " 21  req_from_dayofyear                 162806 non-null  int64   \n",
      " 22  req_to_month                       162806 non-null  int64   \n",
      " 23  req_to_day                         162806 non-null  int64   \n",
      " 24  req_to_weekday                     162806 non-null  int64   \n",
      " 25  req_to_dayofyear                   162806 non-null  int64   \n",
      " 26  parking_count                      162806 non-null  int64   \n",
      " 27  is_freehold_encoded                162806 non-null  int64   \n",
      " 28  rooms_en_imputed                   162806 non-null  float64 \n",
      " 29  project_count                      162806 non-null  int64   \n",
      " 30  landmark_count                     162806 non-null  int64   \n",
      " 31  metro_count                        162806 non-null  int64   \n",
      " 32  mall_count                         162806 non-null  int64   \n",
      " 33  Al Makhtoum International Airport  162806 non-null  float64 \n",
      " 34  Burj Al Arab                       162806 non-null  float64 \n",
      " 35  Burj Khalifa                       162806 non-null  float64 \n",
      " 36  City Centre Mirdif                 162806 non-null  float64 \n",
      " 37  Downtown Dubai                     162806 non-null  float64 \n",
      " 38  Dubai International Airport        162806 non-null  float64 \n",
      " 39  Dubai Mall                         162806 non-null  float64 \n",
      " 40  Dubai Parks and Resorts            162806 non-null  float64 \n",
      " 41  Expo 2020 Site                     162806 non-null  float64 \n",
      " 42  Global Village                     162806 non-null  float64 \n",
      " 43  Hamdan Sports Complex              162806 non-null  float64 \n",
      " 44  IMG World Adventures               162806 non-null  float64 \n",
      " 45  Ibn-e-Battuta Mall                 162806 non-null  float64 \n",
      " 46  Jabel Ali                          162806 non-null  float64 \n",
      " 47  Mall of the Emirates               162806 non-null  float64 \n",
      " 48  Marina Mall                        162806 non-null  float64 \n",
      " 49  Motor City                         162806 non-null  float64 \n",
      " 50  center                             162806 non-null  float64 \n",
      " 51  east                               162806 non-null  float64 \n",
      " 52  north                              162806 non-null  float64 \n",
      " 53  south                              162806 non-null  float64 \n",
      " 54  west                               162806 non-null  float64 \n",
      " 55  registration_type_encoded          162806 non-null  int8    \n",
      " 56  buyer_to_seller_ratio              162806 non-null  float64 \n",
      " 57  property_subtype_encoded           162806 non-null  int64   \n",
      "dtypes: category(2), float64(27), int64(20), int8(1), object(8)\n",
      "memory usage: 70.0+ MB\n"
     ]
    }
   ],
   "source": [
    "no_missing_merged_loc.info()"
   ]
  },
  {
   "cell_type": "markdown",
   "id": "1044bf1b-96e1-48cd-ba09-e6288611bf92",
   "metadata": {},
   "source": [
    " 7   is_offplan                         162806 non-null  object  \n",
    " 8   is_freehold                        162806 non-null  object  \n",
    " 9   property_type_en                   162806 non-null  object  \n",
    " 10  project_name_en                    162806 non-null  object  \n",
    " 11  area_en                            162806 non-null  object  \n",
    " 12  nearest_landmark_en                162806 non-null  object  \n",
    " 13  nearest_metro_en                   162806 non-null  object  \n",
    " 14  nearest_mall_en                    162806 non-null  object  "
   ]
  },
  {
   "cell_type": "code",
   "execution_count": 149,
   "id": "b8f9c222-2d62-4677-8193-f0dc4e030fa3",
   "metadata": {},
   "outputs": [
    {
     "name": "stdout",
     "output_type": "stream",
     "text": [
      "<class 'pandas.core.frame.DataFrame'>\n",
      "Int64Index: 162806 entries, 0 to 162805\n",
      "Data columns (total 57 columns):\n",
      " #   Column                             Non-Null Count   Dtype   \n",
      "---  ------                             --------------   -----   \n",
      " 0   transaction_type_id                162806 non-null  category\n",
      " 1   property_usage_id                  162806 non-null  category\n",
      " 2   amount                             162806 non-null  float64 \n",
      " 3   total_buyer                        162806 non-null  int64   \n",
      " 4   total_seller                       162806 non-null  int64   \n",
      " 5   transaction_size_sqm               162806 non-null  float64 \n",
      " 6   property_size_sqm                  162806 non-null  float64 \n",
      " 7   is_offplan                         162806 non-null  object  \n",
      " 8   property_type_en                   162806 non-null  object  \n",
      " 9   project_name_en                    162806 non-null  object  \n",
      " 10  area_en                            162806 non-null  object  \n",
      " 11  nearest_landmark_en                162806 non-null  object  \n",
      " 12  nearest_metro_en                   162806 non-null  object  \n",
      " 13  nearest_mall_en                    162806 non-null  object  \n",
      " 14  transaction_datetime_month         162806 non-null  int64   \n",
      " 15  transaction_datetime_day           162806 non-null  int64   \n",
      " 16  transaction_datetime_weekday       162806 non-null  int64   \n",
      " 17  transaction_datetime_dayofyear     162806 non-null  int64   \n",
      " 18  req_from_month                     162806 non-null  int64   \n",
      " 19  req_from_weekday                   162806 non-null  int64   \n",
      " 20  req_from_dayofyear                 162806 non-null  int64   \n",
      " 21  req_to_month                       162806 non-null  int64   \n",
      " 22  req_to_day                         162806 non-null  int64   \n",
      " 23  req_to_weekday                     162806 non-null  int64   \n",
      " 24  req_to_dayofyear                   162806 non-null  int64   \n",
      " 25  parking_count                      162806 non-null  int64   \n",
      " 26  is_freehold_encoded                162806 non-null  int64   \n",
      " 27  rooms_en_imputed                   162806 non-null  float64 \n",
      " 28  project_count                      162806 non-null  int64   \n",
      " 29  landmark_count                     162806 non-null  int64   \n",
      " 30  metro_count                        162806 non-null  int64   \n",
      " 31  mall_count                         162806 non-null  int64   \n",
      " 32  Al Makhtoum International Airport  162806 non-null  float64 \n",
      " 33  Burj Al Arab                       162806 non-null  float64 \n",
      " 34  Burj Khalifa                       162806 non-null  float64 \n",
      " 35  City Centre Mirdif                 162806 non-null  float64 \n",
      " 36  Downtown Dubai                     162806 non-null  float64 \n",
      " 37  Dubai International Airport        162806 non-null  float64 \n",
      " 38  Dubai Mall                         162806 non-null  float64 \n",
      " 39  Dubai Parks and Resorts            162806 non-null  float64 \n",
      " 40  Expo 2020 Site                     162806 non-null  float64 \n",
      " 41  Global Village                     162806 non-null  float64 \n",
      " 42  Hamdan Sports Complex              162806 non-null  float64 \n",
      " 43  IMG World Adventures               162806 non-null  float64 \n",
      " 44  Ibn-e-Battuta Mall                 162806 non-null  float64 \n",
      " 45  Jabel Ali                          162806 non-null  float64 \n",
      " 46  Mall of the Emirates               162806 non-null  float64 \n",
      " 47  Marina Mall                        162806 non-null  float64 \n",
      " 48  Motor City                         162806 non-null  float64 \n",
      " 49  center                             162806 non-null  float64 \n",
      " 50  east                               162806 non-null  float64 \n",
      " 51  north                              162806 non-null  float64 \n",
      " 52  south                              162806 non-null  float64 \n",
      " 53  west                               162806 non-null  float64 \n",
      " 54  registration_type_encoded          162806 non-null  int8    \n",
      " 55  buyer_to_seller_ratio              162806 non-null  float64 \n",
      " 56  property_subtype_encoded           162806 non-null  int64   \n",
      "dtypes: category(2), float64(27), int64(20), int8(1), object(7)\n",
      "memory usage: 68.8+ MB\n"
     ]
    }
   ],
   "source": [
    "no_missing_merged_loc = no_missing_merged_loc.drop(columns=['is_freehold'])\n",
    "no_missing_merged_loc.info()"
   ]
  },
  {
   "cell_type": "code",
   "execution_count": 151,
   "id": "a31c14d7-bb93-4deb-80c0-10d729fe7e1a",
   "metadata": {},
   "outputs": [
    {
     "name": "stdout",
     "output_type": "stream",
     "text": [
      "<class 'pandas.core.frame.DataFrame'>\n",
      "Int64Index: 162806 entries, 0 to 162805\n",
      "Data columns (total 52 columns):\n",
      " #   Column                             Non-Null Count   Dtype   \n",
      "---  ------                             --------------   -----   \n",
      " 0   transaction_type_id                162806 non-null  category\n",
      " 1   property_usage_id                  162806 non-null  category\n",
      " 2   amount                             162806 non-null  float64 \n",
      " 3   total_buyer                        162806 non-null  int64   \n",
      " 4   total_seller                       162806 non-null  int64   \n",
      " 5   transaction_size_sqm               162806 non-null  float64 \n",
      " 6   property_size_sqm                  162806 non-null  float64 \n",
      " 7   is_offplan                         162806 non-null  object  \n",
      " 8   property_type_en                   162806 non-null  object  \n",
      " 9   transaction_datetime_month         162806 non-null  int64   \n",
      " 10  transaction_datetime_day           162806 non-null  int64   \n",
      " 11  transaction_datetime_weekday       162806 non-null  int64   \n",
      " 12  transaction_datetime_dayofyear     162806 non-null  int64   \n",
      " 13  req_from_month                     162806 non-null  int64   \n",
      " 14  req_from_weekday                   162806 non-null  int64   \n",
      " 15  req_from_dayofyear                 162806 non-null  int64   \n",
      " 16  req_to_month                       162806 non-null  int64   \n",
      " 17  req_to_day                         162806 non-null  int64   \n",
      " 18  req_to_weekday                     162806 non-null  int64   \n",
      " 19  req_to_dayofyear                   162806 non-null  int64   \n",
      " 20  parking_count                      162806 non-null  int64   \n",
      " 21  is_freehold_encoded                162806 non-null  int64   \n",
      " 22  rooms_en_imputed                   162806 non-null  float64 \n",
      " 23  project_count                      162806 non-null  int64   \n",
      " 24  landmark_count                     162806 non-null  int64   \n",
      " 25  metro_count                        162806 non-null  int64   \n",
      " 26  mall_count                         162806 non-null  int64   \n",
      " 27  Al Makhtoum International Airport  162806 non-null  float64 \n",
      " 28  Burj Al Arab                       162806 non-null  float64 \n",
      " 29  Burj Khalifa                       162806 non-null  float64 \n",
      " 30  City Centre Mirdif                 162806 non-null  float64 \n",
      " 31  Downtown Dubai                     162806 non-null  float64 \n",
      " 32  Dubai International Airport        162806 non-null  float64 \n",
      " 33  Dubai Mall                         162806 non-null  float64 \n",
      " 34  Dubai Parks and Resorts            162806 non-null  float64 \n",
      " 35  Expo 2020 Site                     162806 non-null  float64 \n",
      " 36  Global Village                     162806 non-null  float64 \n",
      " 37  Hamdan Sports Complex              162806 non-null  float64 \n",
      " 38  IMG World Adventures               162806 non-null  float64 \n",
      " 39  Ibn-e-Battuta Mall                 162806 non-null  float64 \n",
      " 40  Jabel Ali                          162806 non-null  float64 \n",
      " 41  Mall of the Emirates               162806 non-null  float64 \n",
      " 42  Marina Mall                        162806 non-null  float64 \n",
      " 43  Motor City                         162806 non-null  float64 \n",
      " 44  center                             162806 non-null  float64 \n",
      " 45  east                               162806 non-null  float64 \n",
      " 46  north                              162806 non-null  float64 \n",
      " 47  south                              162806 non-null  float64 \n",
      " 48  west                               162806 non-null  float64 \n",
      " 49  registration_type_encoded          162806 non-null  int8    \n",
      " 50  buyer_to_seller_ratio              162806 non-null  float64 \n",
      " 51  property_subtype_encoded           162806 non-null  int64   \n",
      "dtypes: category(2), float64(27), int64(20), int8(1), object(2)\n",
      "memory usage: 62.6+ MB\n",
      "None\n"
     ]
    }
   ],
   "source": [
    "# Drop the specified columns\n",
    "columns_to_drop = [\n",
    "    'project_name_en', \n",
    "    'area_en', \n",
    "    'nearest_landmark_en', \n",
    "    'nearest_metro_en', \n",
    "    'nearest_mall_en'\n",
    "]\n",
    "\n",
    "no_missing_merged_loc.drop(columns=columns_to_drop, inplace=True)\n",
    "\n",
    "# Verify the changes\n",
    "print(no_missing_merged_loc.info())\n"
   ]
  },
  {
   "cell_type": "code",
   "execution_count": 152,
   "id": "e9d643f9-7e04-4c45-aa1c-ae2a7198b268",
   "metadata": {},
   "outputs": [
    {
     "data": {
      "text/plain": [
       "array(['Unit', 'Building', 'Land'], dtype=object)"
      ]
     },
     "execution_count": 152,
     "metadata": {},
     "output_type": "execute_result"
    }
   ],
   "source": [
    "no_missing_merged_loc['property_type_en'].unique()"
   ]
  },
  {
   "cell_type": "code",
   "execution_count": 153,
   "id": "b7843035-552b-4cc6-9825-f05e780e2d86",
   "metadata": {},
   "outputs": [
    {
     "name": "stdout",
     "output_type": "stream",
     "text": [
      "is_offplan mapping: {'f': 0, 't': 1}\n",
      "property_type_en mapping: {'Building': 0, 'Land': 1, 'Unit': 2}\n",
      "<class 'pandas.core.frame.DataFrame'>\n",
      "Int64Index: 162806 entries, 0 to 162805\n",
      "Data columns (total 52 columns):\n",
      " #   Column                             Non-Null Count   Dtype   \n",
      "---  ------                             --------------   -----   \n",
      " 0   transaction_type_id                162806 non-null  category\n",
      " 1   property_usage_id                  162806 non-null  category\n",
      " 2   amount                             162806 non-null  float64 \n",
      " 3   total_buyer                        162806 non-null  int64   \n",
      " 4   total_seller                       162806 non-null  int64   \n",
      " 5   transaction_size_sqm               162806 non-null  float64 \n",
      " 6   property_size_sqm                  162806 non-null  float64 \n",
      " 7   transaction_datetime_month         162806 non-null  int64   \n",
      " 8   transaction_datetime_day           162806 non-null  int64   \n",
      " 9   transaction_datetime_weekday       162806 non-null  int64   \n",
      " 10  transaction_datetime_dayofyear     162806 non-null  int64   \n",
      " 11  req_from_month                     162806 non-null  int64   \n",
      " 12  req_from_weekday                   162806 non-null  int64   \n",
      " 13  req_from_dayofyear                 162806 non-null  int64   \n",
      " 14  req_to_month                       162806 non-null  int64   \n",
      " 15  req_to_day                         162806 non-null  int64   \n",
      " 16  req_to_weekday                     162806 non-null  int64   \n",
      " 17  req_to_dayofyear                   162806 non-null  int64   \n",
      " 18  parking_count                      162806 non-null  int64   \n",
      " 19  is_freehold_encoded                162806 non-null  int64   \n",
      " 20  rooms_en_imputed                   162806 non-null  float64 \n",
      " 21  project_count                      162806 non-null  int64   \n",
      " 22  landmark_count                     162806 non-null  int64   \n",
      " 23  metro_count                        162806 non-null  int64   \n",
      " 24  mall_count                         162806 non-null  int64   \n",
      " 25  Al Makhtoum International Airport  162806 non-null  float64 \n",
      " 26  Burj Al Arab                       162806 non-null  float64 \n",
      " 27  Burj Khalifa                       162806 non-null  float64 \n",
      " 28  City Centre Mirdif                 162806 non-null  float64 \n",
      " 29  Downtown Dubai                     162806 non-null  float64 \n",
      " 30  Dubai International Airport        162806 non-null  float64 \n",
      " 31  Dubai Mall                         162806 non-null  float64 \n",
      " 32  Dubai Parks and Resorts            162806 non-null  float64 \n",
      " 33  Expo 2020 Site                     162806 non-null  float64 \n",
      " 34  Global Village                     162806 non-null  float64 \n",
      " 35  Hamdan Sports Complex              162806 non-null  float64 \n",
      " 36  IMG World Adventures               162806 non-null  float64 \n",
      " 37  Ibn-e-Battuta Mall                 162806 non-null  float64 \n",
      " 38  Jabel Ali                          162806 non-null  float64 \n",
      " 39  Mall of the Emirates               162806 non-null  float64 \n",
      " 40  Marina Mall                        162806 non-null  float64 \n",
      " 41  Motor City                         162806 non-null  float64 \n",
      " 42  center                             162806 non-null  float64 \n",
      " 43  east                               162806 non-null  float64 \n",
      " 44  north                              162806 non-null  float64 \n",
      " 45  south                              162806 non-null  float64 \n",
      " 46  west                               162806 non-null  float64 \n",
      " 47  registration_type_encoded          162806 non-null  int8    \n",
      " 48  buyer_to_seller_ratio              162806 non-null  float64 \n",
      " 49  property_subtype_encoded           162806 non-null  int64   \n",
      " 50  is_offplan_encoded                 162806 non-null  int64   \n",
      " 51  property_type_encoded              162806 non-null  int64   \n",
      "dtypes: category(2), float64(27), int64(22), int8(1)\n",
      "memory usage: 62.6 MB\n",
      "None\n"
     ]
    }
   ],
   "source": [
    "from sklearn.preprocessing import LabelEncoder\n",
    "\n",
    "# Convert 'is_offplan' to categorical and encode\n",
    "is_offplan_encoder = LabelEncoder()\n",
    "no_missing_merged_loc['is_offplan_encoded'] = is_offplan_encoder.fit_transform(\n",
    "    no_missing_merged_loc['is_offplan']\n",
    ")\n",
    "print(\"is_offplan mapping:\", dict(zip(is_offplan_encoder.classes_, is_offplan_encoder.transform(is_offplan_encoder.classes_))))\n",
    "\n",
    "# Convert 'property_type_en' to categorical and encode\n",
    "property_type_encoder = LabelEncoder()\n",
    "no_missing_merged_loc['property_type_encoded'] = property_type_encoder.fit_transform(\n",
    "    no_missing_merged_loc['property_type_en']\n",
    ")\n",
    "print(\"property_type_en mapping:\", dict(zip(property_type_encoder.classes_, property_type_encoder.transform(property_type_encoder.classes_))))\n",
    "\n",
    "# Drop the original columns\n",
    "no_missing_merged_loc.drop(columns=['is_offplan', 'property_type_en'], inplace=True)\n",
    "\n",
    "# Verify the changes\n",
    "print(no_missing_merged_loc.info())\n"
   ]
  },
  {
   "cell_type": "code",
   "execution_count": 154,
   "id": "3f63034f-ada2-4d08-a1fe-d73a1a4de7a7",
   "metadata": {},
   "outputs": [],
   "source": [
    "no_missing_merged_loc.to_csv('clean_for_training.csv')"
   ]
  },
  {
   "cell_type": "code",
   "execution_count": null,
   "id": "47e4b5c2-b34c-4b92-82dc-5a4af7b6207f",
   "metadata": {},
   "outputs": [],
   "source": []
  }
 ],
 "metadata": {
  "kernelspec": {
   "display_name": "Python 3 (ipykernel)",
   "language": "python",
   "name": "python3"
  },
  "language_info": {
   "codemirror_mode": {
    "name": "ipython",
    "version": 3
   },
   "file_extension": ".py",
   "mimetype": "text/x-python",
   "name": "python",
   "nbconvert_exporter": "python",
   "pygments_lexer": "ipython3",
   "version": "3.9.19"
  }
 },
 "nbformat": 4,
 "nbformat_minor": 5
}
