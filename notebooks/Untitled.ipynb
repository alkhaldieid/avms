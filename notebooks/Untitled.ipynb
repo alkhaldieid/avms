{
 "cells": [
  {
   "cell_type": "code",
   "execution_count": 1,
   "id": "12789c5c-7823-499f-ac67-577bad92fad4",
   "metadata": {},
   "outputs": [],
   "source": [
    "per  = 3.84\n",
    "cap = 70000\n",
    "years = 5\n",
    "total_interest_7 = 70700*.038*5"
   ]
  },
  {
   "cell_type": "code",
   "execution_count": 2,
   "id": "7dc51968-58ad-4f51-b81c-09ff36d1233b",
   "metadata": {},
   "outputs": [
    {
     "data": {
      "text/plain": [
       "13300.0"
      ]
     },
     "execution_count": 2,
     "metadata": {},
     "output_type": "execute_result"
    }
   ],
   "source": [
    "total_interest_7"
   ]
  },
  {
   "cell_type": "code",
   "execution_count": 4,
   "id": "464a47db-51ad-4536-a405-2ab7ac72151d",
   "metadata": {},
   "outputs": [],
   "source": [
    "total_interest_5 = 50000*.038*5"
   ]
  },
  {
   "cell_type": "code",
   "execution_count": 5,
   "id": "a5a73339-6d30-4d6a-a2a6-64d85bc4be32",
   "metadata": {},
   "outputs": [
    {
     "data": {
      "text/plain": [
       "9500.0"
      ]
     },
     "execution_count": 5,
     "metadata": {},
     "output_type": "execute_result"
    }
   ],
   "source": [
    "total_interest_5"
   ]
  },
  {
   "cell_type": "code",
   "execution_count": 7,
   "id": "f6bd6e32-77f0-45a5-92a1-af886431a7e1",
   "metadata": {},
   "outputs": [
    {
     "data": {
      "text/plain": [
       "59500"
      ]
     },
     "execution_count": 7,
     "metadata": {},
     "output_type": "execute_result"
    }
   ],
   "source": [
    "50000+9500"
   ]
  },
  {
   "cell_type": "code",
   "execution_count": 8,
   "id": "419d52ea-d293-4286-af4a-9b44656a8bb1",
   "metadata": {},
   "outputs": [
    {
     "data": {
      "text/plain": [
       "991.6666666666666"
      ]
     },
     "execution_count": 8,
     "metadata": {},
     "output_type": "execute_result"
    }
   ],
   "source": [
    "_/60"
   ]
  },
  {
   "cell_type": "code",
   "execution_count": 9,
   "id": "147bdfd6-bf2d-4e8b-8c23-c24ac77bf9d1",
   "metadata": {},
   "outputs": [
    {
     "data": {
      "text/plain": [
       "83300"
      ]
     },
     "execution_count": 9,
     "metadata": {},
     "output_type": "execute_result"
    }
   ],
   "source": [
    "13300 + 70000"
   ]
  },
  {
   "cell_type": "code",
   "execution_count": 10,
   "id": "aec858e4-8b91-454a-9720-bcf268abc70f",
   "metadata": {},
   "outputs": [
    {
     "data": {
      "text/plain": [
       "1388.3333333333333"
      ]
     },
     "execution_count": 10,
     "metadata": {},
     "output_type": "execute_result"
    }
   ],
   "source": [
    "_/60"
   ]
  },
  {
   "cell_type": "code",
   "execution_count": 13,
   "id": "2035ef2f-a3bf-4049-bffb-84a0b222871f",
   "metadata": {},
   "outputs": [
    {
     "data": {
      "text/plain": [
       "36560.0"
      ]
     },
     "execution_count": 13,
     "metadata": {},
     "output_type": "execute_result"
    }
   ],
   "source": [
    "30000 + 30000*5*.0384 +800"
   ]
  },
  {
   "cell_type": "code",
   "execution_count": 14,
   "id": "f789aa70-ebfd-4421-b09c-b8ef8102dade",
   "metadata": {},
   "outputs": [
    {
     "data": {
      "text/plain": [
       "609.3333333333334"
      ]
     },
     "execution_count": 14,
     "metadata": {},
     "output_type": "execute_result"
    }
   ],
   "source": [
    "_/60"
   ]
  },
  {
   "cell_type": "code",
   "execution_count": 16,
   "id": "4973321e-453e-47ed-b073-7d29cbaafc4f",
   "metadata": {},
   "outputs": [
    {
     "data": {
      "text/plain": [
       "85355.544"
      ]
     },
     "execution_count": 16,
     "metadata": {},
     "output_type": "execute_result"
    }
   ],
   "source": [
    "71607+71607*0.0384*5 #"
   ]
  },
  {
   "cell_type": "code",
   "execution_count": 17,
   "id": "0b2566b9-2f97-42a2-892b-8bb9a5067ed4",
   "metadata": {},
   "outputs": [
    {
     "data": {
      "text/plain": [
       "1422.5924"
      ]
     },
     "execution_count": 17,
     "metadata": {},
     "output_type": "execute_result"
    }
   ],
   "source": [
    "_/60"
   ]
  },
  {
   "cell_type": "code",
   "execution_count": null,
   "id": "0516a3f9-c08d-4425-b4b3-c9f2a7789114",
   "metadata": {},
   "outputs": [],
   "source": [
    "71607*0.0384*5 #70700"
   ]
  },
  {
   "cell_type": "code",
   "execution_count": 18,
   "id": "38424cf1-87b0-4faf-9a61-c4256c001624",
   "metadata": {},
   "outputs": [
    {
     "data": {
      "text/plain": [
       "907"
      ]
     },
     "execution_count": 18,
     "metadata": {},
     "output_type": "execute_result"
    }
   ],
   "source": [
    "71607 - 70700"
   ]
  },
  {
   "cell_type": "code",
   "execution_count": 19,
   "id": "4f831267-e769-46ea-acfa-c914d44279c1",
   "metadata": {},
   "outputs": [
    {
     "data": {
      "text/plain": [
       "946.4499999999999"
      ]
     },
     "execution_count": 19,
     "metadata": {},
     "output_type": "execute_result"
    }
   ],
   "source": [
    "823*1.15"
   ]
  },
  {
   "cell_type": "code",
   "execution_count": null,
   "id": "017259c8-91be-4987-91b7-49267fe5bc18",
   "metadata": {},
   "outputs": [],
   "source": []
  }
 ],
 "metadata": {
  "kernelspec": {
   "display_name": "Python 3 (ipykernel)",
   "language": "python",
   "name": "python3"
  },
  "language_info": {
   "codemirror_mode": {
    "name": "ipython",
    "version": 3
   },
   "file_extension": ".py",
   "mimetype": "text/x-python",
   "name": "python",
   "nbconvert_exporter": "python",
   "pygments_lexer": "ipython3",
   "version": "3.12.7"
  }
 },
 "nbformat": 4,
 "nbformat_minor": 5
}
