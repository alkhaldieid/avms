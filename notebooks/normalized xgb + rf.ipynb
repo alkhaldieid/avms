{
 "cells": [
  {
   "cell_type": "code",
   "execution_count": 3,
   "id": "51df3447-d1ed-493f-b068-14e2414aae85",
   "metadata": {},
   "outputs": [],
   "source": [
    "import pandas as pd"
   ]
  },
  {
   "cell_type": "code",
   "execution_count": 4,
   "id": "29db9ca8-7d4e-411f-a7b6-fa3cc802771c",
   "metadata": {},
   "outputs": [],
   "source": [
    "no_missing_merged_loc = pd.read_csv('clean_for_training.csv')\n",
    "no_missing_merged_loc.drop(columns='Unnamed: 0', inplace=True)"
   ]
  },
  {
   "cell_type": "code",
   "execution_count": 5,
   "id": "6a9045e3-318d-4cee-b909-4eef02dd5794",
   "metadata": {},
   "outputs": [
    {
     "name": "stdout",
     "output_type": "stream",
     "text": [
      "Training set (Base models): (97683, 51)\n",
      "Validation set (Meta-learner): (32561, 51)\n",
      "Test set: (32562, 51)\n"
     ]
    }
   ],
   "source": [
    "from sklearn.preprocessing import StandardScaler\n",
    "from sklearn.preprocessing import QuantileTransformer\n",
    "from sklearn.model_selection import train_test_split\n",
    "import pickle\n",
    "# Updated list of columns to normalize\n",
    "columns_to_normalize = [\n",
    "    \"rooms_en_imputed\", \"project_count\", \"landmark_count\", \"metro_count\", \n",
    "    \"mall_count\", \"Al Makhtoum International Airport\", \"Burj Al Arab\", \n",
    "    \"Burj Khalifa\", \"City Centre Mirdif\", \"Downtown Dubai\", \n",
    "    \"Dubai International Airport\", \"Dubai Mall\", \"Dubai Parks and Resorts\", \n",
    "    \"Expo 2020 Site\", \"Global Village\", \"Hamdan Sports Complex\", \n",
    "    \"IMG World Adventures\", \"Ibn-e-Battuta Mall\", \"Jabel Ali\", \n",
    "    \"Mall of the Emirates\", \"Marina Mall\", \"Motor City\", \"center\", \n",
    "    \"east\", \"north\", \"south\", \"west\", \n",
    "    \"transaction_datetime_month\", \"transaction_datetime_day\", \n",
    "    \"transaction_datetime_weekday\", \"transaction_datetime_dayofyear\", \n",
    "    \"req_from_month\", \"req_from_weekday\", \"req_from_dayofyear\", \n",
    "    \"req_to_month\", \"req_to_day\", \"req_to_weekday\", \"req_to_dayofyear\",\n",
    "    \"parking_count\"\n",
    "]\n",
    "\n",
    "# Initialize the scaler\n",
    "scaler = StandardScaler()\n",
    "\n",
    "# Apply normalization to the specified columns\n",
    "no_missing_merged_loc[columns_to_normalize] = scaler.fit_transform(no_missing_merged_loc[columns_to_normalize])\n",
    "# Define features (X) and target (y)\n",
    "X = no_missing_merged_loc.drop(columns=['amount'])  # Replace 'amount' with your target column if different\n",
    "y = no_missing_merged_loc['amount']\n",
    "\n",
    "# Split data into training and test sets\n",
    "X_train, X_test, y_train, y_test = train_test_split(X, y, test_size=0.2, random_state=42)\n",
    "\n",
    "# Further split training data for meta-learner (optional)\n",
    "X_train_base, X_val_meta, y_train_base, y_val_meta = train_test_split(X_train, y_train, test_size=0.25, random_state=42)\n",
    "\n",
    "# Initialize QuantileTransformers\n",
    "qt_amount = QuantileTransformer(output_distribution='normal', random_state=42)\n",
    "qt_size = QuantileTransformer(output_distribution='normal', random_state=42)\n",
    "\n",
    "# Fit transformers on training data\n",
    "# Fit qt_size on transaction and property sizes\n",
    "qt_size.fit(X_train[['transaction_size_sqm', 'property_size_sqm']])\n",
    "\n",
    "# Fit qt_amount on the entire `y_train` dataset\n",
    "qt_amount.fit(y_train.values.reshape(-1, 1))\n",
    "\n",
    "# Transform sizes in the training, validation, and test sets\n",
    "X_train_base[['transaction_size_sqm', 'property_size_sqm']] = qt_size.transform(\n",
    "    X_train_base[['transaction_size_sqm', 'property_size_sqm']]\n",
    ")\n",
    "X_val_meta[['transaction_size_sqm', 'property_size_sqm']] = qt_size.transform(\n",
    "    X_val_meta[['transaction_size_sqm', 'property_size_sqm']]\n",
    ")\n",
    "X_test[['transaction_size_sqm', 'property_size_sqm']] = qt_size.transform(\n",
    "    X_test[['transaction_size_sqm', 'property_size_sqm']]\n",
    ")\n",
    "\n",
    "# Transform target variable in the training, validation, and test sets\n",
    "y_train_base = qt_amount.transform(y_train_base.values.reshape(-1, 1)).flatten()\n",
    "y_val_meta = qt_amount.transform(y_val_meta.values.reshape(-1, 1)).flatten()\n",
    "y_test = qt_amount.transform(y_test.values.reshape(-1, 1)).flatten()\n",
    "\n",
    "# Save the transformers for later use\n",
    "with open(\"qt_amount.pkl\", \"wb\") as f:\n",
    "    pickle.dump(qt_amount, f)\n",
    "with open(\"qt_size.pkl\", \"wb\") as f:\n",
    "    pickle.dump(qt_size, f)\n",
    "\n",
    "# Print dataset sizes\n",
    "print(f\"Training set (Base models): {X_train_base.shape}\")\n",
    "print(f\"Validation set (Meta-learner): {X_val_meta.shape}\")\n",
    "print(f\"Test set: {X_test.shape}\")"
   ]
  },
  {
   "cell_type": "code",
   "execution_count": 7,
   "id": "abd82282-b4f1-4e27-ae9d-5d74e19b8aad",
   "metadata": {},
   "outputs": [],
   "source": [
    "from tqdm.notebook import tqdm"
   ]
  },
  {
   "cell_type": "code",
   "execution_count": 10,
   "id": "1a0a6a82-9c96-4580-baad-1262d4a23112",
   "metadata": {},
   "outputs": [
    {
     "ename": "ModuleNotFoundError",
     "evalue": "No module named 'cupy'",
     "output_type": "error",
     "traceback": [
      "\u001b[0;31m---------------------------------------------------------------------------\u001b[0m",
      "\u001b[0;31mModuleNotFoundError\u001b[0m                       Traceback (most recent call last)",
      "Cell \u001b[0;32mIn[10], line 6\u001b[0m\n\u001b[1;32m      4\u001b[0m \u001b[38;5;28;01mfrom\u001b[39;00m \u001b[38;5;21;01msklearn\u001b[39;00m\u001b[38;5;21;01m.\u001b[39;00m\u001b[38;5;21;01mmodel_selection\u001b[39;00m \u001b[38;5;28;01mimport\u001b[39;00m cross_val_score, KFold\n\u001b[1;32m      5\u001b[0m \u001b[38;5;28;01mimport\u001b[39;00m \u001b[38;5;21;01mnumpy\u001b[39;00m \u001b[38;5;28;01mas\u001b[39;00m \u001b[38;5;21;01mnp\u001b[39;00m\n\u001b[0;32m----> 6\u001b[0m \u001b[38;5;28;01mimport\u001b[39;00m \u001b[38;5;21;01mcupy\u001b[39;00m\n\u001b[1;32m      7\u001b[0m \u001b[38;5;66;03m# Define XGBoost optimization with GPU support and cross-validation\u001b[39;00m\n\u001b[1;32m      8\u001b[0m \u001b[38;5;28;01mdef\u001b[39;00m \u001b[38;5;21moptimize_xgboost\u001b[39m(trial, X_train, y_train):\n",
      "\u001b[0;31mModuleNotFoundError\u001b[0m: No module named 'cupy'"
     ]
    }
   ],
   "source": [
    "import optuna\n",
    "from sklearn.ensemble import RandomForestRegressor\n",
    "from xgboost import XGBRegressor\n",
    "from sklearn.model_selection import cross_val_score, KFold\n",
    "import numpy as np\n",
    "import cupy\n",
    "# Define XGBoost optimization with GPU support and cross-validation\n",
    "def optimize_xgboost(trial, X_train, y_train):\n",
    "    params = {\n",
    "        \"n_estimators\": trial.suggest_int(\"n_estimators\", 100, 500),\n",
    "        \"max_depth\": trial.suggest_int(\"max_depth\", 3, 12),\n",
    "        \"learning_rate\": trial.suggest_float(\"learning_rate\", 0.01, 0.3, log=True),\n",
    "        \"subsample\": trial.suggest_float(\"subsample\", 0.6, 1.0),\n",
    "        \"tree_method\": \"hist\",  # Use \"hist\" for GPU\n",
    "        \"device\": \"cuda\"  # Specify CUDA device for GPU training\n",
    "    }\n",
    "    model = XGBRegressor(**params, random_state=42)\n",
    "\n",
    "    # 5-fold cross-validation\n",
    "    kf = KFold(n_splits=5, shuffle=True, random_state=42)\n",
    "    scores = cross_val_score(model, cupy.array(X_train), y_train, cv=kf, scoring=\"r2\", n_jobs=-1)\n",
    "    return np.mean(scores)  # Return the average R2 score\n",
    "\n",
    "# Define Random Forest optimization with cross-validation\n",
    "def optimize_random_forest(trial, X_train, y_train):\n",
    "    params = {\n",
    "        \"n_estimators\": trial.suggest_int(\"n_estimators\", 100, 500),\n",
    "        \"max_depth\": trial.suggest_int(\"max_depth\", 3, 20),\n",
    "        \"min_samples_split\": trial.suggest_int(\"min_samples_split\", 2, 20),\n",
    "        \"n_jobs\": -1  # Enable parallel processing\n",
    "    }\n",
    "    model = RandomForestRegressor(**params, random_state=42)\n",
    "\n",
    "    # 5-fold cross-validation\n",
    "    kf = KFold(n_splits=5, shuffle=True, random_state=42)\n",
    "    scores = cross_val_score(model, X_train, y_train, cv=kf, scoring=\"r2\", n_jobs=-1)\n",
    "    return np.mean(scores)  # Return the average R2 score\n",
    "\n",
    "# Define optimization function\n",
    "def optimize_model(optimize_func, X_train, y_train, n_trials=20):\n",
    "    def objective(trial):\n",
    "        return optimize_func(trial, X_train, y_train)\n",
    "\n",
    "    study = optuna.create_study(direction=\"maximize\")\n",
    "    study.optimize(objective, n_trials=n_trials, n_jobs=-1)  # Enable parallel optimization\n",
    "    return study.best_params\n",
    "\n",
    "# Example usage with your dataset\n",
    "# Assuming X_train_base and y_train_base are defined\n",
    "print(\"Optimizing XGBoost...\")\n",
    "best_params_xgb = optimize_model(optimize_xgboost, X_train_base, y_train_base)\n",
    "print(\"Best parameters for XGBoost:\", best_params_xgb)\n",
    "\n",
    "print(\"Optimizing Random Forest...\")\n",
    "best_params_rf = optimize_model(optimize_random_forest, X_train_base, y_train_base)\n",
    "print(\"Best parameters for Random Forest:\", best_params_rf)"
   ]
  },
  {
   "cell_type": "code",
   "execution_count": null,
   "id": "0f270147-ea2b-454f-ba1b-635718cbcf54",
   "metadata": {},
   "outputs": [],
   "source": []
  }
 ],
 "metadata": {
  "kernelspec": {
   "display_name": "Python 3 (ipykernel)",
   "language": "python",
   "name": "python3"
  },
  "language_info": {
   "codemirror_mode": {
    "name": "ipython",
    "version": 3
   },
   "file_extension": ".py",
   "mimetype": "text/x-python",
   "name": "python",
   "nbconvert_exporter": "python",
   "pygments_lexer": "ipython3",
   "version": "3.13.0"
  }
 },
 "nbformat": 4,
 "nbformat_minor": 5
}
